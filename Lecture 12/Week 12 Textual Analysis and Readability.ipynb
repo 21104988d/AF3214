{
 "cells": [
  {
   "cell_type": "markdown",
   "metadata": {},
   "source": [
    "# AF3214\n",
    "# Week 12. Textual Analysis and Readability"
   ]
  },
  {
   "cell_type": "markdown",
   "metadata": {},
   "source": [
    "----------------------"
   ]
  },
  {
   "cell_type": "markdown",
   "metadata": {},
   "source": [
    "## Learn how to process PDF files using Python"
   ]
  },
  {
   "cell_type": "markdown",
   "metadata": {},
   "source": [
    "Read https://www.geeksforgeeks.org/working-with-pdf-files-in-python/"
   ]
  },
  {
   "cell_type": "markdown",
   "metadata": {},
   "source": [
    "### Obtain PDF files of academic papers\n",
    "\n",
    "Manually download the following 4 academic papers written by the author of this Jupyter Notebook and save these 4 PDF files in your local computer:   \n",
    "(1) https://papers.ssrn.com/sol3/papers.cfm?abstract_id=3694637    \n",
    "(2) https://papers.ssrn.com/sol3/papers.cfm?abstract_id=3410538    \n",
    "(3) https://papers.ssrn.com/sol3/papers.cfm?abstract_id=3209449    \n",
    "(4) https://papers.ssrn.com/sol3/papers.cfm?abstract_id=2625975"
   ]
  },
  {
   "cell_type": "markdown",
   "metadata": {},
   "source": [
    "### Obtain number of pages from PDF files"
   ]
  },
  {
   "cell_type": "code",
   "execution_count": null,
   "metadata": {},
   "outputs": [],
   "source": [
    "!pip install PyPDF2==2.12.1"
   ]
  },
  {
   "cell_type": "code",
   "execution_count": null,
   "metadata": {},
   "outputs": [],
   "source": [
    "from PyPDF2 import PdfReader"
   ]
  },
  {
   "cell_type": "code",
   "execution_count": null,
   "metadata": {},
   "outputs": [],
   "source": [
    "pdf1 = PdfReader(\"SSRN-id3694637.pdf\")\n",
    "pdf1_pages = len(pdf1.pages)\n",
    "print(\"Number of Pages: \" + str(pdf1_pages))"
   ]
  },
  {
   "cell_type": "code",
   "execution_count": null,
   "metadata": {},
   "outputs": [],
   "source": [
    "pdf2 = PdfReader(\"SSRN-id3410538.pdf\")\n",
    "pdf2_pages = len(pdf2.pages)\n",
    "print(\"Number of Pages: \" + str(pdf2_pages))"
   ]
  },
  {
   "cell_type": "code",
   "execution_count": null,
   "metadata": {},
   "outputs": [],
   "source": [
    "pdf3 = PdfReader(\"SSRN-id3209449.pdf\")\n",
    "pdf3_pages = len(pdf3.pages)\n",
    "print(\"Number of Pages: \" + str(pdf3_pages))"
   ]
  },
  {
   "cell_type": "code",
   "execution_count": null,
   "metadata": {},
   "outputs": [],
   "source": [
    "pdf4 = PdfReader(\"SSRN-id2625975.pdf\")\n",
    "pdf4_pages = len(pdf4.pages)\n",
    "print(\"Number of Pages: \" + str(pdf4_pages))"
   ]
  },
  {
   "cell_type": "markdown",
   "metadata": {},
   "source": [
    "### Obtain text from PDF files"
   ]
  },
  {
   "cell_type": "code",
   "execution_count": null,
   "metadata": {
    "scrolled": true
   },
   "outputs": [],
   "source": [
    "# if we want to do the readbility for more than 1 page, use the loop function to do this\n",
    "pdf1_page1 = pdf1.pages[0]\n",
    "pdf1_page1_text = pdf1_page1.extract_text()\n",
    "print(\"Text on Page 1: \" + pdf1_page1_text)"
   ]
  },
  {
   "cell_type": "code",
   "execution_count": null,
   "metadata": {
    "scrolled": true
   },
   "outputs": [],
   "source": [
    "pdf2_page1 = pdf2.pages[0]\n",
    "pdf2_page1_text = pdf2_page1.extract_text()\n",
    "print(\"Text on Page 1: \" + pdf2_page1_text)"
   ]
  },
  {
   "cell_type": "code",
   "execution_count": null,
   "metadata": {},
   "outputs": [],
   "source": [
    "pdf3_page1 = pdf3.pages[0]\n",
    "pdf3_page1_text = pdf3_page1.extract_text()\n",
    "print(\"Text on Page 1: \" + pdf3_page1_text)"
   ]
  },
  {
   "cell_type": "code",
   "execution_count": null,
   "metadata": {},
   "outputs": [],
   "source": [
    "pdf4_page1 = pdf4.pages[0]\n",
    "pdf4_page1_text = pdf4_page1.extract_text()\n",
    "print(\"Text on Page 1: \" + pdf4_page1_text)"
   ]
  },
  {
   "cell_type": "markdown",
   "metadata": {},
   "source": [
    "### Compute readability"
   ]
  },
  {
   "cell_type": "markdown",
   "metadata": {},
   "source": [
    "Read https://pypi.org/project/textstat/ and https://en.wikipedia.org/wiki/Gunning_fog_index"
   ]
  },
  {
   "cell_type": "code",
   "execution_count": null,
   "metadata": {},
   "outputs": [],
   "source": [
    "!pip install textstat"
   ]
  },
  {
   "cell_type": "code",
   "execution_count": null,
   "metadata": {},
   "outputs": [],
   "source": [
    "import textstat"
   ]
  },
  {
   "cell_type": "code",
   "execution_count": null,
   "metadata": {},
   "outputs": [],
   "source": [
    "readability = textstat.gunning_fog(pdf1_page1_text)\n",
    "readability"
   ]
  },
  {
   "cell_type": "code",
   "execution_count": null,
   "metadata": {},
   "outputs": [],
   "source": [
    "readability = textstat.gunning_fog(pdf2_page1_text)\n",
    "readability"
   ]
  },
  {
   "cell_type": "code",
   "execution_count": null,
   "metadata": {},
   "outputs": [],
   "source": [
    "readability = textstat.gunning_fog(pdf3_page1_text)\n",
    "readability"
   ]
  },
  {
   "cell_type": "code",
   "execution_count": null,
   "metadata": {},
   "outputs": [],
   "source": [
    "readability = textstat.gunning_fog(pdf4_page1_text)\n",
    "readability"
   ]
  },
  {
   "cell_type": "markdown",
   "metadata": {},
   "source": [
    "### Try another Python package to process PDF files\n",
    "\n",
    "Read https://pdfminersix.readthedocs.io/en/latest/index.html"
   ]
  },
  {
   "cell_type": "markdown",
   "metadata": {},
   "source": [
    "### Converting a PDF file to text\n",
    "Read https://pdfminersix.readthedocs.io/en/latest/topic/converting_pdf_to_text.html"
   ]
  },
  {
   "cell_type": "code",
   "execution_count": null,
   "metadata": {},
   "outputs": [],
   "source": [
    "!pip install pdfminer.six"
   ]
  },
  {
   "cell_type": "markdown",
   "metadata": {},
   "source": [
    "### extract_text   \n",
    "The most simple way to extract text from a PDF is to use extract_text:"
   ]
  },
  {
   "cell_type": "code",
   "execution_count": null,
   "metadata": {},
   "outputs": [],
   "source": [
    "from pdfminer.high_level import extract_text"
   ]
  },
  {
   "cell_type": "code",
   "execution_count": null,
   "metadata": {},
   "outputs": [],
   "source": [
    "pdf1 = extract_text(\"SSRN-id2625975.pdf\")\n",
    "pdf1"
   ]
  },
  {
   "cell_type": "code",
   "execution_count": null,
   "metadata": {},
   "outputs": [],
   "source": [
    "readability = textstat.gunning_fog(pdf1)\n",
    "readability"
   ]
  },
  {
   "cell_type": "markdown",
   "metadata": {},
   "source": [
    "-----------------------"
   ]
  },
  {
   "cell_type": "markdown",
   "metadata": {},
   "source": [
    "# Additional Coding: use loops to obtain all pages in PDF files"
   ]
  },
  {
   "cell_type": "markdown",
   "metadata": {},
   "source": [
    "## Readability of Text"
   ]
  },
  {
   "cell_type": "markdown",
   "metadata": {},
   "source": [
    "## Annual report\n",
    "\n",
    "### Please download the most recent annual report in the PDF format filed by Apple at https://investor.apple.com/sec-filings/default.aspx, show the total number of pages, compute the readability of all pages of this PDF file, and show the readability result."
   ]
  },
  {
   "cell_type": "code",
   "execution_count": null,
   "metadata": {},
   "outputs": [],
   "source": [
    "from PyPDF2 import PdfReader\n",
    "\n",
    "apple = PdfReader(\"aapl2024.pdf\")\n",
    "number_of_pages = len(apple.pages)\n",
    "\n",
    "# We use loops to obtain all pages and put them in a list\n",
    "apple_allpages = []\n",
    "for i in range(number_of_pages):\n",
    "    page = apple.pages[i]\n",
    "    apple_allpages.append(page.extractText())\n",
    "print(apple_allpages)\n",
    "\n",
    "# Using join() method to concatenate items in a list to a single string \n",
    "apple_allpages2 = \" \".join(apple_allpages)\n",
    "apple_allpages2"
   ]
  },
  {
   "cell_type": "code",
   "execution_count": null,
   "metadata": {},
   "outputs": [],
   "source": [
    "# Compute readability for all pages\n",
    "\n",
    "import textstat\n",
    "\n",
    "readability = textstat.gunning_fog(apple_allpages2)\n",
    "readability"
   ]
  }
 ],
 "metadata": {
  "kernelspec": {
   "display_name": "Python 3",
   "language": "python",
   "name": "python3"
  },
  "language_info": {
   "codemirror_mode": {
    "name": "ipython",
    "version": 3
   },
   "file_extension": ".py",
   "mimetype": "text/x-python",
   "name": "python",
   "nbconvert_exporter": "python",
   "pygments_lexer": "ipython3",
   "version": "3.11.5"
  }
 },
 "nbformat": 4,
 "nbformat_minor": 4
}
