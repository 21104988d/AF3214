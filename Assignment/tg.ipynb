{
 "cells": [
  {
   "cell_type": "code",
   "execution_count": 16,
   "metadata": {},
   "outputs": [],
   "source": [
    "import requests\n",
    "import time\n",
    "import csv\n",
    "from datetime import datetime\n"
   ]
  },
  {
   "cell_type": "code",
   "execution_count": 17,
   "metadata": {},
   "outputs": [],
   "source": [
    "def send_telegram_message(message):\n",
    "    # Replace 'your_bot_token' and 'your_chat_id' with actual values\n",
    "    bot_token = \"7736940759:AAHTTMKKHJXh3atC2xDgxxKt7iFSdhrqNes\"\n",
    "    chat_id = \"266564928\"\n",
    "    url = f\"https://api.telegram.org/bot{bot_token}/sendMessage\"\n",
    "    payload = {\"chat_id\": chat_id, \"text\": message}\n",
    "    try:\n",
    "        response = requests.post(url, json=payload)\n",
    "        response.raise_for_status()\n",
    "    except requests.RequestException as e:\n",
    "        print(f\"Failed to send message: {e}\")"
   ]
  },
  {
   "cell_type": "code",
   "execution_count": 27,
   "metadata": {},
   "outputs": [],
   "source": [
    "processed_message_ids = set()\n",
    "\n",
    "def receive_telegram_messages():\n",
    "    # Replace 'your_bot_token' with the actual bot token\n",
    "    bot_token = \"7736940759:AAHTTMKKHJXh3atC2xDgxxKt7iFSdhrqNes\"\n",
    "    url = f\"https://api.telegram.org/bot{bot_token}/getUpdates\"\n",
    "    try:\n",
    "        response = requests.get(url)\n",
    "        response.raise_for_status()\n",
    "        updates = response.json()\n",
    "        if \"result\" in updates:\n",
    "            messages = updates[\"result\"]\n",
    "            new_messages = [message for message in messages if message[\"message\"][\"message_id\"] not in processed_message_ids]\n",
    "            \n",
    "            if new_messages:\n",
    "                with open(\"telegram_messages.csv\", mode=\"a\", newline=\"\", encoding=\"utf-8\") as file:\n",
    "                    writer = csv.writer(file)\n",
    "                    # Write header if the file is empty\n",
    "                    if file.tell() == 0:\n",
    "                        writer.writerow([\"Receive ID\", \"Time\", \"Message\"])\n",
    "                    for message in new_messages:\n",
    "                        if \"message\" in message:\n",
    "                            receive_id = message[\"message\"][\"message_id\"]\n",
    "                            timestamp = datetime.fromtimestamp(message[\"message\"][\"date\"]).strftime('%Y-%m-%d %H:%M:%S')\n",
    "                            text = message[\"message\"].get(\"text\", \"\")\n",
    "                            writer.writerow([receive_id, timestamp, text])\n",
    "                            processed_message_ids.add(receive_id)\n",
    "            return new_messages\n",
    "        else:\n",
    "            print(\"No messages found.\")\n",
    "            return []\n",
    "    except requests.RequestException as e:\n",
    "        print(f\"Failed to receive messages: {e}\")\n",
    "        return []"
   ]
  },
  {
   "cell_type": "code",
   "execution_count": 26,
   "metadata": {},
   "outputs": [
    {
     "name": "stdout",
     "output_type": "stream",
     "text": [
      "Messages received and saved to 'telegram_messages.csv'.\n",
      "Messages received and saved to 'telegram_messages.csv'.\n",
      "Messages received and saved to 'telegram_messages.csv'.\n"
     ]
    },
    {
     "ename": "KeyboardInterrupt",
     "evalue": "",
     "output_type": "error",
     "traceback": [
      "\u001b[0;31m---------------------------------------------------------------------------\u001b[0m",
      "\u001b[0;31mKeyboardInterrupt\u001b[0m                         Traceback (most recent call last)",
      "Cell \u001b[0;32mIn[26], line 9\u001b[0m\n\u001b[1;32m      6\u001b[0m     \u001b[38;5;28mprint\u001b[39m(\u001b[38;5;124m\"\u001b[39m\u001b[38;5;124mMessages received and saved to \u001b[39m\u001b[38;5;124m'\u001b[39m\u001b[38;5;124mtelegram_messages.csv\u001b[39m\u001b[38;5;124m'\u001b[39m\u001b[38;5;124m.\u001b[39m\u001b[38;5;124m\"\u001b[39m)\n\u001b[1;32m      8\u001b[0m \u001b[38;5;66;03m# Wait for 3 seconds before refreshing\u001b[39;00m\n\u001b[0;32m----> 9\u001b[0m \u001b[43mtime\u001b[49m\u001b[38;5;241;43m.\u001b[39;49m\u001b[43msleep\u001b[49m\u001b[43m(\u001b[49m\u001b[38;5;241;43m3\u001b[39;49m\u001b[43m)\u001b[49m\n",
      "\u001b[0;31mKeyboardInterrupt\u001b[0m: "
     ]
    }
   ],
   "source": [
    "if __name__ == \"__main__\":\n",
    "    send_telegram_message(\"Hello, this is a test message from the bot!\")\n",
    "    while True:\n",
    "        messages = receive_telegram_messages()\n",
    "        if messages:\n",
    "            print(\"Messages received and saved to 'telegram_messages.csv'.\")\n",
    "        \n",
    "        # Wait for 3 seconds before refreshing\n",
    "        time.sleep(3)"
   ]
  }
 ],
 "metadata": {
  "kernelspec": {
   "display_name": "Python 3",
   "language": "python",
   "name": "python3"
  },
  "language_info": {
   "codemirror_mode": {
    "name": "ipython",
    "version": 3
   },
   "file_extension": ".py",
   "mimetype": "text/x-python",
   "name": "python",
   "nbconvert_exporter": "python",
   "pygments_lexer": "ipython3",
   "version": "3.13.0"
  }
 },
 "nbformat": 4,
 "nbformat_minor": 2
}
