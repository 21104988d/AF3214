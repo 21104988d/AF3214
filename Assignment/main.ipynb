{
 "cells": [
  {
   "cell_type": "code",
   "execution_count": 17,
   "metadata": {},
   "outputs": [],
   "source": [
    "import time"
   ]
  },
  {
   "cell_type": "code",
   "execution_count": 19,
   "metadata": {},
   "outputs": [],
   "source": [
    "%run 'tg.py'\n",
    "%run 'llm.py'\n",
    "%run 'wallet.py'"
   ]
  },
  {
   "cell_type": "code",
   "execution_count": null,
   "metadata": {},
   "outputs": [
    {
     "ename": "KeyboardInterrupt",
     "evalue": "",
     "output_type": "error",
     "traceback": [
      "\u001b[0;31m---------------------------------------------------------------------------\u001b[0m",
      "\u001b[0;31mKeyboardInterrupt\u001b[0m                         Traceback (most recent call last)",
      "Cell \u001b[0;32mIn[25], line 7\u001b[0m\n\u001b[1;32m      5\u001b[0m \u001b[38;5;28;01mwhile\u001b[39;00m \u001b[38;5;129;01mnot\u001b[39;00m messages:\n\u001b[1;32m      6\u001b[0m     messages \u001b[38;5;241m=\u001b[39m receive_telegram_messages()\n\u001b[0;32m----> 7\u001b[0m     \u001b[43mtime\u001b[49m\u001b[38;5;241;43m.\u001b[39;49m\u001b[43msleep\u001b[49m\u001b[43m(\u001b[49m\u001b[38;5;241;43m1\u001b[39;49m\u001b[43m)\u001b[49m\n\u001b[1;32m      9\u001b[0m send_telegram_message(\u001b[38;5;124m'\u001b[39m\u001b[38;5;124mPlease wait...\u001b[39m\u001b[38;5;124m'\u001b[39m)\n\u001b[1;32m     10\u001b[0m action \u001b[38;5;241m=\u001b[39m user_action()\n",
      "\u001b[0;31mKeyboardInterrupt\u001b[0m: "
     ]
    }
   ],
   "source": [
    "if __name__ == \"__main__\":\n",
    "    send_telegram_message(\"Hello, this is a test message from the bot!\")\n",
    "    while True:\n",
    "        messages = None\n",
    "        while not messages:\n",
    "            messages = receive_telegram_messages()\n",
    "            time.sleep(1)\n",
    "        \n",
    "        send_telegram_message('Please wait...')\n",
    "        action = user_action()\n",
    "        if action == 'transaction' or action == 'transaction.':\n",
    "            amount = extract()\n",
    "            amount_send = send_tran(int(amount))\n",
    "            send_telegram_message(f\"Transaction successful! Amount sent: {amount_send}\")\n",
    "            balance = balance()\n",
    "            send_telegram_message(f\"Your remaining balance is: {balance}\")\n",
    "        else:\n",
    "            send_telegram_message(\"Error the program could only process transactions. Please try again.\")"
   ]
  }
 ],
 "metadata": {
  "kernelspec": {
   "display_name": "Python 3",
   "language": "python",
   "name": "python3"
  },
  "language_info": {
   "codemirror_mode": {
    "name": "ipython",
    "version": 3
   },
   "file_extension": ".py",
   "mimetype": "text/x-python",
   "name": "python",
   "nbconvert_exporter": "python",
   "pygments_lexer": "ipython3",
   "version": "3.13.0"
  }
 },
 "nbformat": 4,
 "nbformat_minor": 2
}
