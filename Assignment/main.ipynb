{
 "cells": [
  {
   "cell_type": "markdown",
   "metadata": {},
   "source": [
    "Name: Lee Isaac Kai Yui\n",
    "SID: 21104988d\n",
    "Title: Derive the future transaction system"
   ]
  },
  {
   "cell_type": "code",
   "execution_count": 2,
   "metadata": {},
   "outputs": [],
   "source": [
    "import time"
   ]
  },
  {
   "cell_type": "code",
   "execution_count": 3,
   "metadata": {},
   "outputs": [],
   "source": [
    "%run 'tg.py'\n",
    "%run 'llm.py'\n",
    "%run 'wallet.py'"
   ]
  },
  {
   "cell_type": "code",
   "execution_count": null,
   "metadata": {},
   "outputs": [
    {
     "name": "stdout",
     "output_type": "stream",
     "text": [
      "Failed to receive messages.\n",
      "Failed to receive messages.\n"
     ]
    }
   ],
   "source": [
    "messages = None\n",
    "if __name__ == \"__main__\":\n",
    "    send_telegram_message(\"Hello, this bot is used to send transaction on the blockchain!\")\n",
    "    while True:\n",
    "        messages = None\n",
    "        while not messages:\n",
    "            messages = receive_telegram_messages()\n",
    "            time.sleep(1)\n",
    "        \n",
    "        send_telegram_message('Please wait...')\n",
    "        action = user_action()\n",
    "        if action == 'transaction' or action == 'transaction.':\n",
    "            amount = extract_amount()\n",
    "            receiver = extract_receiver()\n",
    "                \n",
    "            try:\n",
    "                amount_send = send_tran(int(amount), receiver)\n",
    "                send_telegram_message(f\"Transaction successful! {amount_send} is sent to {receiver}\")\n",
    "                balance = get_balance() * 1000000000000000000\n",
    "                send_telegram_message(f\"Your remaining balance is: {int(balance)}\")\n",
    "            except:\n",
    "                send_telegram_message(\"Error: Invalid receiver. Please try again.\")\n",
    "                continue\n",
    "      \n",
    "        else:\n",
    "            send_telegram_message(\"Error the program could only process transactions.\")\n",
    "            send_telegram_message(\"Please try again.\")"
   ]
  }
 ],
 "metadata": {
  "kernelspec": {
   "display_name": "Python 3",
   "language": "python",
   "name": "python3"
  },
  "language_info": {
   "codemirror_mode": {
    "name": "ipython",
    "version": 3
   },
   "file_extension": ".py",
   "mimetype": "text/x-python",
   "name": "python",
   "nbconvert_exporter": "python",
   "pygments_lexer": "ipython3",
   "version": "3.13.0"
  }
 },
 "nbformat": 4,
 "nbformat_minor": 2
}
