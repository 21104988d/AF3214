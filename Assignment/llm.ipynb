{
 "cells": [
  {
   "cell_type": "code",
   "execution_count": 1,
   "metadata": {},
   "outputs": [
    {
     "name": "stdout",
     "output_type": "stream",
     "text": [
      "Note: you may need to restart the kernel to use updated packages.\n"
     ]
    },
    {
     "name": "stderr",
     "output_type": "stream",
     "text": [
      "ERROR: Could not find a version that satisfies the requirement langchain_core.documnet (from versions: none)\n",
      "ERROR: No matching distribution found for langchain_core.documnet\n"
     ]
    }
   ],
   "source": [
    "%pip install langchain_core.documnet"
   ]
  },
  {
   "cell_type": "code",
   "execution_count": 1,
   "metadata": {},
   "outputs": [],
   "source": [
    "from langchain_ollama.llms import OllamaLLM\n",
    "from langchain_core.prompts import ChatPromptTemplate"
   ]
  },
  {
   "cell_type": "code",
   "execution_count": null,
   "metadata": {},
   "outputs": [
    {
     "name": "stdout",
     "output_type": "stream",
     "text": [
      "transaction\n"
     ]
    }
   ],
   "source": [
    "model = OllamaLLM(model=\"llama3.2\")\n",
    "\n",
    "template = \"\"\"\n",
    "You are an assistant of a bank to analyze what the client is going to do.\n",
    "\n",
    "Here are some historial conversations with the client: {chat_history}\n",
    "Here is the contact information of the client: {contact_info}\n",
    "Here is the new conversation with the client: {new_conversation}\n",
    "\n",
    "Please analyze the new conversation and answer me the action of the client.\n",
    "\n",
    "You only need to answer with one word, choosing from:\n",
    "transaction: the client is going to do a transaction\n",
    "info: the client is going to adjust its contact information\n",
    "error: the clinet is going to do something else which is not trasaction or info\n",
    "\"\"\"\n",
    "\n",
    "prompt = ChatPromptTemplate.from_template(template)\n",
    "chain = prompt | model\n",
    "\n",
    "question = \"Test\"\n",
    "\n",
    "result = chain.invoke({\"chat_history\":[],\n",
    "                       \"contact_info\":[],\n",
    "                       \"new_conversation\": question})\n",
    "\n",
    "print(result)"
   ]
  }
 ],
 "metadata": {
  "kernelspec": {
   "display_name": "base",
   "language": "python",
   "name": "python3"
  },
  "language_info": {
   "codemirror_mode": {
    "name": "ipython",
    "version": 3
   },
   "file_extension": ".py",
   "mimetype": "text/x-python",
   "name": "python",
   "nbconvert_exporter": "python",
   "pygments_lexer": "ipython3",
   "version": "3.12.7"
  }
 },
 "nbformat": 4,
 "nbformat_minor": 2
}
