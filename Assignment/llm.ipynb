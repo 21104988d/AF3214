{
 "cells": [
  {
   "cell_type": "code",
   "execution_count": 20,
   "metadata": {},
   "outputs": [],
   "source": [
    "from langchain_ollama.llms import OllamaLLM\n",
    "from langchain_core.prompts import ChatPromptTemplate\n",
    "import pandas as pd\n",
    "import csv\n",
    "from datetime import datetime\n"
   ]
  },
  {
   "cell_type": "code",
   "execution_count": null,
   "metadata": {},
   "outputs": [],
   "source": [
    "model = OllamaLLM(model=\"llama3.2\")\n",
    "\n",
    "template = \"\"\"\n",
    "You are an assistant of a bank to analyze what the client is going to do.\n",
    "\n",
    "Here are some historial conversations with the client: {chat_history}\n",
    "Here is the contact information of the client: {contact_info}\n",
    "Here is the new conversation with the client: {new_conversation}\n",
    "\n",
    "Please analyze the new conversation and answer me the action of the client.\n",
    "\n",
    "You only need to answer with one word, choosing from:\n",
    "transaction: the client is going to do a transaction\n",
    "info: the client is going to adjust its contact information\n",
    "error: the clinet is going to do something else which is not trasaction or info\n",
    "\"\"\"\n",
    "\n",
    "prompt = ChatPromptTemplate.from_template(template)\n",
    "chain = prompt | model\n",
    "\n",
    "tg_messages = pd.read_csv(\"telegram_messages.csv\")\n",
    "history = pd.read_csv(\"llm_history.csv\")\n",
    "question = tg_messages.iloc[-1]['Message']\n",
    "\n",
    "result = chain.invoke({\"chat_history\": history,\n",
    "                       \"contact_info\":[],\n",
    "                       \"new_conversation\": question})\n",
    "\n",
    "with open(\"llm_history.csv\", mode=\"a\", newline=\"\", encoding=\"utf-8\") as file:\n",
    "    writer = csv.writer(file)\n",
    "    if tg_messages.iloc[-1]['Receive ID'] not in history['Receive ID'].values:\n",
    "        receive_id = tg_messages.iloc[-1]['Receive ID']\n",
    "        text = question\n",
    "        action = result\n",
    "        writer.writerow([receive_id, text, action])"
   ]
  }
 ],
 "metadata": {
  "kernelspec": {
   "display_name": "Python 3",
   "language": "python",
   "name": "python3"
  },
  "language_info": {
   "codemirror_mode": {
    "name": "ipython",
    "version": 3
   },
   "file_extension": ".py",
   "mimetype": "text/x-python",
   "name": "python",
   "nbconvert_exporter": "python",
   "pygments_lexer": "ipython3",
   "version": "3.13.0"
  }
 },
 "nbformat": 4,
 "nbformat_minor": 2
}
