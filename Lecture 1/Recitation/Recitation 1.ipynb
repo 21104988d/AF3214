{
 "cells": [
  {
   "cell_type": "markdown",
   "metadata": {},
   "source": [
    "# Recitation 1 for AF3214\n",
    "# Semester 2, 2024/25"
   ]
  },
  {
   "cell_type": "markdown",
   "metadata": {},
   "source": [
    "# Problem 1: Single path of execution"
   ]
  },
  {
   "cell_type": "code",
   "execution_count": null,
   "metadata": {},
   "outputs": [],
   "source": [
    "################ Input ######################\n",
    "\n",
    "amount = float(input ('Amount? ')) \n",
    "rate = float(input ('Interest rate? '))\n",
    "\n",
    "# Notes: The Python float() method converts a number stored in a string or integer into a floating point number, \n",
    "# or a number with a decimal point.\n",
    "\n",
    "################ Input ######################\n",
    "\n",
    "\n",
    "################ Process ####################\n",
    "\n",
    "interest = amount * rate\n",
    "\n",
    "################ Process ####################\n",
    "\n",
    "\n",
    "################ output #####################\n",
    "\n",
    "print ('The annual interest is: ', interest)\n",
    "\n",
    "################ output #####################"
   ]
  },
  {
   "cell_type": "markdown",
   "metadata": {},
   "source": [
    "# Problem 2: Divergent path of execution (if-then-else)"
   ]
  },
  {
   "cell_type": "code",
   "execution_count": null,
   "metadata": {},
   "outputs": [],
   "source": [
    "################ Input ######################\n",
    "\n",
    "amount = float(input ('Amount? '))\n",
    "rate = float(input ('Interest rate? '))\n",
    "interestType = input ('annual or monthly or daily? ')\n",
    "\n",
    "################ Input ######################\n",
    "\n",
    "\n",
    "\n",
    "################ Process ####################\n",
    "\n",
    "if interestType == 'annual':\n",
    "    interest = amount * rate\n",
    "elif interestType == 'monthly':\n",
    "    interest = amount * rate / 12\n",
    "elif interestType == 'daily':\n",
    "    interest = amount * rate / 360\n",
    "else:\n",
    "    print(\"Please enter the correct word.\")\n",
    "\n",
    "################ Process ####################\n",
    "\n",
    "\n",
    "\n",
    "################ output #####################\n",
    "\n",
    "print ('The', interestType, 'interest is: ', interest)\n",
    "\n",
    "################ output #####################"
   ]
  },
  {
   "cell_type": "markdown",
   "metadata": {},
   "source": [
    "# Problem 3: Divergent path of execution nested (if-then-else)"
   ]
  },
  {
   "cell_type": "code",
   "execution_count": null,
   "metadata": {},
   "outputs": [],
   "source": [
    "################ Input ######################\n",
    "\n",
    "amount = float(input ('Amount? '))\n",
    "rate = float(input ('Interest rate? '))\n",
    "interestType = input ('annual, quarterly, or monthly? ')\n",
    "\n",
    "################ Input ######################\n",
    "\n",
    "\n",
    "\n",
    "################ Process ####################\n",
    "\n",
    "if interestType == 'annual':\n",
    "    interest = amount * rate\n",
    "else:\n",
    "    if interestType == \"quarterly\":\n",
    "        interest = amount* rate /4\n",
    "    elif interestType = \"monthly\":\n",
    "        interest = amount *rate / 12\n",
    "        \n",
    "################ Process ####################\n",
    "\n",
    "\n",
    "\n",
    "################ output #####################\n",
    "\n",
    "print ('The', interestType, 'interest is: ', interest)\n",
    "\n",
    "################ output #####################"
   ]
  },
  {
   "cell_type": "markdown",
   "metadata": {},
   "source": [
    "# Problem 4: Loop with known number of repetitions (for)"
   ]
  },
  {
   "cell_type": "code",
   "execution_count": null,
   "metadata": {},
   "outputs": [],
   "source": [
    "# Initiate accumulator\n",
    "\n",
    "total_interest=0\n",
    "\n",
    "################ Input ######################\n",
    "\n",
    "limit = int(input(\"How many notes receivable? \"))\n",
    "\n",
    "# Notes: The int() method returns an integer object from any number or string.\n",
    "\n",
    "for something in range (0, limit+1): # range() function returns a sequence of numbers, in a given range. https://www.geeksforgeeks.org/python-range-function/\n",
    "    \n",
    "    amount = float(input ('Amount? '))\n",
    "    rate = float(input ('Interest rate? '))\n",
    "\n",
    "    ################ Input ######################\n",
    "\n",
    "    \n",
    "    ################ Process ####################\n",
    "\n",
    "    interest = amount * rate\n",
    "    \n",
    "    # Updating the accumulator\n",
    "    \n",
    "    total_interest = total_interest + interest\n",
    "\n",
    "    # output\n",
    "\n",
    "    print ('The annual interest is: ', interest)\n",
    "    \n",
    "    ################ Process ####################\n",
    "\n",
    "\n",
    "################ output #####################\n",
    "    \n",
    "print ('Total interest is: ',total_interest)\n",
    "\n",
    "################ output #####################"
   ]
  },
  {
   "cell_type": "markdown",
   "metadata": {},
   "source": [
    "# Problem 5: Loop with unknown number of repetitions (while)"
   ]
  },
  {
   "cell_type": "code",
   "execution_count": 13,
   "metadata": {},
   "outputs": [],
   "source": [
    "# Initiate accumulator and flag\n",
    "\n",
    "total_interest=0\n",
    "flag = \"n\"\n",
    "\n",
    "while flag == \"y\":\n",
    "    \n",
    "    ################ Input ######################\n",
    "    \n",
    "    amount = float(input ('Amount? '))\n",
    "    rate = float(input ('Interest rate? '))\n",
    "    \n",
    "    ################ Input ######################\n",
    "\n",
    "    \n",
    "    ################ Process ####################\n",
    "\n",
    "    interest = amount * rate\n",
    "    \n",
    "    # update accumulator\n",
    "    \n",
    "    total_interest = total_interest + interest\n",
    "    \n",
    "    ################ Process ####################\n",
    "\n",
    "    \n",
    "    ################ output #####################\n",
    "\n",
    "    print ('The annual interest is: ', interest)\n",
    "    \n",
    "    ################ output #####################\n",
    "\n",
    "\n",
    "    # input\n",
    "    \n",
    "    flag = input(\"Another note receivable? yes[y] or no[n] \")\n",
    "    \n",
    "#print ('Total interest is: ',total_interest)"
   ]
  },
  {
   "cell_type": "markdown",
   "metadata": {},
   "source": [
    "# Problem 6: Working with files"
   ]
  },
  {
   "cell_type": "code",
   "execution_count": null,
   "metadata": {},
   "outputs": [],
   "source": [
    "# Initialization of accumulators\n",
    "\n",
    "total_amount = 0\n",
    "total_interest = 0\n",
    "counter = 0\n",
    "\n",
    "rate = float (input ('Rate? '))\n",
    "\n",
    "amountFileHandler = open (r\"amount.txt\",'r')\n",
    "\n",
    "# Raw string notation (r\"text\") keeps regular expressions sane. \n",
    "# Without it, every backslash ('\\') in a regular expression would have \n",
    "# to be prefixed with another one to escape it.\n",
    "# See https://docs.python.org/3.3/library/re.html#raw-string-notation\n",
    "\n",
    "\n",
    "print (amountFileHandler)\n",
    "\n",
    "for line in amountFileHandler:\n",
    "    amount =float (line)\n",
    "    interest = amount * rate\n",
    "    print ('Amount: ', amount,', interest: ',interest)\n",
    "    counter += 1\n",
    "    total_amount += amount\n",
    "    total_interest += interest\n",
    "\n",
    "amountFileHandler.close()\n",
    "\n",
    "print ('Total notes: ', counter)\n",
    "print ('Total amount: ', total_amount)\n",
    "print ('Total interest: ', total_interest)"
   ]
  }
 ],
 "metadata": {
  "kernelspec": {
   "display_name": "Python 3 (ipykernel)",
   "language": "python",
   "name": "python3"
  },
  "language_info": {
   "codemirror_mode": {
    "name": "ipython",
    "version": 3
   },
   "file_extension": ".py",
   "mimetype": "text/x-python",
   "name": "python",
   "nbconvert_exporter": "python",
   "pygments_lexer": "ipython3",
   "version": "3.11.5"
  }
 },
 "nbformat": 4,
 "nbformat_minor": 4
}
