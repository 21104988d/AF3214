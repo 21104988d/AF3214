{
 "cells": [
  {
   "cell_type": "markdown",
   "metadata": {},
   "source": [
    "# AF3214\n",
    "# Week 7. Introduction to Risk Measures and Measuring Algorithms Performance"
   ]
  },
  {
   "cell_type": "markdown",
   "metadata": {},
   "source": [
    "# Part 1: Risk Measures"
   ]
  },
  {
   "cell_type": "markdown",
   "metadata": {},
   "source": [
    "### Obtain data from APIs \n",
    "\n",
    "### e.g., Alpha Vantage, https://github.com/RomelTorres/alpha_vantage "
   ]
  },
  {
   "cell_type": "code",
   "execution_count": null,
   "metadata": {},
   "outputs": [],
   "source": [
    "!pip install alpha_vantage"
   ]
  },
  {
   "cell_type": "markdown",
   "metadata": {},
   "source": [
    "Let's start by loading data that we will use. We need two firms. Here we pick Amazon and Apple."
   ]
  },
  {
   "cell_type": "code",
   "execution_count": null,
   "metadata": {},
   "outputs": [],
   "source": [
    "# Import pandas and numpy\n",
    "import pandas as pd\n",
    "import numpy as np"
   ]
  },
  {
   "cell_type": "code",
   "execution_count": null,
   "metadata": {},
   "outputs": [],
   "source": [
    "# Create an empty dictionary. We name it as \"stock_data\"\n",
    "stock_data = {}"
   ]
  },
  {
   "cell_type": "code",
   "execution_count": null,
   "metadata": {
    "tags": []
   },
   "outputs": [],
   "source": [
    "# API: alpha_vantage (an API by Alpha Vantage)\n",
    "from alpha_vantage.timeseries import TimeSeries\n",
    "import time\n",
    "\n",
    "# If you want to download the data please use your own Alpha Vantage key\n",
    "ts = TimeSeries(key='J4TEYW0NMM3KQH5Y', output_format='pandas')\n",
    "\n",
    "tickers = ['AAPL','AMZN']\n",
    "\n",
    "for ticker in tickers: \n",
    "    filename = ticker + '.csv'\n",
    "    data, meta_data = ts.get_daily(symbol=ticker, outputsize='full')\n",
    "    stock_data[ticker] = data\n",
    "    data.to_csv(filename)\n",
    "    time.sleep(5)  \n",
    "\n",
    "# meta data: a set of data that describes and gives information about other data\n",
    "# There are two parts in the API response: \"Meta Data\" and \"Time Series\"\n",
    "# The library is mapping meta_data to \"Meta Data\" and \"Time Series\" to data"
   ]
  },
  {
   "cell_type": "code",
   "execution_count": null,
   "metadata": {},
   "outputs": [],
   "source": [
    "meta_data"
   ]
  },
  {
   "cell_type": "code",
   "execution_count": null,
   "metadata": {},
   "outputs": [],
   "source": [
    "stock_data"
   ]
  },
  {
   "cell_type": "code",
   "execution_count": null,
   "metadata": {},
   "outputs": [],
   "source": [
    "type(stock_data['AAPL'])"
   ]
  },
  {
   "cell_type": "code",
   "execution_count": null,
   "metadata": {},
   "outputs": [],
   "source": [
    "stock_data['AAPL']"
   ]
  },
  {
   "cell_type": "code",
   "execution_count": null,
   "metadata": {},
   "outputs": [],
   "source": [
    "stock_data['AMZN']"
   ]
  },
  {
   "cell_type": "code",
   "execution_count": null,
   "metadata": {},
   "outputs": [],
   "source": [
    "stock_final_data = pd.DataFrame()\n",
    "for ticker in tickers:\n",
    "    stock_final_data[ticker] = stock_data[ticker]['4. close']\n",
    "idx_sort = stock_final_data.sort_values(by=\"date\")\n",
    "print(idx_sort)"
   ]
  },
  {
   "cell_type": "code",
   "execution_count": null,
   "metadata": {},
   "outputs": [],
   "source": [
    "type(stock_final_data)"
   ]
  },
  {
   "cell_type": "code",
   "execution_count": null,
   "metadata": {},
   "outputs": [],
   "source": [
    "stock_final_data['AAPL']"
   ]
  },
  {
   "cell_type": "code",
   "execution_count": null,
   "metadata": {
    "scrolled": true
   },
   "outputs": [],
   "source": [
    "stock_final_data['AMZN']"
   ]
  },
  {
   "cell_type": "code",
   "execution_count": null,
   "metadata": {},
   "outputs": [],
   "source": [
    "stock_final_data.head()"
   ]
  },
  {
   "cell_type": "code",
   "execution_count": null,
   "metadata": {},
   "outputs": [],
   "source": [
    "stock_final_data.tail()\n",
    "# how to print rows in between?"
   ]
  },
  {
   "cell_type": "code",
   "execution_count": null,
   "metadata": {},
   "outputs": [],
   "source": [
    "# Sort the data by 'date'\n",
    "stock_final_data = stock_final_data.sort_values(by='date')"
   ]
  },
  {
   "cell_type": "code",
   "execution_count": null,
   "metadata": {},
   "outputs": [],
   "source": [
    "stock_final_data.head()"
   ]
  },
  {
   "cell_type": "markdown",
   "metadata": {},
   "source": [
    "### Calculating the Log Returns:"
   ]
  },
  {
   "cell_type": "markdown",
   "metadata": {},
   "source": [
    "### Log Return:\n",
    "$$\n",
    "   Log\\_Return_t = Log(Price_t) - Log(Price_{t-1})\n",
    "$$\n",
    "\n",
    "Python code:\n",
    "log_ret = np.log(df) - np.log(df.shift(1))\n",
    "\n",
    "For more details, please refer to: https://www.allquant.co/post/magic-of-log-returns-concept-part-1 and https://www.allquant.co/post/magic-of-log-returns-practical-part-2"
   ]
  },
  {
   "cell_type": "code",
   "execution_count": null,
   "metadata": {},
   "outputs": [],
   "source": [
    "# Method 1:\n",
    "stock_log_ret = np.log(stock_final_data) - np.log(stock_final_data.shift(1))\n",
    "stock_log_ret"
   ]
  },
  {
   "cell_type": "markdown",
   "metadata": {},
   "source": [
    "$$\n",
    "   Log\\_Return_t = Log(Price_t) - Log(Price_{t-1}) = Log(Price_t/Price_{t-1})\n",
    "$$"
   ]
  },
  {
   "cell_type": "code",
   "execution_count": null,
   "metadata": {},
   "outputs": [],
   "source": [
    "# Method 2:\n",
    "stock_log_ret = np.log(stock_final_data/stock_final_data.shift(1))"
   ]
  },
  {
   "cell_type": "code",
   "execution_count": null,
   "metadata": {},
   "outputs": [],
   "source": [
    "stock_log_ret"
   ]
  },
  {
   "cell_type": "markdown",
   "metadata": {},
   "source": [
    "### Calculating Expected Return \n",
    "\n",
    "Realized returns are often used as a proxy for expected returns. The use of average realized returns as a prxoy for expected returnes relies on a belief that information surprises tend to cancel out over the period of the study and realized returns are therefore an unbiased estimate of expected returns."
   ]
  },
  {
   "cell_type": "code",
   "execution_count": null,
   "metadata": {},
   "outputs": [],
   "source": [
    "# Daily Expected Return (i.e., mean of returns)\n",
    "aapl_er = stock_log_ret['AAPL'].mean()\n",
    "print(\"The daily Expected Return is \"+ str(aapl_er*100) + '%')"
   ]
  },
  {
   "cell_type": "code",
   "execution_count": null,
   "metadata": {},
   "outputs": [],
   "source": [
    "# Daily Expected Return (i.e., mean of returns)\n",
    "amzn_er = stock_log_ret['AMZN'].mean()\n",
    "print (str(amzn_er * 100) +'%')"
   ]
  },
  {
   "cell_type": "markdown",
   "metadata": {},
   "source": [
    "### Annualized Expected Return:"
   ]
  },
  {
   "cell_type": "markdown",
   "metadata": {},
   "source": [
    "### What is annualized return?\n",
    "\n",
    "Annualized return: Yearly rate of return inferred from any time period.\n",
    "\n",
    "(1) The annualized return is the return that an investment earns each year for a given period.\n",
    "\n",
    "(2) It is useful when comparing investments with different lengths of time."
   ]
  },
  {
   "cell_type": "markdown",
   "metadata": {},
   "source": [
    "### <font color='red'> Since we are using log returns, we do not need to compound it as log returns are already continuously compounded. We just need to multiply by the # of tradings days (assuming 252 trading days per year). </font>\n",
    "\n",
    "https://www.nyse.com/publicdocs/Trading_Days.pdf"
   ]
  },
  {
   "cell_type": "code",
   "execution_count": null,
   "metadata": {},
   "outputs": [],
   "source": [
    "# Annualized return for Apple\n",
    "aapl_ann_ret = aapl_er * 252\n",
    "print ('Annualized return is ' + str(aapl_ann_ret*100)+' %')"
   ]
  },
  {
   "cell_type": "code",
   "execution_count": null,
   "metadata": {},
   "outputs": [],
   "source": [
    "# Annualized return for Amazon\n",
    "amzn_ann_ret = amzn_er * 252\n",
    "print('Annualized return is ' + str(amzn_ann_ret*100)+' %')"
   ]
  },
  {
   "cell_type": "markdown",
   "metadata": {},
   "source": [
    "## Now let's work on portfolio"
   ]
  },
  {
   "cell_type": "markdown",
   "metadata": {},
   "source": [
    "### Learn a new Python function that we will use: \"np.array\""
   ]
  },
  {
   "cell_type": "markdown",
   "metadata": {},
   "source": [
    "#### Know more about the \"array\" function in Numpy:\n",
    "np.array: Create an array"
   ]
  },
  {
   "cell_type": "markdown",
   "metadata": {},
   "source": [
    "What is an array?\n",
    "https://2.bp.blogspot.com/-TUYyIovFJXc/VhU8CxS68tI/AAAAAAAAD6o/EblM_W5YdPs/w1200-h630-p-k-no-nu/What%2Bis%2Bin%2Barray.jpg"
   ]
  },
  {
   "cell_type": "code",
   "execution_count": null,
   "metadata": {},
   "outputs": [],
   "source": [
    "# Example of np.array\n",
    "import numpy as np\n",
    "np.array([0, 1, 2])"
   ]
  },
  {
   "cell_type": "markdown",
   "metadata": {},
   "source": [
    "### Now let's use \"np.array\" to calculate expected return of a portfolio"
   ]
  },
  {
   "cell_type": "code",
   "execution_count": null,
   "metadata": {},
   "outputs": [],
   "source": [
    "# Cacluated Expected Return of a Portfolio\n",
    "# Assuming an equally weighted portfolio\n",
    "portfolio_weights = np.array([0.5, 0.5])"
   ]
  },
  {
   "cell_type": "markdown",
   "metadata": {},
   "source": [
    "### Expected return of a portfolio\n",
    "\n",
    "\n",
    "$ Expected \\ Return \\ of \\ Portfolio = \\sum Expected \\ Return \\ of \\ Stock_i*Weight_i $\n"
   ]
  },
  {
   "cell_type": "code",
   "execution_count": null,
   "metadata": {},
   "outputs": [],
   "source": [
    "expected_return = np.sum( (stock_log_ret.mean() * portfolio_weights))\n",
    "expected_return"
   ]
  },
  {
   "cell_type": "code",
   "execution_count": null,
   "metadata": {},
   "outputs": [],
   "source": [
    "# Annualized return\n",
    "ann_return = expected_return*252\n",
    "ann_return"
   ]
  },
  {
   "cell_type": "markdown",
   "metadata": {},
   "source": [
    "### Calculate daily return of a portfolio"
   ]
  },
  {
   "cell_type": "code",
   "execution_count": null,
   "metadata": {},
   "outputs": [],
   "source": [
    "stock_port_ret = (stock_log_ret*portfolio_weights)"
   ]
  },
  {
   "cell_type": "code",
   "execution_count": null,
   "metadata": {},
   "outputs": [],
   "source": [
    "stock_port_ret"
   ]
  },
  {
   "cell_type": "code",
   "execution_count": null,
   "metadata": {},
   "outputs": [],
   "source": [
    "# df.loc[:,'New_Column'] = 'value' - You can use '.loc' with ':' to add a specified value for all rows.\n",
    "# https://www.re-thought.com/blog/how-to-add-new-columns-in-a-dataframe-in-pandas \n",
    "\n",
    "stock_port_ret.loc[:,'Portfolio']= stock_port_ret.sum(axis=1)\n",
    "\n",
    "\"\"\"\n",
    "pandas.DataFrame.sum(axis=1):\n",
    "to find the sum of all rows in DataFrame; \n",
    "axis=1 specifies that the sum will be done on the rows.\n",
    "\"\"\""
   ]
  },
  {
   "cell_type": "code",
   "execution_count": null,
   "metadata": {},
   "outputs": [],
   "source": [
    "stock_port_ret"
   ]
  },
  {
   "cell_type": "code",
   "execution_count": null,
   "metadata": {},
   "outputs": [],
   "source": [
    "ticker ='DIA'\n",
    "filename = ticker + '.csv'\n",
    "data, meta_data = ts.get_intraday(symbol=ticker, outputsize='full')\n",
    "data.to_csv(filename)\n",
    "data"
   ]
  },
  {
   "cell_type": "code",
   "execution_count": null,
   "metadata": {},
   "outputs": [],
   "source": [
    "market_return = data.sort_values(by='date')\n",
    "market_return = market_return['4. close']\n",
    "market_return = np.log(market_return/market_return.shift(1))\n",
    "market_return"
   ]
  },
  {
   "cell_type": "code",
   "execution_count": null,
   "metadata": {},
   "outputs": [],
   "source": [
    "market_return = market_return.drop(market_return.index[0])\n",
    "market_return"
   ]
  },
  {
   "cell_type": "code",
   "execution_count": null,
   "metadata": {},
   "outputs": [],
   "source": [
    "# Add the market return into stock_port_ret\n",
    "stock_port_ret['DIA'] = market_return"
   ]
  },
  {
   "cell_type": "code",
   "execution_count": null,
   "metadata": {},
   "outputs": [],
   "source": [
    "stock_port_ret = stock_port_ret.drop(stock_port_ret.index[0])"
   ]
  },
  {
   "cell_type": "code",
   "execution_count": null,
   "metadata": {},
   "outputs": [],
   "source": [
    "stock_port_ret"
   ]
  },
  {
   "cell_type": "markdown",
   "metadata": {},
   "source": [
    "---------------------------------------"
   ]
  },
  {
   "cell_type": "markdown",
   "metadata": {},
   "source": [
    "## Risk Measure: Standard Deviation"
   ]
  },
  {
   "cell_type": "markdown",
   "metadata": {},
   "source": [
    "### Variance"
   ]
  },
  {
   "cell_type": "code",
   "execution_count": null,
   "metadata": {},
   "outputs": [],
   "source": [
    "# Variance of a Single Stock\n",
    "aapl_variance = stock_log_ret['AAPL'].var()\n",
    "print(aapl_variance)"
   ]
  },
  {
   "cell_type": "markdown",
   "metadata": {},
   "source": [
    "### Standard Deviation\n"
   ]
  },
  {
   "cell_type": "code",
   "execution_count": null,
   "metadata": {},
   "outputs": [],
   "source": [
    "# Method 1:\n",
    "np.sqrt(aapl_variance) "
   ]
  },
  {
   "cell_type": "code",
   "execution_count": null,
   "metadata": {},
   "outputs": [],
   "source": [
    "# Method 2:\n",
    "stock_log_ret['AAPL'].std()"
   ]
  },
  {
   "cell_type": "markdown",
   "metadata": {},
   "source": [
    "## Variance of the Portfolio of Stocks"
   ]
  },
  {
   "cell_type": "markdown",
   "metadata": {},
   "source": [
    "$$\n",
    "Variance = (Weight_1)^2*Var_1 + (Weight_2)^2*Var_2 + 2*Weight_1*Weight_2*cov\n",
    "$$"
   ]
  },
  {
   "cell_type": "markdown",
   "metadata": {},
   "source": [
    "#### Method 1："
   ]
  },
  {
   "cell_type": "code",
   "execution_count": null,
   "metadata": {},
   "outputs": [],
   "source": [
    "portfolio_weights"
   ]
  },
  {
   "cell_type": "code",
   "execution_count": null,
   "metadata": {},
   "outputs": [],
   "source": [
    "stock_log_ret.cov()"
   ]
  },
  {
   "cell_type": "code",
   "execution_count": null,
   "metadata": {},
   "outputs": [],
   "source": [
    "#df.loc['row_label', 'column_label']\n",
    "stock_log_ret.cov().loc['AAPL','AMZN']"
   ]
  },
  {
   "cell_type": "code",
   "execution_count": null,
   "metadata": {},
   "outputs": [],
   "source": [
    "# variance of portfolio of 2 assets \n",
    "# = (weight_1)^2*var_1 + (weight_2)^2*var_2 + 2*weight_1*weight_2*cov_12\n",
    "\n",
    "port_var = portfolio_weights[0]**2 * stock_log_ret['AAPL'].var() + portfolio_weights[1]**2 * stock_log_ret['AMZN'].var() + 2*portfolio_weights[0]*portfolio_weights[1]*stock_log_ret.cov().loc['AAPL','AMZN']\n",
    "# loc: Access a group of rows and columns."
   ]
  },
  {
   "cell_type": "code",
   "execution_count": null,
   "metadata": {},
   "outputs": [],
   "source": [
    "port_var"
   ]
  },
  {
   "cell_type": "code",
   "execution_count": null,
   "metadata": {},
   "outputs": [],
   "source": [
    "# Annual variance\n",
    "print (port_var*252)"
   ]
  },
  {
   "cell_type": "code",
   "execution_count": null,
   "metadata": {},
   "outputs": [],
   "source": [
    "# Standard deviation\n",
    "port_std = np.sqrt(port_var*252)\n",
    "print(port_std)"
   ]
  },
  {
   "cell_type": "markdown",
   "metadata": {},
   "source": [
    "#### (Optional) Method 2：\n",
    "Cacluating using Matrixes, so you could easily use this for any number of assets.\n",
    "\n",
    "https://community.wolfram.com/c/portal/getImageAttachment?filename=var_covar_formula.gif&userId=196586\n",
    "\n",
    "portfolio variance = weight_vector' * cov matrix * weight_vector"
   ]
  },
  {
   "cell_type": "markdown",
   "metadata": {},
   "source": [
    "### Learn a new Python function that we will use: \"np.dot\""
   ]
  },
  {
   "cell_type": "markdown",
   "metadata": {},
   "source": [
    "#### Explain np.dot:\n",
    "\n",
    "What is dot product in Math: https://en.wikipedia.org/wiki/Dot_product\n",
    "\n",
    "In Python, np.dot: product of two arrays. To compute dot product of numpy arrays, you can use numpy.dot() function.\n",
    "\n",
    "For more information, please see https://numpy.org/doc/stable/reference/generated/numpy.dot.html"
   ]
  },
  {
   "cell_type": "code",
   "execution_count": null,
   "metadata": {},
   "outputs": [],
   "source": [
    "# Example of np.dot\n",
    "\n",
    "import numpy as np\n",
    "\n",
    "# Create two arrays\n",
    "A = np.array([2, 1, 5, 4])\n",
    "B = np.array([3, 4, 7, 8])\n",
    "\n",
    "# dot product\n",
    "output = np.dot(A, B)\n",
    "\n",
    "print(output)"
   ]
  },
  {
   "cell_type": "code",
   "execution_count": null,
   "metadata": {},
   "outputs": [],
   "source": [
    "\"\"\"\n",
    "output = [2, 1, 5, 4].[3, 4, 7, 8]\n",
    "       = 2*3 + 1*4 + 5*7 + 4*8\n",
    "       = 77\n",
    "\"\"\""
   ]
  },
  {
   "cell_type": "markdown",
   "metadata": {},
   "source": [
    "### Now let's use \"np.dot\" to calculate variance of a portfolio\n",
    "\n",
    "$ Variance = (Weight_1)^2*Var_1 + (Weight_2)^2*Var_2 + 2*Weight_1*Weight_2*cov $"
   ]
  },
  {
   "cell_type": "code",
   "execution_count": null,
   "metadata": {},
   "outputs": [],
   "source": [
    "stock_log_ret.cov()"
   ]
  },
  {
   "cell_type": "code",
   "execution_count": null,
   "metadata": {},
   "outputs": [],
   "source": [
    "portfolio_weights"
   ]
  },
  {
   "cell_type": "code",
   "execution_count": null,
   "metadata": {},
   "outputs": [],
   "source": [
    "# port_var_mat = np.dot(np.dot(A, B), A.T)\n",
    "# numpy.T, Returns an array with axes transposed, View of the transposed array.\n",
    "# https://numpy.org/doc/stable/reference/generated/numpy.ndarray.T.html\n",
    "port_var_mat = np.dot(np.dot(portfolio_weights, stock_log_ret.cov()), portfolio_weights.T)\n",
    "print (port_var_mat)"
   ]
  },
  {
   "cell_type": "code",
   "execution_count": null,
   "metadata": {},
   "outputs": [],
   "source": [
    "# Alternative:\n",
    "port_var_mat = np.dot(portfolio_weights.T, np.dot(stock_log_ret.cov(), portfolio_weights))\n",
    "print (port_var_mat)"
   ]
  },
  {
   "cell_type": "code",
   "execution_count": null,
   "metadata": {},
   "outputs": [],
   "source": [
    "# Annual variance\n",
    "print (port_var*252)"
   ]
  },
  {
   "cell_type": "code",
   "execution_count": null,
   "metadata": {},
   "outputs": [],
   "source": [
    "# Standard deviation\n",
    "np.sqrt(port_var_mat*252)"
   ]
  },
  {
   "cell_type": "markdown",
   "metadata": {},
   "source": [
    "## Risk Measure: Beta (optional, for advanced students, not to cover in class)\n",
    "\n",
    "### Beta\n",
    "\n",
    "We have a portfolio called \"p\", which includes Apple and Amazon. We have a market index called \"m\". $ B_p $ is Beta for Portfolio p. Using CAPM, we have the following\n",
    "\n",
    "$\n",
    "E (R_p) = R_f + B_p [ E (R_m) - R_f]\n",
    "$\n",
    "\n",
    "That is, Expected Return of Portfolio = Risk-free Rate + Beta*(Expected Return of Market - Risk-free Rate)\n",
    "\n",
    "Therefore we can cacluate Beta $ B_p $ using\n",
    "\n",
    "$\n",
    "B_p = [E (R_p) - R_f] / [ E (R_m) - R_f]\n",
    "$"
   ]
  },
  {
   "cell_type": "markdown",
   "metadata": {},
   "source": [
    "## Using regressions to obtain Beta\n",
    "\n",
    "To be simple, let's assume $ R_f = 0 $ for now:   \n",
    "$\n",
    "E (R_p)  = R_f + B_p [ E (R_m) - R_f] =  B_p*E (R_m)\n",
    "$\n",
    "\n",
    "\n",
    "Now let's use a simple linear regression: $ Y = \\alpha + \\beta X + \\epsilon $, where $ Y $ is $ R_p $, $ X $ is $ R_m $, and $ \\beta $ is $ B_p $.\n",
    "\n",
    "So we will run a regression below:\n",
    "\n",
    "$\n",
    "R_p = \\alpha + B_p * R_m + \\epsilon\n",
    "$"
   ]
  },
  {
   "cell_type": "markdown",
   "metadata": {},
   "source": [
    "### Run regressions in Python: use statsmodels module\n",
    "\n",
    "statsmodels is a Python module that provides classes and functions for the estimation of many different statistical models, as well as for conducting statistical tests, and statistical data exploration.\n",
    "\n",
    "https://www.statsmodels.org/stable/install.html"
   ]
  },
  {
   "cell_type": "code",
   "execution_count": null,
   "metadata": {},
   "outputs": [],
   "source": [
    "# Install statsmodels\n",
    "!pip install statsmodels"
   ]
  },
  {
   "cell_type": "code",
   "execution_count": null,
   "metadata": {},
   "outputs": [],
   "source": [
    "# import statsmodels API\n",
    "import statsmodels.api as sm\n",
    "\n",
    "\"\"\"\n",
    "statsmodels.api: Cross-sectional models and methods.\n",
    "The API focuses on models and the most frequently used statistical test, \n",
    "and tools.\n",
    "Canonically imported using import statsmodels.api as sm.\n",
    "\"\"\""
   ]
  },
  {
   "cell_type": "markdown",
   "metadata": {},
   "source": [
    "### Regression Code:"
   ]
  },
  {
   "cell_type": "code",
   "execution_count": null,
   "metadata": {
    "scrolled": true
   },
   "outputs": [],
   "source": [
    "# X is the market index return\n",
    "X = stock_port_ret['AAPL']\n",
    "\n",
    "# y is the portfolio return\n",
    "y = stock_port_ret['Portfolio']\n",
    "\n",
    "# Add a constant in the regression model\n",
    "# An intercept is not included by default and should be added by the user\n",
    "X1 = sm.add_constant(X)\n",
    "\n",
    "# Regression model\n",
    "# OLS: Ordinary Least Squares\n",
    "model = sm.OLS(y,X1)\n",
    "\n",
    "# Fit the model and print results\n",
    "results = model.fit()\n",
    "print(results.summary())"
   ]
  },
  {
   "cell_type": "code",
   "execution_count": null,
   "metadata": {},
   "outputs": [],
   "source": [
    "print(results.params)"
   ]
  },
  {
   "cell_type": "code",
   "execution_count": null,
   "metadata": {},
   "outputs": [],
   "source": [
    "beta = results.params[1]\n",
    "print('Beta is ' + str(beta))"
   ]
  },
  {
   "cell_type": "code",
   "execution_count": null,
   "metadata": {},
   "outputs": [],
   "source": [
    "print('R2: ', results.rsquared)"
   ]
  },
  {
   "cell_type": "code",
   "execution_count": null,
   "metadata": {},
   "outputs": [],
   "source": []
  },
  {
   "cell_type": "markdown",
   "metadata": {},
   "source": [
    "## Sharpe Ratio \n",
    "\n",
    "Assume the risk-free rate is 0%\n",
    "\n",
    "Formula and Calculation for Sharpe Ratio\n",
    "\\begin{aligned} &\\textit{Sharpe Ratio} = \\frac{R_p - R_f}{\\sigma_p}\\\\ &\\textbf{where:}\\\\ &R_{p}=\\text{return of portfolio}\\\\ &R_{f} = \\text{risk-free rate}\\\\ &\\sigma_p = \\text{standard deviation of the portfolio's excess return}\\\\ \\end{aligned} "
   ]
  },
  {
   "cell_type": "code",
   "execution_count": null,
   "metadata": {},
   "outputs": [],
   "source": [
    "sharpe = (ann_return - 0)/port_std\n",
    "print(sharpe)"
   ]
  },
  {
   "cell_type": "markdown",
   "metadata": {},
   "source": [
    "### Treynor Ratio\n",
    "\n",
    "The Formula for the Treynor Ratio is:\n",
    "\\begin{aligned} &\\text{Treynor Ratio}=\\frac{R_p - R_f}{\\beta_p}\\\\ &\\textbf{where:}\\\\ &R_p = \\text{Portfolio return}\\\\ &R_f = \\text{Risk-free rate}\\\\ &\\beta_p = \\text{Beta of the portfolio}\\\\ \\end{aligned} "
   ]
  },
  {
   "cell_type": "code",
   "execution_count": null,
   "metadata": {},
   "outputs": [],
   "source": [
    "treynor = (ann_return - 0)/beta\n",
    "print(treynor)"
   ]
  },
  {
   "cell_type": "code",
   "execution_count": null,
   "metadata": {},
   "outputs": [],
   "source": []
  }
 ],
 "metadata": {
  "kernelspec": {
   "display_name": "Python 3",
   "language": "python",
   "name": "python3"
  },
  "language_info": {
   "codemirror_mode": {
    "name": "ipython",
    "version": 3
   },
   "file_extension": ".py",
   "mimetype": "text/x-python",
   "name": "python",
   "nbconvert_exporter": "python",
   "pygments_lexer": "ipython3",
   "version": "3.11.5"
  }
 },
 "nbformat": 4,
 "nbformat_minor": 4
}
