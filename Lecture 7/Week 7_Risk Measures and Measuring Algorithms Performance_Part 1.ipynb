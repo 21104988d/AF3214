{
 "cells": [
  {
   "cell_type": "markdown",
   "metadata": {},
   "source": [
    "# AF3214\n",
    "# Week 7. Introduction to Risk Measures and Measuring Algorithms Performance"
   ]
  },
  {
   "cell_type": "markdown",
   "metadata": {},
   "source": [
    "# Part 1: Risk Measures"
   ]
  },
  {
   "cell_type": "markdown",
   "metadata": {},
   "source": [
    "### Obtain data from APIs \n",
    "\n",
    "### e.g., Alpha Vantage, https://github.com/RomelTorres/alpha_vantage "
   ]
  },
  {
   "cell_type": "code",
   "execution_count": 54,
   "metadata": {},
   "outputs": [
    {
     "name": "stdout",
     "output_type": "stream",
     "text": [
      "zsh:1: command not found: pip\n"
     ]
    }
   ],
   "source": [
    "!pip install alpha_vantage"
   ]
  },
  {
   "cell_type": "markdown",
   "metadata": {},
   "source": [
    "Let's start by loading data that we will use. We need two firms. Here we pick Amazon and Apple."
   ]
  },
  {
   "cell_type": "code",
   "execution_count": 55,
   "metadata": {},
   "outputs": [],
   "source": [
    "# Import pandas and numpy\n",
    "import pandas as pd\n",
    "import numpy as np"
   ]
  },
  {
   "cell_type": "code",
   "execution_count": 56,
   "metadata": {},
   "outputs": [],
   "source": [
    "# Create an empty dictionary. We name it as \"stock_data\"\n",
    "stock_data = {}"
   ]
  },
  {
   "cell_type": "code",
   "execution_count": 57,
   "metadata": {
    "tags": []
   },
   "outputs": [],
   "source": [
    "# API: alpha_vantage (an API by Alpha Vantage)\n",
    "from alpha_vantage.timeseries import TimeSeries\n",
    "import time\n",
    "\n",
    "# If you want to download the data please use your own Alpha Vantage key\n",
    "ts = TimeSeries(key='J4TEYW0NMM3KQH5Y', output_format='pandas')\n",
    "\n",
    "tickers = ['AAPL','AMZN']\n",
    "\n",
    "for ticker in tickers: \n",
    "    filename = ticker + '.csv'\n",
    "    data, meta_data = ts.get_daily(symbol=ticker, outputsize='full')\n",
    "    stock_data[ticker] = data\n",
    "    data.to_csv(filename)\n",
    "    time.sleep(5)  \n",
    "\n",
    "# meta data: a set of data that describes and gives information about other data\n",
    "# There are two parts in the API response: \"Meta Data\" and \"Time Series\"\n",
    "# The library is mapping meta_data to \"Meta Data\" and \"Time Series\" to data"
   ]
  },
  {
   "cell_type": "code",
   "execution_count": 58,
   "metadata": {},
   "outputs": [
    {
     "data": {
      "text/plain": [
       "{'1. Information': 'Daily Prices (open, high, low, close) and Volumes',\n",
       " '2. Symbol': 'AMZN',\n",
       " '3. Last Refreshed': '2025-03-11',\n",
       " '4. Output Size': 'Full size',\n",
       " '5. Time Zone': 'US/Eastern'}"
      ]
     },
     "execution_count": 58,
     "metadata": {},
     "output_type": "execute_result"
    }
   ],
   "source": [
    "meta_data"
   ]
  },
  {
   "cell_type": "code",
   "execution_count": 59,
   "metadata": {},
   "outputs": [
    {
     "data": {
      "text/plain": [
       "{'AAPL':             1. open   2. high    3. low  4. close   5. volume\n",
       " date                                                         \n",
       " 2025-03-11  223.805  225.8399  217.4500    220.84  73971209.0\n",
       " 2025-03-10  235.540  236.1600  224.2200    227.48  71451281.0\n",
       " 2025-03-07  235.105  241.3700  234.7600    239.07  46273565.0\n",
       " 2025-03-06  234.435  237.8600  233.1581    235.33  45170419.0\n",
       " 2025-03-05  235.420  236.5500  229.2300    235.74  47227643.0\n",
       " ...             ...       ...       ...       ...         ...\n",
       " 1999-11-05   84.620   88.3700   84.0000     88.31   3721500.0\n",
       " 1999-11-04   82.060   85.3700   80.6200     83.62   3384700.0\n",
       " 1999-11-03   81.620   83.2500   81.0000     81.50   2932700.0\n",
       " 1999-11-02   78.000   81.6900   77.3100     80.25   3564600.0\n",
       " 1999-11-01   80.000   80.6900   77.3700     77.62   2487300.0\n",
       " \n",
       " [6378 rows x 5 columns],\n",
       " 'AMZN':             1. open   2. high    3. low  4. close   5. volume\n",
       " date                                                         \n",
       " 2025-03-11   193.90  200.1800  193.4000    196.59  52302854.0\n",
       " 2025-03-10   195.60  196.7300  190.8500    194.54  61829231.0\n",
       " 2025-03-07   199.49  202.2653  192.5300    199.25  59802821.0\n",
       " 2025-03-06   204.40  205.7700  198.3015    200.70  49863755.0\n",
       " 2025-03-05   204.80  209.9800  203.2600    208.36  38610085.0\n",
       " ...             ...       ...       ...       ...         ...\n",
       " 1999-11-05    64.75   65.5000   62.2500     64.94  11091400.0\n",
       " 1999-11-04    67.19   67.1900   61.0000     63.06  16759200.0\n",
       " 1999-11-03    68.19   68.5000   65.0000     65.81  10772100.0\n",
       " 1999-11-02    69.75   70.0000   65.0600     66.44  13243200.0\n",
       " 1999-11-01    68.06   71.8800   66.3100     69.13  12824100.0\n",
       " \n",
       " [6378 rows x 5 columns]}"
      ]
     },
     "execution_count": 59,
     "metadata": {},
     "output_type": "execute_result"
    }
   ],
   "source": [
    "stock_data"
   ]
  },
  {
   "cell_type": "code",
   "execution_count": 60,
   "metadata": {},
   "outputs": [
    {
     "data": {
      "text/plain": [
       "pandas.core.frame.DataFrame"
      ]
     },
     "execution_count": 60,
     "metadata": {},
     "output_type": "execute_result"
    }
   ],
   "source": [
    "type(stock_data['AAPL'])"
   ]
  },
  {
   "cell_type": "code",
   "execution_count": 61,
   "metadata": {},
   "outputs": [
    {
     "data": {
      "text/html": [
       "<div>\n",
       "<style scoped>\n",
       "    .dataframe tbody tr th:only-of-type {\n",
       "        vertical-align: middle;\n",
       "    }\n",
       "\n",
       "    .dataframe tbody tr th {\n",
       "        vertical-align: top;\n",
       "    }\n",
       "\n",
       "    .dataframe thead th {\n",
       "        text-align: right;\n",
       "    }\n",
       "</style>\n",
       "<table border=\"1\" class=\"dataframe\">\n",
       "  <thead>\n",
       "    <tr style=\"text-align: right;\">\n",
       "      <th></th>\n",
       "      <th>1. open</th>\n",
       "      <th>2. high</th>\n",
       "      <th>3. low</th>\n",
       "      <th>4. close</th>\n",
       "      <th>5. volume</th>\n",
       "    </tr>\n",
       "    <tr>\n",
       "      <th>date</th>\n",
       "      <th></th>\n",
       "      <th></th>\n",
       "      <th></th>\n",
       "      <th></th>\n",
       "      <th></th>\n",
       "    </tr>\n",
       "  </thead>\n",
       "  <tbody>\n",
       "    <tr>\n",
       "      <th>2025-03-11</th>\n",
       "      <td>223.805</td>\n",
       "      <td>225.8399</td>\n",
       "      <td>217.4500</td>\n",
       "      <td>220.84</td>\n",
       "      <td>73971209.0</td>\n",
       "    </tr>\n",
       "    <tr>\n",
       "      <th>2025-03-10</th>\n",
       "      <td>235.540</td>\n",
       "      <td>236.1600</td>\n",
       "      <td>224.2200</td>\n",
       "      <td>227.48</td>\n",
       "      <td>71451281.0</td>\n",
       "    </tr>\n",
       "    <tr>\n",
       "      <th>2025-03-07</th>\n",
       "      <td>235.105</td>\n",
       "      <td>241.3700</td>\n",
       "      <td>234.7600</td>\n",
       "      <td>239.07</td>\n",
       "      <td>46273565.0</td>\n",
       "    </tr>\n",
       "    <tr>\n",
       "      <th>2025-03-06</th>\n",
       "      <td>234.435</td>\n",
       "      <td>237.8600</td>\n",
       "      <td>233.1581</td>\n",
       "      <td>235.33</td>\n",
       "      <td>45170419.0</td>\n",
       "    </tr>\n",
       "    <tr>\n",
       "      <th>2025-03-05</th>\n",
       "      <td>235.420</td>\n",
       "      <td>236.5500</td>\n",
       "      <td>229.2300</td>\n",
       "      <td>235.74</td>\n",
       "      <td>47227643.0</td>\n",
       "    </tr>\n",
       "    <tr>\n",
       "      <th>...</th>\n",
       "      <td>...</td>\n",
       "      <td>...</td>\n",
       "      <td>...</td>\n",
       "      <td>...</td>\n",
       "      <td>...</td>\n",
       "    </tr>\n",
       "    <tr>\n",
       "      <th>1999-11-05</th>\n",
       "      <td>84.620</td>\n",
       "      <td>88.3700</td>\n",
       "      <td>84.0000</td>\n",
       "      <td>88.31</td>\n",
       "      <td>3721500.0</td>\n",
       "    </tr>\n",
       "    <tr>\n",
       "      <th>1999-11-04</th>\n",
       "      <td>82.060</td>\n",
       "      <td>85.3700</td>\n",
       "      <td>80.6200</td>\n",
       "      <td>83.62</td>\n",
       "      <td>3384700.0</td>\n",
       "    </tr>\n",
       "    <tr>\n",
       "      <th>1999-11-03</th>\n",
       "      <td>81.620</td>\n",
       "      <td>83.2500</td>\n",
       "      <td>81.0000</td>\n",
       "      <td>81.50</td>\n",
       "      <td>2932700.0</td>\n",
       "    </tr>\n",
       "    <tr>\n",
       "      <th>1999-11-02</th>\n",
       "      <td>78.000</td>\n",
       "      <td>81.6900</td>\n",
       "      <td>77.3100</td>\n",
       "      <td>80.25</td>\n",
       "      <td>3564600.0</td>\n",
       "    </tr>\n",
       "    <tr>\n",
       "      <th>1999-11-01</th>\n",
       "      <td>80.000</td>\n",
       "      <td>80.6900</td>\n",
       "      <td>77.3700</td>\n",
       "      <td>77.62</td>\n",
       "      <td>2487300.0</td>\n",
       "    </tr>\n",
       "  </tbody>\n",
       "</table>\n",
       "<p>6378 rows × 5 columns</p>\n",
       "</div>"
      ],
      "text/plain": [
       "            1. open   2. high    3. low  4. close   5. volume\n",
       "date                                                         \n",
       "2025-03-11  223.805  225.8399  217.4500    220.84  73971209.0\n",
       "2025-03-10  235.540  236.1600  224.2200    227.48  71451281.0\n",
       "2025-03-07  235.105  241.3700  234.7600    239.07  46273565.0\n",
       "2025-03-06  234.435  237.8600  233.1581    235.33  45170419.0\n",
       "2025-03-05  235.420  236.5500  229.2300    235.74  47227643.0\n",
       "...             ...       ...       ...       ...         ...\n",
       "1999-11-05   84.620   88.3700   84.0000     88.31   3721500.0\n",
       "1999-11-04   82.060   85.3700   80.6200     83.62   3384700.0\n",
       "1999-11-03   81.620   83.2500   81.0000     81.50   2932700.0\n",
       "1999-11-02   78.000   81.6900   77.3100     80.25   3564600.0\n",
       "1999-11-01   80.000   80.6900   77.3700     77.62   2487300.0\n",
       "\n",
       "[6378 rows x 5 columns]"
      ]
     },
     "execution_count": 61,
     "metadata": {},
     "output_type": "execute_result"
    }
   ],
   "source": [
    "stock_data['AAPL']"
   ]
  },
  {
   "cell_type": "code",
   "execution_count": 62,
   "metadata": {},
   "outputs": [
    {
     "data": {
      "text/html": [
       "<div>\n",
       "<style scoped>\n",
       "    .dataframe tbody tr th:only-of-type {\n",
       "        vertical-align: middle;\n",
       "    }\n",
       "\n",
       "    .dataframe tbody tr th {\n",
       "        vertical-align: top;\n",
       "    }\n",
       "\n",
       "    .dataframe thead th {\n",
       "        text-align: right;\n",
       "    }\n",
       "</style>\n",
       "<table border=\"1\" class=\"dataframe\">\n",
       "  <thead>\n",
       "    <tr style=\"text-align: right;\">\n",
       "      <th></th>\n",
       "      <th>1. open</th>\n",
       "      <th>2. high</th>\n",
       "      <th>3. low</th>\n",
       "      <th>4. close</th>\n",
       "      <th>5. volume</th>\n",
       "    </tr>\n",
       "    <tr>\n",
       "      <th>date</th>\n",
       "      <th></th>\n",
       "      <th></th>\n",
       "      <th></th>\n",
       "      <th></th>\n",
       "      <th></th>\n",
       "    </tr>\n",
       "  </thead>\n",
       "  <tbody>\n",
       "    <tr>\n",
       "      <th>2025-03-11</th>\n",
       "      <td>193.90</td>\n",
       "      <td>200.1800</td>\n",
       "      <td>193.4000</td>\n",
       "      <td>196.59</td>\n",
       "      <td>52302854.0</td>\n",
       "    </tr>\n",
       "    <tr>\n",
       "      <th>2025-03-10</th>\n",
       "      <td>195.60</td>\n",
       "      <td>196.7300</td>\n",
       "      <td>190.8500</td>\n",
       "      <td>194.54</td>\n",
       "      <td>61829231.0</td>\n",
       "    </tr>\n",
       "    <tr>\n",
       "      <th>2025-03-07</th>\n",
       "      <td>199.49</td>\n",
       "      <td>202.2653</td>\n",
       "      <td>192.5300</td>\n",
       "      <td>199.25</td>\n",
       "      <td>59802821.0</td>\n",
       "    </tr>\n",
       "    <tr>\n",
       "      <th>2025-03-06</th>\n",
       "      <td>204.40</td>\n",
       "      <td>205.7700</td>\n",
       "      <td>198.3015</td>\n",
       "      <td>200.70</td>\n",
       "      <td>49863755.0</td>\n",
       "    </tr>\n",
       "    <tr>\n",
       "      <th>2025-03-05</th>\n",
       "      <td>204.80</td>\n",
       "      <td>209.9800</td>\n",
       "      <td>203.2600</td>\n",
       "      <td>208.36</td>\n",
       "      <td>38610085.0</td>\n",
       "    </tr>\n",
       "    <tr>\n",
       "      <th>...</th>\n",
       "      <td>...</td>\n",
       "      <td>...</td>\n",
       "      <td>...</td>\n",
       "      <td>...</td>\n",
       "      <td>...</td>\n",
       "    </tr>\n",
       "    <tr>\n",
       "      <th>1999-11-05</th>\n",
       "      <td>64.75</td>\n",
       "      <td>65.5000</td>\n",
       "      <td>62.2500</td>\n",
       "      <td>64.94</td>\n",
       "      <td>11091400.0</td>\n",
       "    </tr>\n",
       "    <tr>\n",
       "      <th>1999-11-04</th>\n",
       "      <td>67.19</td>\n",
       "      <td>67.1900</td>\n",
       "      <td>61.0000</td>\n",
       "      <td>63.06</td>\n",
       "      <td>16759200.0</td>\n",
       "    </tr>\n",
       "    <tr>\n",
       "      <th>1999-11-03</th>\n",
       "      <td>68.19</td>\n",
       "      <td>68.5000</td>\n",
       "      <td>65.0000</td>\n",
       "      <td>65.81</td>\n",
       "      <td>10772100.0</td>\n",
       "    </tr>\n",
       "    <tr>\n",
       "      <th>1999-11-02</th>\n",
       "      <td>69.75</td>\n",
       "      <td>70.0000</td>\n",
       "      <td>65.0600</td>\n",
       "      <td>66.44</td>\n",
       "      <td>13243200.0</td>\n",
       "    </tr>\n",
       "    <tr>\n",
       "      <th>1999-11-01</th>\n",
       "      <td>68.06</td>\n",
       "      <td>71.8800</td>\n",
       "      <td>66.3100</td>\n",
       "      <td>69.13</td>\n",
       "      <td>12824100.0</td>\n",
       "    </tr>\n",
       "  </tbody>\n",
       "</table>\n",
       "<p>6378 rows × 5 columns</p>\n",
       "</div>"
      ],
      "text/plain": [
       "            1. open   2. high    3. low  4. close   5. volume\n",
       "date                                                         \n",
       "2025-03-11   193.90  200.1800  193.4000    196.59  52302854.0\n",
       "2025-03-10   195.60  196.7300  190.8500    194.54  61829231.0\n",
       "2025-03-07   199.49  202.2653  192.5300    199.25  59802821.0\n",
       "2025-03-06   204.40  205.7700  198.3015    200.70  49863755.0\n",
       "2025-03-05   204.80  209.9800  203.2600    208.36  38610085.0\n",
       "...             ...       ...       ...       ...         ...\n",
       "1999-11-05    64.75   65.5000   62.2500     64.94  11091400.0\n",
       "1999-11-04    67.19   67.1900   61.0000     63.06  16759200.0\n",
       "1999-11-03    68.19   68.5000   65.0000     65.81  10772100.0\n",
       "1999-11-02    69.75   70.0000   65.0600     66.44  13243200.0\n",
       "1999-11-01    68.06   71.8800   66.3100     69.13  12824100.0\n",
       "\n",
       "[6378 rows x 5 columns]"
      ]
     },
     "execution_count": 62,
     "metadata": {},
     "output_type": "execute_result"
    }
   ],
   "source": [
    "stock_data['AMZN']"
   ]
  },
  {
   "cell_type": "code",
   "execution_count": 63,
   "metadata": {},
   "outputs": [
    {
     "name": "stdout",
     "output_type": "stream",
     "text": [
      "              AAPL    AMZN\n",
      "date                      \n",
      "1999-11-01   77.62   69.13\n",
      "1999-11-02   80.25   66.44\n",
      "1999-11-03   81.50   65.81\n",
      "1999-11-04   83.62   63.06\n",
      "1999-11-05   88.31   64.94\n",
      "...            ...     ...\n",
      "2025-03-05  235.74  208.36\n",
      "2025-03-06  235.33  200.70\n",
      "2025-03-07  239.07  199.25\n",
      "2025-03-10  227.48  194.54\n",
      "2025-03-11  220.84  196.59\n",
      "\n",
      "[6378 rows x 2 columns]\n"
     ]
    }
   ],
   "source": [
    "stock_final_data = pd.DataFrame()\n",
    "for ticker in tickers:\n",
    "    stock_final_data[ticker] = stock_data[ticker]['4. close']\n",
    "idx_sort = stock_final_data.sort_values(by=\"date\")\n",
    "print(idx_sort)"
   ]
  },
  {
   "cell_type": "code",
   "execution_count": 64,
   "metadata": {},
   "outputs": [
    {
     "data": {
      "text/plain": [
       "pandas.core.frame.DataFrame"
      ]
     },
     "execution_count": 64,
     "metadata": {},
     "output_type": "execute_result"
    }
   ],
   "source": [
    "type(stock_final_data)"
   ]
  },
  {
   "cell_type": "code",
   "execution_count": 65,
   "metadata": {},
   "outputs": [
    {
     "data": {
      "text/plain": [
       "date\n",
       "2025-03-11    220.84\n",
       "2025-03-10    227.48\n",
       "2025-03-07    239.07\n",
       "2025-03-06    235.33\n",
       "2025-03-05    235.74\n",
       "               ...  \n",
       "1999-11-05     88.31\n",
       "1999-11-04     83.62\n",
       "1999-11-03     81.50\n",
       "1999-11-02     80.25\n",
       "1999-11-01     77.62\n",
       "Name: AAPL, Length: 6378, dtype: float64"
      ]
     },
     "execution_count": 65,
     "metadata": {},
     "output_type": "execute_result"
    }
   ],
   "source": [
    "stock_final_data['AAPL']"
   ]
  },
  {
   "cell_type": "code",
   "execution_count": 66,
   "metadata": {
    "scrolled": true
   },
   "outputs": [
    {
     "data": {
      "text/plain": [
       "date\n",
       "2025-03-11    196.59\n",
       "2025-03-10    194.54\n",
       "2025-03-07    199.25\n",
       "2025-03-06    200.70\n",
       "2025-03-05    208.36\n",
       "               ...  \n",
       "1999-11-05     64.94\n",
       "1999-11-04     63.06\n",
       "1999-11-03     65.81\n",
       "1999-11-02     66.44\n",
       "1999-11-01     69.13\n",
       "Name: AMZN, Length: 6378, dtype: float64"
      ]
     },
     "execution_count": 66,
     "metadata": {},
     "output_type": "execute_result"
    }
   ],
   "source": [
    "stock_final_data['AMZN']"
   ]
  },
  {
   "cell_type": "code",
   "execution_count": 67,
   "metadata": {},
   "outputs": [
    {
     "data": {
      "text/html": [
       "<div>\n",
       "<style scoped>\n",
       "    .dataframe tbody tr th:only-of-type {\n",
       "        vertical-align: middle;\n",
       "    }\n",
       "\n",
       "    .dataframe tbody tr th {\n",
       "        vertical-align: top;\n",
       "    }\n",
       "\n",
       "    .dataframe thead th {\n",
       "        text-align: right;\n",
       "    }\n",
       "</style>\n",
       "<table border=\"1\" class=\"dataframe\">\n",
       "  <thead>\n",
       "    <tr style=\"text-align: right;\">\n",
       "      <th></th>\n",
       "      <th>AAPL</th>\n",
       "      <th>AMZN</th>\n",
       "    </tr>\n",
       "    <tr>\n",
       "      <th>date</th>\n",
       "      <th></th>\n",
       "      <th></th>\n",
       "    </tr>\n",
       "  </thead>\n",
       "  <tbody>\n",
       "    <tr>\n",
       "      <th>2025-03-11</th>\n",
       "      <td>220.84</td>\n",
       "      <td>196.59</td>\n",
       "    </tr>\n",
       "    <tr>\n",
       "      <th>2025-03-10</th>\n",
       "      <td>227.48</td>\n",
       "      <td>194.54</td>\n",
       "    </tr>\n",
       "    <tr>\n",
       "      <th>2025-03-07</th>\n",
       "      <td>239.07</td>\n",
       "      <td>199.25</td>\n",
       "    </tr>\n",
       "    <tr>\n",
       "      <th>2025-03-06</th>\n",
       "      <td>235.33</td>\n",
       "      <td>200.70</td>\n",
       "    </tr>\n",
       "    <tr>\n",
       "      <th>2025-03-05</th>\n",
       "      <td>235.74</td>\n",
       "      <td>208.36</td>\n",
       "    </tr>\n",
       "  </tbody>\n",
       "</table>\n",
       "</div>"
      ],
      "text/plain": [
       "              AAPL    AMZN\n",
       "date                      \n",
       "2025-03-11  220.84  196.59\n",
       "2025-03-10  227.48  194.54\n",
       "2025-03-07  239.07  199.25\n",
       "2025-03-06  235.33  200.70\n",
       "2025-03-05  235.74  208.36"
      ]
     },
     "execution_count": 67,
     "metadata": {},
     "output_type": "execute_result"
    }
   ],
   "source": [
    "stock_final_data.head()"
   ]
  },
  {
   "cell_type": "code",
   "execution_count": 68,
   "metadata": {},
   "outputs": [
    {
     "data": {
      "text/html": [
       "<div>\n",
       "<style scoped>\n",
       "    .dataframe tbody tr th:only-of-type {\n",
       "        vertical-align: middle;\n",
       "    }\n",
       "\n",
       "    .dataframe tbody tr th {\n",
       "        vertical-align: top;\n",
       "    }\n",
       "\n",
       "    .dataframe thead th {\n",
       "        text-align: right;\n",
       "    }\n",
       "</style>\n",
       "<table border=\"1\" class=\"dataframe\">\n",
       "  <thead>\n",
       "    <tr style=\"text-align: right;\">\n",
       "      <th></th>\n",
       "      <th>AAPL</th>\n",
       "      <th>AMZN</th>\n",
       "    </tr>\n",
       "    <tr>\n",
       "      <th>date</th>\n",
       "      <th></th>\n",
       "      <th></th>\n",
       "    </tr>\n",
       "  </thead>\n",
       "  <tbody>\n",
       "    <tr>\n",
       "      <th>1999-11-05</th>\n",
       "      <td>88.31</td>\n",
       "      <td>64.94</td>\n",
       "    </tr>\n",
       "    <tr>\n",
       "      <th>1999-11-04</th>\n",
       "      <td>83.62</td>\n",
       "      <td>63.06</td>\n",
       "    </tr>\n",
       "    <tr>\n",
       "      <th>1999-11-03</th>\n",
       "      <td>81.50</td>\n",
       "      <td>65.81</td>\n",
       "    </tr>\n",
       "    <tr>\n",
       "      <th>1999-11-02</th>\n",
       "      <td>80.25</td>\n",
       "      <td>66.44</td>\n",
       "    </tr>\n",
       "    <tr>\n",
       "      <th>1999-11-01</th>\n",
       "      <td>77.62</td>\n",
       "      <td>69.13</td>\n",
       "    </tr>\n",
       "  </tbody>\n",
       "</table>\n",
       "</div>"
      ],
      "text/plain": [
       "             AAPL   AMZN\n",
       "date                    \n",
       "1999-11-05  88.31  64.94\n",
       "1999-11-04  83.62  63.06\n",
       "1999-11-03  81.50  65.81\n",
       "1999-11-02  80.25  66.44\n",
       "1999-11-01  77.62  69.13"
      ]
     },
     "execution_count": 68,
     "metadata": {},
     "output_type": "execute_result"
    }
   ],
   "source": [
    "stock_final_data.tail()\n",
    "# how to print rows in between?"
   ]
  },
  {
   "cell_type": "code",
   "execution_count": 69,
   "metadata": {},
   "outputs": [],
   "source": [
    "# Sort the data by 'date'\n",
    "stock_final_data = stock_final_data.sort_values(by='date')"
   ]
  },
  {
   "cell_type": "code",
   "execution_count": 70,
   "metadata": {},
   "outputs": [
    {
     "data": {
      "text/html": [
       "<div>\n",
       "<style scoped>\n",
       "    .dataframe tbody tr th:only-of-type {\n",
       "        vertical-align: middle;\n",
       "    }\n",
       "\n",
       "    .dataframe tbody tr th {\n",
       "        vertical-align: top;\n",
       "    }\n",
       "\n",
       "    .dataframe thead th {\n",
       "        text-align: right;\n",
       "    }\n",
       "</style>\n",
       "<table border=\"1\" class=\"dataframe\">\n",
       "  <thead>\n",
       "    <tr style=\"text-align: right;\">\n",
       "      <th></th>\n",
       "      <th>AAPL</th>\n",
       "      <th>AMZN</th>\n",
       "    </tr>\n",
       "    <tr>\n",
       "      <th>date</th>\n",
       "      <th></th>\n",
       "      <th></th>\n",
       "    </tr>\n",
       "  </thead>\n",
       "  <tbody>\n",
       "    <tr>\n",
       "      <th>1999-11-01</th>\n",
       "      <td>77.62</td>\n",
       "      <td>69.13</td>\n",
       "    </tr>\n",
       "    <tr>\n",
       "      <th>1999-11-02</th>\n",
       "      <td>80.25</td>\n",
       "      <td>66.44</td>\n",
       "    </tr>\n",
       "    <tr>\n",
       "      <th>1999-11-03</th>\n",
       "      <td>81.50</td>\n",
       "      <td>65.81</td>\n",
       "    </tr>\n",
       "    <tr>\n",
       "      <th>1999-11-04</th>\n",
       "      <td>83.62</td>\n",
       "      <td>63.06</td>\n",
       "    </tr>\n",
       "    <tr>\n",
       "      <th>1999-11-05</th>\n",
       "      <td>88.31</td>\n",
       "      <td>64.94</td>\n",
       "    </tr>\n",
       "  </tbody>\n",
       "</table>\n",
       "</div>"
      ],
      "text/plain": [
       "             AAPL   AMZN\n",
       "date                    \n",
       "1999-11-01  77.62  69.13\n",
       "1999-11-02  80.25  66.44\n",
       "1999-11-03  81.50  65.81\n",
       "1999-11-04  83.62  63.06\n",
       "1999-11-05  88.31  64.94"
      ]
     },
     "execution_count": 70,
     "metadata": {},
     "output_type": "execute_result"
    }
   ],
   "source": [
    "stock_final_data.head()"
   ]
  },
  {
   "cell_type": "markdown",
   "metadata": {},
   "source": [
    "### Calculating the Log Returns:"
   ]
  },
  {
   "cell_type": "markdown",
   "metadata": {},
   "source": [
    "### Log Return:\n",
    "$$\n",
    "   Log\\_Return_t = Log(Price_t) - Log(Price_{t-1})\n",
    "$$\n",
    "\n",
    "Python code:\n",
    "log_ret = np.log(df) - np.log(df.shift(1))\n",
    "\n",
    "For more details, please refer to: https://www.allquant.co/post/magic-of-log-returns-concept-part-1 and https://www.allquant.co/post/magic-of-log-returns-practical-part-2"
   ]
  },
  {
   "cell_type": "code",
   "execution_count": 71,
   "metadata": {},
   "outputs": [
    {
     "data": {
      "text/html": [
       "<div>\n",
       "<style scoped>\n",
       "    .dataframe tbody tr th:only-of-type {\n",
       "        vertical-align: middle;\n",
       "    }\n",
       "\n",
       "    .dataframe tbody tr th {\n",
       "        vertical-align: top;\n",
       "    }\n",
       "\n",
       "    .dataframe thead th {\n",
       "        text-align: right;\n",
       "    }\n",
       "</style>\n",
       "<table border=\"1\" class=\"dataframe\">\n",
       "  <thead>\n",
       "    <tr style=\"text-align: right;\">\n",
       "      <th></th>\n",
       "      <th>AAPL</th>\n",
       "      <th>AMZN</th>\n",
       "    </tr>\n",
       "    <tr>\n",
       "      <th>date</th>\n",
       "      <th></th>\n",
       "      <th></th>\n",
       "    </tr>\n",
       "  </thead>\n",
       "  <tbody>\n",
       "    <tr>\n",
       "      <th>1999-11-01</th>\n",
       "      <td>NaN</td>\n",
       "      <td>NaN</td>\n",
       "    </tr>\n",
       "    <tr>\n",
       "      <th>1999-11-02</th>\n",
       "      <td>0.033322</td>\n",
       "      <td>-0.039690</td>\n",
       "    </tr>\n",
       "    <tr>\n",
       "      <th>1999-11-03</th>\n",
       "      <td>0.015456</td>\n",
       "      <td>-0.009527</td>\n",
       "    </tr>\n",
       "    <tr>\n",
       "      <th>1999-11-04</th>\n",
       "      <td>0.025680</td>\n",
       "      <td>-0.042685</td>\n",
       "    </tr>\n",
       "    <tr>\n",
       "      <th>1999-11-05</th>\n",
       "      <td>0.054571</td>\n",
       "      <td>0.029377</td>\n",
       "    </tr>\n",
       "    <tr>\n",
       "      <th>...</th>\n",
       "      <td>...</td>\n",
       "      <td>...</td>\n",
       "    </tr>\n",
       "    <tr>\n",
       "      <th>2025-03-05</th>\n",
       "      <td>-0.000806</td>\n",
       "      <td>0.022128</td>\n",
       "    </tr>\n",
       "    <tr>\n",
       "      <th>2025-03-06</th>\n",
       "      <td>-0.001741</td>\n",
       "      <td>-0.037456</td>\n",
       "    </tr>\n",
       "    <tr>\n",
       "      <th>2025-03-07</th>\n",
       "      <td>0.015768</td>\n",
       "      <td>-0.007251</td>\n",
       "    </tr>\n",
       "    <tr>\n",
       "      <th>2025-03-10</th>\n",
       "      <td>-0.049694</td>\n",
       "      <td>-0.023923</td>\n",
       "    </tr>\n",
       "    <tr>\n",
       "      <th>2025-03-11</th>\n",
       "      <td>-0.029624</td>\n",
       "      <td>0.010483</td>\n",
       "    </tr>\n",
       "  </tbody>\n",
       "</table>\n",
       "<p>6378 rows × 2 columns</p>\n",
       "</div>"
      ],
      "text/plain": [
       "                AAPL      AMZN\n",
       "date                          \n",
       "1999-11-01       NaN       NaN\n",
       "1999-11-02  0.033322 -0.039690\n",
       "1999-11-03  0.015456 -0.009527\n",
       "1999-11-04  0.025680 -0.042685\n",
       "1999-11-05  0.054571  0.029377\n",
       "...              ...       ...\n",
       "2025-03-05 -0.000806  0.022128\n",
       "2025-03-06 -0.001741 -0.037456\n",
       "2025-03-07  0.015768 -0.007251\n",
       "2025-03-10 -0.049694 -0.023923\n",
       "2025-03-11 -0.029624  0.010483\n",
       "\n",
       "[6378 rows x 2 columns]"
      ]
     },
     "execution_count": 71,
     "metadata": {},
     "output_type": "execute_result"
    }
   ],
   "source": [
    "# Method 1:\n",
    "stock_log_ret = np.log(stock_final_data) - np.log(stock_final_data.shift(1))\n",
    "stock_log_ret"
   ]
  },
  {
   "cell_type": "markdown",
   "metadata": {},
   "source": [
    "$$\n",
    "   Log\\_Return_t = Log(Price_t) - Log(Price_{t-1}) = Log(Price_t/Price_{t-1})\n",
    "$$"
   ]
  },
  {
   "cell_type": "code",
   "execution_count": 72,
   "metadata": {},
   "outputs": [],
   "source": [
    "# Method 2:\n",
    "stock_log_ret = np.log(stock_final_data/stock_final_data.shift(1))"
   ]
  },
  {
   "cell_type": "code",
   "execution_count": 73,
   "metadata": {},
   "outputs": [
    {
     "data": {
      "text/html": [
       "<div>\n",
       "<style scoped>\n",
       "    .dataframe tbody tr th:only-of-type {\n",
       "        vertical-align: middle;\n",
       "    }\n",
       "\n",
       "    .dataframe tbody tr th {\n",
       "        vertical-align: top;\n",
       "    }\n",
       "\n",
       "    .dataframe thead th {\n",
       "        text-align: right;\n",
       "    }\n",
       "</style>\n",
       "<table border=\"1\" class=\"dataframe\">\n",
       "  <thead>\n",
       "    <tr style=\"text-align: right;\">\n",
       "      <th></th>\n",
       "      <th>AAPL</th>\n",
       "      <th>AMZN</th>\n",
       "    </tr>\n",
       "    <tr>\n",
       "      <th>date</th>\n",
       "      <th></th>\n",
       "      <th></th>\n",
       "    </tr>\n",
       "  </thead>\n",
       "  <tbody>\n",
       "    <tr>\n",
       "      <th>1999-11-01</th>\n",
       "      <td>NaN</td>\n",
       "      <td>NaN</td>\n",
       "    </tr>\n",
       "    <tr>\n",
       "      <th>1999-11-02</th>\n",
       "      <td>0.033322</td>\n",
       "      <td>-0.039690</td>\n",
       "    </tr>\n",
       "    <tr>\n",
       "      <th>1999-11-03</th>\n",
       "      <td>0.015456</td>\n",
       "      <td>-0.009527</td>\n",
       "    </tr>\n",
       "    <tr>\n",
       "      <th>1999-11-04</th>\n",
       "      <td>0.025680</td>\n",
       "      <td>-0.042685</td>\n",
       "    </tr>\n",
       "    <tr>\n",
       "      <th>1999-11-05</th>\n",
       "      <td>0.054571</td>\n",
       "      <td>0.029377</td>\n",
       "    </tr>\n",
       "    <tr>\n",
       "      <th>...</th>\n",
       "      <td>...</td>\n",
       "      <td>...</td>\n",
       "    </tr>\n",
       "    <tr>\n",
       "      <th>2025-03-05</th>\n",
       "      <td>-0.000806</td>\n",
       "      <td>0.022128</td>\n",
       "    </tr>\n",
       "    <tr>\n",
       "      <th>2025-03-06</th>\n",
       "      <td>-0.001741</td>\n",
       "      <td>-0.037456</td>\n",
       "    </tr>\n",
       "    <tr>\n",
       "      <th>2025-03-07</th>\n",
       "      <td>0.015768</td>\n",
       "      <td>-0.007251</td>\n",
       "    </tr>\n",
       "    <tr>\n",
       "      <th>2025-03-10</th>\n",
       "      <td>-0.049694</td>\n",
       "      <td>-0.023923</td>\n",
       "    </tr>\n",
       "    <tr>\n",
       "      <th>2025-03-11</th>\n",
       "      <td>-0.029624</td>\n",
       "      <td>0.010483</td>\n",
       "    </tr>\n",
       "  </tbody>\n",
       "</table>\n",
       "<p>6378 rows × 2 columns</p>\n",
       "</div>"
      ],
      "text/plain": [
       "                AAPL      AMZN\n",
       "date                          \n",
       "1999-11-01       NaN       NaN\n",
       "1999-11-02  0.033322 -0.039690\n",
       "1999-11-03  0.015456 -0.009527\n",
       "1999-11-04  0.025680 -0.042685\n",
       "1999-11-05  0.054571  0.029377\n",
       "...              ...       ...\n",
       "2025-03-05 -0.000806  0.022128\n",
       "2025-03-06 -0.001741 -0.037456\n",
       "2025-03-07  0.015768 -0.007251\n",
       "2025-03-10 -0.049694 -0.023923\n",
       "2025-03-11 -0.029624  0.010483\n",
       "\n",
       "[6378 rows x 2 columns]"
      ]
     },
     "execution_count": 73,
     "metadata": {},
     "output_type": "execute_result"
    }
   ],
   "source": [
    "stock_log_ret"
   ]
  },
  {
   "cell_type": "markdown",
   "metadata": {},
   "source": [
    "### Calculating Expected Return \n",
    "\n",
    "Realized returns are often used as a proxy for expected returns. The use of average realized returns as a prxoy for expected returnes relies on a belief that information surprises tend to cancel out over the period of the study and realized returns are therefore an unbiased estimate of expected returns."
   ]
  },
  {
   "cell_type": "code",
   "execution_count": 74,
   "metadata": {},
   "outputs": [
    {
     "name": "stdout",
     "output_type": "stream",
     "text": [
      "The daily Expected Return is 0.016396633706681492%\n"
     ]
    }
   ],
   "source": [
    "# Daily Expected Return (i.e., mean of returns)\n",
    "aapl_er = stock_log_ret['AAPL'].mean()\n",
    "print(\"The daily Expected Return is \"+ str(aapl_er*100) + '%')"
   ]
  },
  {
   "cell_type": "code",
   "execution_count": 75,
   "metadata": {},
   "outputs": [
    {
     "name": "stdout",
     "output_type": "stream",
     "text": [
      "0.016389078748037383%\n"
     ]
    }
   ],
   "source": [
    "# Daily Expected Return (i.e., mean of returns)\n",
    "amzn_er = stock_log_ret['AMZN'].mean()\n",
    "print (str(amzn_er * 100) +'%')"
   ]
  },
  {
   "cell_type": "markdown",
   "metadata": {},
   "source": [
    "### Annualized Expected Return:"
   ]
  },
  {
   "cell_type": "markdown",
   "metadata": {},
   "source": [
    "### What is annualized return?\n",
    "\n",
    "Annualized return: Yearly rate of return inferred from any time period.\n",
    "\n",
    "(1) The annualized return is the return that an investment earns each year for a given period.\n",
    "\n",
    "(2) It is useful when comparing investments with different lengths of time."
   ]
  },
  {
   "cell_type": "markdown",
   "metadata": {},
   "source": [
    "### <font color='red'> Since we are using log returns, we do not need to compound it as log returns are already continuously compounded. We just need to multiply by the # of tradings days (assuming 252 trading days per year). </font>\n",
    "\n",
    "https://www.nyse.com/publicdocs/Trading_Days.pdf"
   ]
  },
  {
   "cell_type": "code",
   "execution_count": 76,
   "metadata": {},
   "outputs": [
    {
     "name": "stdout",
     "output_type": "stream",
     "text": [
      "Annualized return is 4.131951694083736 %\n"
     ]
    }
   ],
   "source": [
    "# Annualized return for Apple\n",
    "aapl_ann_ret = aapl_er * 252\n",
    "print ('Annualized return is ' + str(aapl_ann_ret*100)+' %')"
   ]
  },
  {
   "cell_type": "code",
   "execution_count": 77,
   "metadata": {},
   "outputs": [
    {
     "name": "stdout",
     "output_type": "stream",
     "text": [
      "Annualized return is 4.1300478445054205 %\n"
     ]
    }
   ],
   "source": [
    "# Annualized return for Amazon\n",
    "amzn_ann_ret = amzn_er * 252\n",
    "print('Annualized return is ' + str(amzn_ann_ret*100)+' %')"
   ]
  },
  {
   "cell_type": "markdown",
   "metadata": {},
   "source": [
    "## Now let's work on portfolio"
   ]
  },
  {
   "cell_type": "markdown",
   "metadata": {},
   "source": [
    "### Learn a new Python function that we will use: \"np.array\""
   ]
  },
  {
   "cell_type": "markdown",
   "metadata": {},
   "source": [
    "#### Know more about the \"array\" function in Numpy:\n",
    "np.array: Create an array"
   ]
  },
  {
   "cell_type": "markdown",
   "metadata": {},
   "source": [
    "What is an array?\n",
    "https://2.bp.blogspot.com/-TUYyIovFJXc/VhU8CxS68tI/AAAAAAAAD6o/EblM_W5YdPs/w1200-h630-p-k-no-nu/What%2Bis%2Bin%2Barray.jpg"
   ]
  },
  {
   "cell_type": "code",
   "execution_count": 78,
   "metadata": {},
   "outputs": [
    {
     "data": {
      "text/plain": [
       "array([0, 1, 2])"
      ]
     },
     "execution_count": 78,
     "metadata": {},
     "output_type": "execute_result"
    }
   ],
   "source": [
    "# Example of np.array\n",
    "import numpy as np\n",
    "np.array([0, 1, 2])"
   ]
  },
  {
   "cell_type": "markdown",
   "metadata": {},
   "source": [
    "### Now let's use \"np.array\" to calculate expected return of a portfolio"
   ]
  },
  {
   "cell_type": "code",
   "execution_count": 79,
   "metadata": {},
   "outputs": [],
   "source": [
    "# Cacluated Expected Return of a Portfolio\n",
    "# Assuming an equally weighted portfolio\n",
    "portfolio_weights = np.array([0.5, 0.5])"
   ]
  },
  {
   "cell_type": "markdown",
   "metadata": {},
   "source": [
    "### Expected return of a portfolio\n",
    "\n",
    "\n",
    "$ Expected \\ Return \\ of \\ Portfolio = \\sum Expected \\ Return \\ of \\ Stock_i*Weight_i $\n"
   ]
  },
  {
   "cell_type": "code",
   "execution_count": 80,
   "metadata": {},
   "outputs": [
    {
     "data": {
      "text/plain": [
       "np.float64(0.00016392856227359436)"
      ]
     },
     "execution_count": 80,
     "metadata": {},
     "output_type": "execute_result"
    }
   ],
   "source": [
    "expected_return = np.sum( (stock_log_ret.mean() * portfolio_weights))\n",
    "expected_return"
   ]
  },
  {
   "cell_type": "code",
   "execution_count": 81,
   "metadata": {},
   "outputs": [
    {
     "data": {
      "text/plain": [
       "np.float64(0.04130999769294578)"
      ]
     },
     "execution_count": 81,
     "metadata": {},
     "output_type": "execute_result"
    }
   ],
   "source": [
    "# Annualized return\n",
    "ann_return = expected_return*252\n",
    "ann_return"
   ]
  },
  {
   "cell_type": "markdown",
   "metadata": {},
   "source": [
    "### Calculate daily return of a portfolio"
   ]
  },
  {
   "cell_type": "code",
   "execution_count": 82,
   "metadata": {},
   "outputs": [],
   "source": [
    "stock_port_ret = (stock_log_ret*portfolio_weights)"
   ]
  },
  {
   "cell_type": "code",
   "execution_count": 83,
   "metadata": {},
   "outputs": [
    {
     "data": {
      "text/html": [
       "<div>\n",
       "<style scoped>\n",
       "    .dataframe tbody tr th:only-of-type {\n",
       "        vertical-align: middle;\n",
       "    }\n",
       "\n",
       "    .dataframe tbody tr th {\n",
       "        vertical-align: top;\n",
       "    }\n",
       "\n",
       "    .dataframe thead th {\n",
       "        text-align: right;\n",
       "    }\n",
       "</style>\n",
       "<table border=\"1\" class=\"dataframe\">\n",
       "  <thead>\n",
       "    <tr style=\"text-align: right;\">\n",
       "      <th></th>\n",
       "      <th>AAPL</th>\n",
       "      <th>AMZN</th>\n",
       "    </tr>\n",
       "    <tr>\n",
       "      <th>date</th>\n",
       "      <th></th>\n",
       "      <th></th>\n",
       "    </tr>\n",
       "  </thead>\n",
       "  <tbody>\n",
       "    <tr>\n",
       "      <th>1999-11-01</th>\n",
       "      <td>NaN</td>\n",
       "      <td>NaN</td>\n",
       "    </tr>\n",
       "    <tr>\n",
       "      <th>1999-11-02</th>\n",
       "      <td>0.016661</td>\n",
       "      <td>-0.019845</td>\n",
       "    </tr>\n",
       "    <tr>\n",
       "      <th>1999-11-03</th>\n",
       "      <td>0.007728</td>\n",
       "      <td>-0.004764</td>\n",
       "    </tr>\n",
       "    <tr>\n",
       "      <th>1999-11-04</th>\n",
       "      <td>0.012840</td>\n",
       "      <td>-0.021343</td>\n",
       "    </tr>\n",
       "    <tr>\n",
       "      <th>1999-11-05</th>\n",
       "      <td>0.027285</td>\n",
       "      <td>0.014689</td>\n",
       "    </tr>\n",
       "    <tr>\n",
       "      <th>...</th>\n",
       "      <td>...</td>\n",
       "      <td>...</td>\n",
       "    </tr>\n",
       "    <tr>\n",
       "      <th>2025-03-05</th>\n",
       "      <td>-0.000403</td>\n",
       "      <td>0.011064</td>\n",
       "    </tr>\n",
       "    <tr>\n",
       "      <th>2025-03-06</th>\n",
       "      <td>-0.000870</td>\n",
       "      <td>-0.018728</td>\n",
       "    </tr>\n",
       "    <tr>\n",
       "      <th>2025-03-07</th>\n",
       "      <td>0.007884</td>\n",
       "      <td>-0.003625</td>\n",
       "    </tr>\n",
       "    <tr>\n",
       "      <th>2025-03-10</th>\n",
       "      <td>-0.024847</td>\n",
       "      <td>-0.011961</td>\n",
       "    </tr>\n",
       "    <tr>\n",
       "      <th>2025-03-11</th>\n",
       "      <td>-0.014812</td>\n",
       "      <td>0.005241</td>\n",
       "    </tr>\n",
       "  </tbody>\n",
       "</table>\n",
       "<p>6378 rows × 2 columns</p>\n",
       "</div>"
      ],
      "text/plain": [
       "                AAPL      AMZN\n",
       "date                          \n",
       "1999-11-01       NaN       NaN\n",
       "1999-11-02  0.016661 -0.019845\n",
       "1999-11-03  0.007728 -0.004764\n",
       "1999-11-04  0.012840 -0.021343\n",
       "1999-11-05  0.027285  0.014689\n",
       "...              ...       ...\n",
       "2025-03-05 -0.000403  0.011064\n",
       "2025-03-06 -0.000870 -0.018728\n",
       "2025-03-07  0.007884 -0.003625\n",
       "2025-03-10 -0.024847 -0.011961\n",
       "2025-03-11 -0.014812  0.005241\n",
       "\n",
       "[6378 rows x 2 columns]"
      ]
     },
     "execution_count": 83,
     "metadata": {},
     "output_type": "execute_result"
    }
   ],
   "source": [
    "stock_port_ret"
   ]
  },
  {
   "cell_type": "code",
   "execution_count": 84,
   "metadata": {},
   "outputs": [
    {
     "data": {
      "text/plain": [
       "'\\npandas.DataFrame.sum(axis=1):\\nto find the sum of all rows in DataFrame; \\naxis=1 specifies that the sum will be done on the rows.\\n'"
      ]
     },
     "execution_count": 84,
     "metadata": {},
     "output_type": "execute_result"
    }
   ],
   "source": [
    "# df.loc[:,'New_Column'] = 'value' - You can use '.loc' with ':' to add a specified value for all rows.\n",
    "# https://www.re-thought.com/blog/how-to-add-new-columns-in-a-dataframe-in-pandas \n",
    "\n",
    "stock_port_ret.loc[:,'Portfolio']= stock_port_ret.sum(axis=1)\n",
    "\n",
    "\"\"\"\n",
    "pandas.DataFrame.sum(axis=1):\n",
    "to find the sum of all rows in DataFrame; \n",
    "axis=1 specifies that the sum will be done on the rows.\n",
    "\"\"\""
   ]
  },
  {
   "cell_type": "code",
   "execution_count": 85,
   "metadata": {},
   "outputs": [
    {
     "data": {
      "text/html": [
       "<div>\n",
       "<style scoped>\n",
       "    .dataframe tbody tr th:only-of-type {\n",
       "        vertical-align: middle;\n",
       "    }\n",
       "\n",
       "    .dataframe tbody tr th {\n",
       "        vertical-align: top;\n",
       "    }\n",
       "\n",
       "    .dataframe thead th {\n",
       "        text-align: right;\n",
       "    }\n",
       "</style>\n",
       "<table border=\"1\" class=\"dataframe\">\n",
       "  <thead>\n",
       "    <tr style=\"text-align: right;\">\n",
       "      <th></th>\n",
       "      <th>AAPL</th>\n",
       "      <th>AMZN</th>\n",
       "      <th>Portfolio</th>\n",
       "    </tr>\n",
       "    <tr>\n",
       "      <th>date</th>\n",
       "      <th></th>\n",
       "      <th></th>\n",
       "      <th></th>\n",
       "    </tr>\n",
       "  </thead>\n",
       "  <tbody>\n",
       "    <tr>\n",
       "      <th>1999-11-01</th>\n",
       "      <td>NaN</td>\n",
       "      <td>NaN</td>\n",
       "      <td>0.000000</td>\n",
       "    </tr>\n",
       "    <tr>\n",
       "      <th>1999-11-02</th>\n",
       "      <td>0.016661</td>\n",
       "      <td>-0.019845</td>\n",
       "      <td>-0.003184</td>\n",
       "    </tr>\n",
       "    <tr>\n",
       "      <th>1999-11-03</th>\n",
       "      <td>0.007728</td>\n",
       "      <td>-0.004764</td>\n",
       "      <td>0.002964</td>\n",
       "    </tr>\n",
       "    <tr>\n",
       "      <th>1999-11-04</th>\n",
       "      <td>0.012840</td>\n",
       "      <td>-0.021343</td>\n",
       "      <td>-0.008503</td>\n",
       "    </tr>\n",
       "    <tr>\n",
       "      <th>1999-11-05</th>\n",
       "      <td>0.027285</td>\n",
       "      <td>0.014689</td>\n",
       "      <td>0.041974</td>\n",
       "    </tr>\n",
       "    <tr>\n",
       "      <th>...</th>\n",
       "      <td>...</td>\n",
       "      <td>...</td>\n",
       "      <td>...</td>\n",
       "    </tr>\n",
       "    <tr>\n",
       "      <th>2025-03-05</th>\n",
       "      <td>-0.000403</td>\n",
       "      <td>0.011064</td>\n",
       "      <td>0.010661</td>\n",
       "    </tr>\n",
       "    <tr>\n",
       "      <th>2025-03-06</th>\n",
       "      <td>-0.000870</td>\n",
       "      <td>-0.018728</td>\n",
       "      <td>-0.019598</td>\n",
       "    </tr>\n",
       "    <tr>\n",
       "      <th>2025-03-07</th>\n",
       "      <td>0.007884</td>\n",
       "      <td>-0.003625</td>\n",
       "      <td>0.004258</td>\n",
       "    </tr>\n",
       "    <tr>\n",
       "      <th>2025-03-10</th>\n",
       "      <td>-0.024847</td>\n",
       "      <td>-0.011961</td>\n",
       "      <td>-0.036808</td>\n",
       "    </tr>\n",
       "    <tr>\n",
       "      <th>2025-03-11</th>\n",
       "      <td>-0.014812</td>\n",
       "      <td>0.005241</td>\n",
       "      <td>-0.009571</td>\n",
       "    </tr>\n",
       "  </tbody>\n",
       "</table>\n",
       "<p>6378 rows × 3 columns</p>\n",
       "</div>"
      ],
      "text/plain": [
       "                AAPL      AMZN  Portfolio\n",
       "date                                     \n",
       "1999-11-01       NaN       NaN   0.000000\n",
       "1999-11-02  0.016661 -0.019845  -0.003184\n",
       "1999-11-03  0.007728 -0.004764   0.002964\n",
       "1999-11-04  0.012840 -0.021343  -0.008503\n",
       "1999-11-05  0.027285  0.014689   0.041974\n",
       "...              ...       ...        ...\n",
       "2025-03-05 -0.000403  0.011064   0.010661\n",
       "2025-03-06 -0.000870 -0.018728  -0.019598\n",
       "2025-03-07  0.007884 -0.003625   0.004258\n",
       "2025-03-10 -0.024847 -0.011961  -0.036808\n",
       "2025-03-11 -0.014812  0.005241  -0.009571\n",
       "\n",
       "[6378 rows x 3 columns]"
      ]
     },
     "execution_count": 85,
     "metadata": {},
     "output_type": "execute_result"
    }
   ],
   "source": [
    "stock_port_ret"
   ]
  },
  {
   "cell_type": "code",
   "execution_count": 86,
   "metadata": {},
   "outputs": [
    {
     "data": {
      "text/html": [
       "<div>\n",
       "<style scoped>\n",
       "    .dataframe tbody tr th:only-of-type {\n",
       "        vertical-align: middle;\n",
       "    }\n",
       "\n",
       "    .dataframe tbody tr th {\n",
       "        vertical-align: top;\n",
       "    }\n",
       "\n",
       "    .dataframe thead th {\n",
       "        text-align: right;\n",
       "    }\n",
       "</style>\n",
       "<table border=\"1\" class=\"dataframe\">\n",
       "  <thead>\n",
       "    <tr style=\"text-align: right;\">\n",
       "      <th></th>\n",
       "      <th>1. open</th>\n",
       "      <th>2. high</th>\n",
       "      <th>3. low</th>\n",
       "      <th>4. close</th>\n",
       "      <th>5. volume</th>\n",
       "    </tr>\n",
       "    <tr>\n",
       "      <th>date</th>\n",
       "      <th></th>\n",
       "      <th></th>\n",
       "      <th></th>\n",
       "      <th></th>\n",
       "      <th></th>\n",
       "    </tr>\n",
       "  </thead>\n",
       "  <tbody>\n",
       "    <tr>\n",
       "      <th>2025-03-11 20:00:00</th>\n",
       "      <td>414.7400</td>\n",
       "      <td>414.7400</td>\n",
       "      <td>414.7400</td>\n",
       "      <td>414.7400</td>\n",
       "      <td>47945.0</td>\n",
       "    </tr>\n",
       "    <tr>\n",
       "      <th>2025-03-11 19:45:00</th>\n",
       "      <td>415.3000</td>\n",
       "      <td>415.6500</td>\n",
       "      <td>415.3000</td>\n",
       "      <td>415.6500</td>\n",
       "      <td>299.0</td>\n",
       "    </tr>\n",
       "    <tr>\n",
       "      <th>2025-03-11 19:30:00</th>\n",
       "      <td>415.2100</td>\n",
       "      <td>415.2500</td>\n",
       "      <td>415.1010</td>\n",
       "      <td>415.2500</td>\n",
       "      <td>11.0</td>\n",
       "    </tr>\n",
       "    <tr>\n",
       "      <th>2025-03-11 19:15:00</th>\n",
       "      <td>415.4600</td>\n",
       "      <td>415.4800</td>\n",
       "      <td>415.3150</td>\n",
       "      <td>415.4050</td>\n",
       "      <td>50.0</td>\n",
       "    </tr>\n",
       "    <tr>\n",
       "      <th>2025-03-11 19:00:00</th>\n",
       "      <td>415.5600</td>\n",
       "      <td>415.5888</td>\n",
       "      <td>415.4910</td>\n",
       "      <td>415.4910</td>\n",
       "      <td>156.0</td>\n",
       "    </tr>\n",
       "    <tr>\n",
       "      <th>...</th>\n",
       "      <td>...</td>\n",
       "      <td>...</td>\n",
       "      <td>...</td>\n",
       "      <td>...</td>\n",
       "      <td>...</td>\n",
       "    </tr>\n",
       "    <tr>\n",
       "      <th>2025-02-10 05:00:00</th>\n",
       "      <td>443.8265</td>\n",
       "      <td>443.8765</td>\n",
       "      <td>443.7466</td>\n",
       "      <td>443.7466</td>\n",
       "      <td>76.0</td>\n",
       "    </tr>\n",
       "    <tr>\n",
       "      <th>2025-02-10 04:45:00</th>\n",
       "      <td>443.6867</td>\n",
       "      <td>443.6867</td>\n",
       "      <td>443.6867</td>\n",
       "      <td>443.6867</td>\n",
       "      <td>5.0</td>\n",
       "    </tr>\n",
       "    <tr>\n",
       "      <th>2025-02-10 04:30:00</th>\n",
       "      <td>443.7766</td>\n",
       "      <td>443.7866</td>\n",
       "      <td>443.7267</td>\n",
       "      <td>443.7367</td>\n",
       "      <td>159.0</td>\n",
       "    </tr>\n",
       "    <tr>\n",
       "      <th>2025-02-10 04:15:00</th>\n",
       "      <td>443.6967</td>\n",
       "      <td>443.7766</td>\n",
       "      <td>443.6967</td>\n",
       "      <td>443.7766</td>\n",
       "      <td>33.0</td>\n",
       "    </tr>\n",
       "    <tr>\n",
       "      <th>2025-02-10 04:00:00</th>\n",
       "      <td>443.0277</td>\n",
       "      <td>443.6468</td>\n",
       "      <td>443.0277</td>\n",
       "      <td>443.6468</td>\n",
       "      <td>446.0</td>\n",
       "    </tr>\n",
       "  </tbody>\n",
       "</table>\n",
       "<p>1346 rows × 5 columns</p>\n",
       "</div>"
      ],
      "text/plain": [
       "                      1. open   2. high    3. low  4. close  5. volume\n",
       "date                                                                  \n",
       "2025-03-11 20:00:00  414.7400  414.7400  414.7400  414.7400    47945.0\n",
       "2025-03-11 19:45:00  415.3000  415.6500  415.3000  415.6500      299.0\n",
       "2025-03-11 19:30:00  415.2100  415.2500  415.1010  415.2500       11.0\n",
       "2025-03-11 19:15:00  415.4600  415.4800  415.3150  415.4050       50.0\n",
       "2025-03-11 19:00:00  415.5600  415.5888  415.4910  415.4910      156.0\n",
       "...                       ...       ...       ...       ...        ...\n",
       "2025-02-10 05:00:00  443.8265  443.8765  443.7466  443.7466       76.0\n",
       "2025-02-10 04:45:00  443.6867  443.6867  443.6867  443.6867        5.0\n",
       "2025-02-10 04:30:00  443.7766  443.7866  443.7267  443.7367      159.0\n",
       "2025-02-10 04:15:00  443.6967  443.7766  443.6967  443.7766       33.0\n",
       "2025-02-10 04:00:00  443.0277  443.6468  443.0277  443.6468      446.0\n",
       "\n",
       "[1346 rows x 5 columns]"
      ]
     },
     "execution_count": 86,
     "metadata": {},
     "output_type": "execute_result"
    }
   ],
   "source": [
    "ticker ='DIA'\n",
    "filename = ticker + '.csv'\n",
    "data, meta_data = ts.get_intraday(symbol=ticker, outputsize='full')\n",
    "data.to_csv(filename)\n",
    "data"
   ]
  },
  {
   "cell_type": "code",
   "execution_count": 87,
   "metadata": {},
   "outputs": [
    {
     "data": {
      "text/plain": [
       "date\n",
       "2025-02-10 04:00:00         NaN\n",
       "2025-02-10 04:15:00    0.000293\n",
       "2025-02-10 04:30:00   -0.000090\n",
       "2025-02-10 04:45:00   -0.000113\n",
       "2025-02-10 05:00:00    0.000135\n",
       "                         ...   \n",
       "2025-03-11 19:00:00   -0.000190\n",
       "2025-03-11 19:15:00   -0.000207\n",
       "2025-03-11 19:30:00   -0.000373\n",
       "2025-03-11 19:45:00    0.000963\n",
       "2025-03-11 20:00:00   -0.002192\n",
       "Name: 4. close, Length: 1346, dtype: float64"
      ]
     },
     "execution_count": 87,
     "metadata": {},
     "output_type": "execute_result"
    }
   ],
   "source": [
    "market_return = data.sort_values(by='date')\n",
    "market_return = market_return['4. close']\n",
    "market_return = np.log(market_return/market_return.shift(1))\n",
    "market_return"
   ]
  },
  {
   "cell_type": "code",
   "execution_count": 88,
   "metadata": {},
   "outputs": [
    {
     "data": {
      "text/plain": [
       "date\n",
       "2025-02-10 04:15:00    0.000293\n",
       "2025-02-10 04:30:00   -0.000090\n",
       "2025-02-10 04:45:00   -0.000113\n",
       "2025-02-10 05:00:00    0.000135\n",
       "2025-02-10 05:15:00   -0.000022\n",
       "                         ...   \n",
       "2025-03-11 19:00:00   -0.000190\n",
       "2025-03-11 19:15:00   -0.000207\n",
       "2025-03-11 19:30:00   -0.000373\n",
       "2025-03-11 19:45:00    0.000963\n",
       "2025-03-11 20:00:00   -0.002192\n",
       "Name: 4. close, Length: 1345, dtype: float64"
      ]
     },
     "execution_count": 88,
     "metadata": {},
     "output_type": "execute_result"
    }
   ],
   "source": [
    "market_return = market_return.drop(market_return.index[0])\n",
    "market_return"
   ]
  },
  {
   "cell_type": "code",
   "execution_count": 89,
   "metadata": {},
   "outputs": [],
   "source": [
    "# Add the market return into stock_port_ret\n",
    "stock_port_ret['DIA'] = market_return"
   ]
  },
  {
   "cell_type": "code",
   "execution_count": 90,
   "metadata": {},
   "outputs": [],
   "source": [
    "stock_port_ret = stock_port_ret.drop(stock_port_ret.index[0])"
   ]
  },
  {
   "cell_type": "code",
   "execution_count": 91,
   "metadata": {},
   "outputs": [
    {
     "data": {
      "text/html": [
       "<div>\n",
       "<style scoped>\n",
       "    .dataframe tbody tr th:only-of-type {\n",
       "        vertical-align: middle;\n",
       "    }\n",
       "\n",
       "    .dataframe tbody tr th {\n",
       "        vertical-align: top;\n",
       "    }\n",
       "\n",
       "    .dataframe thead th {\n",
       "        text-align: right;\n",
       "    }\n",
       "</style>\n",
       "<table border=\"1\" class=\"dataframe\">\n",
       "  <thead>\n",
       "    <tr style=\"text-align: right;\">\n",
       "      <th></th>\n",
       "      <th>AAPL</th>\n",
       "      <th>AMZN</th>\n",
       "      <th>Portfolio</th>\n",
       "      <th>DIA</th>\n",
       "    </tr>\n",
       "    <tr>\n",
       "      <th>date</th>\n",
       "      <th></th>\n",
       "      <th></th>\n",
       "      <th></th>\n",
       "      <th></th>\n",
       "    </tr>\n",
       "  </thead>\n",
       "  <tbody>\n",
       "    <tr>\n",
       "      <th>1999-11-02</th>\n",
       "      <td>0.016661</td>\n",
       "      <td>-0.019845</td>\n",
       "      <td>-0.003184</td>\n",
       "      <td>NaN</td>\n",
       "    </tr>\n",
       "    <tr>\n",
       "      <th>1999-11-03</th>\n",
       "      <td>0.007728</td>\n",
       "      <td>-0.004764</td>\n",
       "      <td>0.002964</td>\n",
       "      <td>NaN</td>\n",
       "    </tr>\n",
       "    <tr>\n",
       "      <th>1999-11-04</th>\n",
       "      <td>0.012840</td>\n",
       "      <td>-0.021343</td>\n",
       "      <td>-0.008503</td>\n",
       "      <td>NaN</td>\n",
       "    </tr>\n",
       "    <tr>\n",
       "      <th>1999-11-05</th>\n",
       "      <td>0.027285</td>\n",
       "      <td>0.014689</td>\n",
       "      <td>0.041974</td>\n",
       "      <td>NaN</td>\n",
       "    </tr>\n",
       "    <tr>\n",
       "      <th>1999-11-08</th>\n",
       "      <td>0.043671</td>\n",
       "      <td>0.091623</td>\n",
       "      <td>0.135293</td>\n",
       "      <td>NaN</td>\n",
       "    </tr>\n",
       "    <tr>\n",
       "      <th>...</th>\n",
       "      <td>...</td>\n",
       "      <td>...</td>\n",
       "      <td>...</td>\n",
       "      <td>...</td>\n",
       "    </tr>\n",
       "    <tr>\n",
       "      <th>2025-03-05</th>\n",
       "      <td>-0.000403</td>\n",
       "      <td>0.011064</td>\n",
       "      <td>0.010661</td>\n",
       "      <td>NaN</td>\n",
       "    </tr>\n",
       "    <tr>\n",
       "      <th>2025-03-06</th>\n",
       "      <td>-0.000870</td>\n",
       "      <td>-0.018728</td>\n",
       "      <td>-0.019598</td>\n",
       "      <td>NaN</td>\n",
       "    </tr>\n",
       "    <tr>\n",
       "      <th>2025-03-07</th>\n",
       "      <td>0.007884</td>\n",
       "      <td>-0.003625</td>\n",
       "      <td>0.004258</td>\n",
       "      <td>NaN</td>\n",
       "    </tr>\n",
       "    <tr>\n",
       "      <th>2025-03-10</th>\n",
       "      <td>-0.024847</td>\n",
       "      <td>-0.011961</td>\n",
       "      <td>-0.036808</td>\n",
       "      <td>NaN</td>\n",
       "    </tr>\n",
       "    <tr>\n",
       "      <th>2025-03-11</th>\n",
       "      <td>-0.014812</td>\n",
       "      <td>0.005241</td>\n",
       "      <td>-0.009571</td>\n",
       "      <td>NaN</td>\n",
       "    </tr>\n",
       "  </tbody>\n",
       "</table>\n",
       "<p>6377 rows × 4 columns</p>\n",
       "</div>"
      ],
      "text/plain": [
       "                AAPL      AMZN  Portfolio  DIA\n",
       "date                                          \n",
       "1999-11-02  0.016661 -0.019845  -0.003184  NaN\n",
       "1999-11-03  0.007728 -0.004764   0.002964  NaN\n",
       "1999-11-04  0.012840 -0.021343  -0.008503  NaN\n",
       "1999-11-05  0.027285  0.014689   0.041974  NaN\n",
       "1999-11-08  0.043671  0.091623   0.135293  NaN\n",
       "...              ...       ...        ...  ...\n",
       "2025-03-05 -0.000403  0.011064   0.010661  NaN\n",
       "2025-03-06 -0.000870 -0.018728  -0.019598  NaN\n",
       "2025-03-07  0.007884 -0.003625   0.004258  NaN\n",
       "2025-03-10 -0.024847 -0.011961  -0.036808  NaN\n",
       "2025-03-11 -0.014812  0.005241  -0.009571  NaN\n",
       "\n",
       "[6377 rows x 4 columns]"
      ]
     },
     "execution_count": 91,
     "metadata": {},
     "output_type": "execute_result"
    }
   ],
   "source": [
    "stock_port_ret"
   ]
  },
  {
   "cell_type": "markdown",
   "metadata": {},
   "source": [
    "---------------------------------------"
   ]
  },
  {
   "cell_type": "markdown",
   "metadata": {},
   "source": [
    "## Risk Measure: Standard Deviation"
   ]
  },
  {
   "cell_type": "markdown",
   "metadata": {},
   "source": [
    "### Variance"
   ]
  },
  {
   "cell_type": "code",
   "execution_count": 92,
   "metadata": {},
   "outputs": [
    {
     "name": "stdout",
     "output_type": "stream",
     "text": [
      "0.001640567273592953\n"
     ]
    }
   ],
   "source": [
    "# Variance of a Single Stock\n",
    "aapl_variance = stock_log_ret['AAPL'].var()\n",
    "print(aapl_variance)"
   ]
  },
  {
   "cell_type": "markdown",
   "metadata": {},
   "source": [
    "### Standard Deviation\n"
   ]
  },
  {
   "cell_type": "code",
   "execution_count": 93,
   "metadata": {},
   "outputs": [
    {
     "data": {
      "text/plain": [
       "np.float64(0.040503916768541696)"
      ]
     },
     "execution_count": 93,
     "metadata": {},
     "output_type": "execute_result"
    }
   ],
   "source": [
    "# Method 1:\n",
    "np.sqrt(aapl_variance) "
   ]
  },
  {
   "cell_type": "code",
   "execution_count": 94,
   "metadata": {},
   "outputs": [
    {
     "data": {
      "text/plain": [
       "np.float64(0.040503916768541696)"
      ]
     },
     "execution_count": 94,
     "metadata": {},
     "output_type": "execute_result"
    }
   ],
   "source": [
    "# Method 2:\n",
    "stock_log_ret['AAPL'].std()"
   ]
  },
  {
   "cell_type": "markdown",
   "metadata": {},
   "source": [
    "## Variance of the Portfolio of Stocks"
   ]
  },
  {
   "cell_type": "markdown",
   "metadata": {},
   "source": [
    "$$\n",
    "Variance = (Weight_1)^2*Var_1 + (Weight_2)^2*Var_2 + 2*Weight_1*Weight_2*cov\n",
    "$$"
   ]
  },
  {
   "cell_type": "markdown",
   "metadata": {},
   "source": [
    "#### Method 1："
   ]
  },
  {
   "cell_type": "code",
   "execution_count": 95,
   "metadata": {},
   "outputs": [
    {
     "data": {
      "text/plain": [
       "array([0.5, 0.5])"
      ]
     },
     "execution_count": 95,
     "metadata": {},
     "output_type": "execute_result"
    }
   ],
   "source": [
    "portfolio_weights"
   ]
  },
  {
   "cell_type": "code",
   "execution_count": 96,
   "metadata": {},
   "outputs": [
    {
     "data": {
      "text/html": [
       "<div>\n",
       "<style scoped>\n",
       "    .dataframe tbody tr th:only-of-type {\n",
       "        vertical-align: middle;\n",
       "    }\n",
       "\n",
       "    .dataframe tbody tr th {\n",
       "        vertical-align: top;\n",
       "    }\n",
       "\n",
       "    .dataframe thead th {\n",
       "        text-align: right;\n",
       "    }\n",
       "</style>\n",
       "<table border=\"1\" class=\"dataframe\">\n",
       "  <thead>\n",
       "    <tr style=\"text-align: right;\">\n",
       "      <th></th>\n",
       "      <th>AAPL</th>\n",
       "      <th>AMZN</th>\n",
       "    </tr>\n",
       "  </thead>\n",
       "  <tbody>\n",
       "    <tr>\n",
       "      <th>AAPL</th>\n",
       "      <td>0.001641</td>\n",
       "      <td>0.000281</td>\n",
       "    </tr>\n",
       "    <tr>\n",
       "      <th>AMZN</th>\n",
       "      <td>0.000281</td>\n",
       "      <td>0.002347</td>\n",
       "    </tr>\n",
       "  </tbody>\n",
       "</table>\n",
       "</div>"
      ],
      "text/plain": [
       "          AAPL      AMZN\n",
       "AAPL  0.001641  0.000281\n",
       "AMZN  0.000281  0.002347"
      ]
     },
     "execution_count": 96,
     "metadata": {},
     "output_type": "execute_result"
    }
   ],
   "source": [
    "stock_log_ret.cov()"
   ]
  },
  {
   "cell_type": "code",
   "execution_count": 118,
   "metadata": {},
   "outputs": [
    {
     "data": {
      "text/plain": [
       "np.float64(0.0002807111908117361)"
      ]
     },
     "execution_count": 118,
     "metadata": {},
     "output_type": "execute_result"
    }
   ],
   "source": [
    "#df.loc['row_label', 'column_label']\n",
    "stock_log_ret.cov().loc['AAPL','AMZN']"
   ]
  },
  {
   "cell_type": "code",
   "execution_count": 119,
   "metadata": {},
   "outputs": [],
   "source": [
    "# variance of portfolio of 2 assets \n",
    "# = (weight_1)^2*var_1 + (weight_2)^2*var_2 + 2*weight_1*weight_2*cov_12\n",
    "\n",
    "port_var = portfolio_weights[0]**2 * stock_log_ret['AAPL'].var() + portfolio_weights[1]**2 * stock_log_ret['AMZN'].var() + 2*portfolio_weights[0]*portfolio_weights[1]*stock_log_ret.cov().loc['AAPL','AMZN']\n",
    "# loc: Access a group of rows and columns."
   ]
  },
  {
   "cell_type": "code",
   "execution_count": 120,
   "metadata": {},
   "outputs": [
    {
     "data": {
      "text/plain": [
       "np.float64(0.0011371754695984257)"
      ]
     },
     "execution_count": 120,
     "metadata": {},
     "output_type": "execute_result"
    }
   ],
   "source": [
    "port_var"
   ]
  },
  {
   "cell_type": "code",
   "execution_count": 121,
   "metadata": {},
   "outputs": [
    {
     "name": "stdout",
     "output_type": "stream",
     "text": [
      "0.2865682183388033\n"
     ]
    }
   ],
   "source": [
    "# Annual variance\n",
    "print (port_var*252)"
   ]
  },
  {
   "cell_type": "code",
   "execution_count": 122,
   "metadata": {},
   "outputs": [
    {
     "name": "stdout",
     "output_type": "stream",
     "text": [
      "0.5353206687012966\n"
     ]
    }
   ],
   "source": [
    "# Standard deviation\n",
    "port_std = np.sqrt(port_var*252)\n",
    "print(port_std)"
   ]
  },
  {
   "cell_type": "markdown",
   "metadata": {},
   "source": [
    "#### (Optional) Method 2：\n",
    "Cacluating using Matrixes, so you could easily use this for any number of assets.\n",
    "\n",
    "https://community.wolfram.com/c/portal/getImageAttachment?filename=var_covar_formula.gif&userId=196586\n",
    "\n",
    "portfolio variance = weight_vector' * cov matrix * weight_vector"
   ]
  },
  {
   "cell_type": "markdown",
   "metadata": {},
   "source": [
    "### Learn a new Python function that we will use: \"np.dot\""
   ]
  },
  {
   "cell_type": "markdown",
   "metadata": {},
   "source": [
    "#### Explain np.dot:\n",
    "\n",
    "What is dot product in Math: https://en.wikipedia.org/wiki/Dot_product\n",
    "\n",
    "In Python, np.dot: product of two arrays. To compute dot product of numpy arrays, you can use numpy.dot() function.\n",
    "\n",
    "For more information, please see https://numpy.org/doc/stable/reference/generated/numpy.dot.html"
   ]
  },
  {
   "cell_type": "code",
   "execution_count": 123,
   "metadata": {},
   "outputs": [
    {
     "name": "stdout",
     "output_type": "stream",
     "text": [
      "77\n"
     ]
    }
   ],
   "source": [
    "# Example of np.dot\n",
    "\n",
    "import numpy as np\n",
    "\n",
    "# Create two arrays\n",
    "A = np.array([2, 1, 5, 4])\n",
    "B = np.array([3, 4, 7, 8])\n",
    "\n",
    "# dot product\n",
    "output = np.dot(A, B)\n",
    "\n",
    "print(output)"
   ]
  },
  {
   "cell_type": "code",
   "execution_count": 103,
   "metadata": {},
   "outputs": [
    {
     "data": {
      "text/plain": [
       "'\\noutput = [2, 1, 5, 4].[3, 4, 7, 8]\\n       = 2*3 + 1*4 + 5*7 + 4*8\\n       = 77\\n'"
      ]
     },
     "execution_count": 103,
     "metadata": {},
     "output_type": "execute_result"
    }
   ],
   "source": [
    "\"\"\"\n",
    "output = [2, 1, 5, 4].[3, 4, 7, 8]\n",
    "       = 2*3 + 1*4 + 5*7 + 4*8\n",
    "       = 77\n",
    "\"\"\""
   ]
  },
  {
   "cell_type": "markdown",
   "metadata": {},
   "source": [
    "### Now let's use \"np.dot\" to calculate variance of a portfolio\n",
    "\n",
    "$ Variance = (Weight_1)^2*Var_1 + (Weight_2)^2*Var_2 + 2*Weight_1*Weight_2*cov $"
   ]
  },
  {
   "cell_type": "code",
   "execution_count": 104,
   "metadata": {},
   "outputs": [
    {
     "data": {
      "text/html": [
       "<div>\n",
       "<style scoped>\n",
       "    .dataframe tbody tr th:only-of-type {\n",
       "        vertical-align: middle;\n",
       "    }\n",
       "\n",
       "    .dataframe tbody tr th {\n",
       "        vertical-align: top;\n",
       "    }\n",
       "\n",
       "    .dataframe thead th {\n",
       "        text-align: right;\n",
       "    }\n",
       "</style>\n",
       "<table border=\"1\" class=\"dataframe\">\n",
       "  <thead>\n",
       "    <tr style=\"text-align: right;\">\n",
       "      <th></th>\n",
       "      <th>AAPL</th>\n",
       "      <th>AMZN</th>\n",
       "    </tr>\n",
       "  </thead>\n",
       "  <tbody>\n",
       "    <tr>\n",
       "      <th>AAPL</th>\n",
       "      <td>0.001641</td>\n",
       "      <td>0.000281</td>\n",
       "    </tr>\n",
       "    <tr>\n",
       "      <th>AMZN</th>\n",
       "      <td>0.000281</td>\n",
       "      <td>0.002347</td>\n",
       "    </tr>\n",
       "  </tbody>\n",
       "</table>\n",
       "</div>"
      ],
      "text/plain": [
       "          AAPL      AMZN\n",
       "AAPL  0.001641  0.000281\n",
       "AMZN  0.000281  0.002347"
      ]
     },
     "execution_count": 104,
     "metadata": {},
     "output_type": "execute_result"
    }
   ],
   "source": [
    "stock_log_ret.cov()"
   ]
  },
  {
   "cell_type": "code",
   "execution_count": 124,
   "metadata": {},
   "outputs": [
    {
     "data": {
      "text/plain": [
       "array([0.5, 0.5])"
      ]
     },
     "execution_count": 124,
     "metadata": {},
     "output_type": "execute_result"
    }
   ],
   "source": [
    "portfolio_weights"
   ]
  },
  {
   "cell_type": "code",
   "execution_count": 128,
   "metadata": {},
   "outputs": [
    {
     "data": {
      "text/plain": [
       "array([0.5, 0.5])"
      ]
     },
     "execution_count": 128,
     "metadata": {},
     "output_type": "execute_result"
    }
   ],
   "source": [
    "np.dot(portfolio_weights, stock_log_ret.cov())\n",
    "portfolio_weights.T"
   ]
  },
  {
   "cell_type": "code",
   "execution_count": 106,
   "metadata": {},
   "outputs": [
    {
     "name": "stdout",
     "output_type": "stream",
     "text": [
      "0.0011371754695984246\n"
     ]
    }
   ],
   "source": [
    "# port_var_mat = np.dot(np.dot(A, B), A.T)\n",
    "# numpy.T, Returns an array with axes transposed, View of the transposed array.\n",
    "# https://numpy.org/doc/stable/reference/generated/numpy.ndarray.T.html\n",
    "port_var_mat = np.dot(np.dot(portfolio_weights, stock_log_ret.cov()), portfolio_weights.T)\n",
    "print (port_var_mat)"
   ]
  },
  {
   "cell_type": "code",
   "execution_count": 107,
   "metadata": {},
   "outputs": [
    {
     "name": "stdout",
     "output_type": "stream",
     "text": [
      "0.0011371754695984246\n"
     ]
    }
   ],
   "source": [
    "# Alternative:\n",
    "port_var_mat = np.dot(portfolio_weights.T, np.dot(stock_log_ret.cov(), portfolio_weights))\n",
    "print (port_var_mat)"
   ]
  },
  {
   "cell_type": "code",
   "execution_count": 108,
   "metadata": {},
   "outputs": [
    {
     "name": "stdout",
     "output_type": "stream",
     "text": [
      "0.2865682183388033\n"
     ]
    }
   ],
   "source": [
    "# Annual variance\n",
    "print (port_var*252)"
   ]
  },
  {
   "cell_type": "code",
   "execution_count": 109,
   "metadata": {},
   "outputs": [
    {
     "data": {
      "text/plain": [
       "np.float64(0.5353206687012962)"
      ]
     },
     "execution_count": 109,
     "metadata": {},
     "output_type": "execute_result"
    }
   ],
   "source": [
    "# Standard deviation\n",
    "np.sqrt(port_var_mat*252)"
   ]
  },
  {
   "cell_type": "markdown",
   "metadata": {},
   "source": [
    "## Risk Measure: Beta (optional, for advanced students, not to cover in class)\n",
    "\n",
    "### Beta\n",
    "\n",
    "We have a portfolio called \"p\", which includes Apple and Amazon. We have a market index called \"m\". $ B_p $ is Beta for Portfolio p. Using CAPM, we have the following\n",
    "\n",
    "$\n",
    "E (R_p) = R_f + B_p [ E (R_m) - R_f]\n",
    "$\n",
    "\n",
    "That is, Expected Return of Portfolio = Risk-free Rate + Beta*(Expected Return of Market - Risk-free Rate)\n",
    "\n",
    "Therefore we can cacluate Beta $ B_p $ using\n",
    "\n",
    "$\n",
    "B_p = [E (R_p) - R_f] / [ E (R_m) - R_f]\n",
    "$"
   ]
  },
  {
   "cell_type": "markdown",
   "metadata": {},
   "source": [
    "## Using regressions to obtain Beta\n",
    "\n",
    "To be simple, let's assume $ R_f = 0 $ for now:   \n",
    "$\n",
    "E (R_p)  = R_f + B_p [ E (R_m) - R_f] =  B_p*E (R_m)\n",
    "$\n",
    "\n",
    "\n",
    "Now let's use a simple linear regression: $ Y = \\alpha + \\beta X + \\epsilon $, where $ Y $ is $ R_p $, $ X $ is $ R_m $, and $ \\beta $ is $ B_p $.\n",
    "\n",
    "So we will run a regression below:\n",
    "\n",
    "$\n",
    "R_p = \\alpha + B_p * R_m + \\epsilon\n",
    "$"
   ]
  },
  {
   "cell_type": "markdown",
   "metadata": {},
   "source": [
    "### Run regressions in Python: use statsmodels module\n",
    "\n",
    "statsmodels is a Python module that provides classes and functions for the estimation of many different statistical models, as well as for conducting statistical tests, and statistical data exploration.\n",
    "\n",
    "https://www.statsmodels.org/stable/install.html"
   ]
  },
  {
   "cell_type": "code",
   "execution_count": 110,
   "metadata": {},
   "outputs": [
    {
     "name": "stdout",
     "output_type": "stream",
     "text": [
      "Requirement already satisfied: statsmodels in /Library/Frameworks/Python.framework/Versions/3.13/lib/python3.13/site-packages (0.14.4)\n",
      "Requirement already satisfied: numpy<3,>=1.22.3 in /Library/Frameworks/Python.framework/Versions/3.13/lib/python3.13/site-packages (from statsmodels) (2.2.3)\n",
      "Requirement already satisfied: scipy!=1.9.2,>=1.8 in /Library/Frameworks/Python.framework/Versions/3.13/lib/python3.13/site-packages (from statsmodels) (1.15.2)\n",
      "Requirement already satisfied: pandas!=2.1.0,>=1.4 in /Library/Frameworks/Python.framework/Versions/3.13/lib/python3.13/site-packages (from statsmodels) (2.2.3)\n",
      "Requirement already satisfied: patsy>=0.5.6 in /Library/Frameworks/Python.framework/Versions/3.13/lib/python3.13/site-packages (from statsmodels) (1.0.1)\n",
      "Requirement already satisfied: packaging>=21.3 in /Users/isaackaiyuilee/Library/Python/3.13/lib/python/site-packages (from statsmodels) (24.2)\n",
      "Requirement already satisfied: python-dateutil>=2.8.2 in /Users/isaackaiyuilee/Library/Python/3.13/lib/python/site-packages (from pandas!=2.1.0,>=1.4->statsmodels) (2.9.0.post0)\n",
      "Requirement already satisfied: pytz>=2020.1 in /Library/Frameworks/Python.framework/Versions/3.13/lib/python3.13/site-packages (from pandas!=2.1.0,>=1.4->statsmodels) (2025.1)\n",
      "Requirement already satisfied: tzdata>=2022.7 in /Library/Frameworks/Python.framework/Versions/3.13/lib/python3.13/site-packages (from pandas!=2.1.0,>=1.4->statsmodels) (2025.1)\n",
      "Requirement already satisfied: six>=1.5 in /Users/isaackaiyuilee/Library/Python/3.13/lib/python/site-packages (from python-dateutil>=2.8.2->pandas!=2.1.0,>=1.4->statsmodels) (1.17.0)\n",
      "\n",
      "\u001b[1m[\u001b[0m\u001b[34;49mnotice\u001b[0m\u001b[1;39;49m]\u001b[0m\u001b[39;49m A new release of pip is available: \u001b[0m\u001b[31;49m24.2\u001b[0m\u001b[39;49m -> \u001b[0m\u001b[32;49m25.0.1\u001b[0m\n",
      "\u001b[1m[\u001b[0m\u001b[34;49mnotice\u001b[0m\u001b[1;39;49m]\u001b[0m\u001b[39;49m To update, run: \u001b[0m\u001b[32;49mpip3 install --upgrade pip\u001b[0m\n",
      "Note: you may need to restart the kernel to use updated packages.\n"
     ]
    }
   ],
   "source": [
    "# Install statsmodels\n",
    "%pip install statsmodels"
   ]
  },
  {
   "cell_type": "code",
   "execution_count": 129,
   "metadata": {},
   "outputs": [
    {
     "data": {
      "text/plain": [
       "'\\nstatsmodels.api: Cross-sectional models and methods.\\nThe API focuses on models and the most frequently used statistical test, \\nand tools.\\nCanonically imported using import statsmodels.api as sm.\\n'"
      ]
     },
     "execution_count": 129,
     "metadata": {},
     "output_type": "execute_result"
    }
   ],
   "source": [
    "# import statsmodels API\n",
    "import statsmodels.api as sm\n",
    "\n",
    "\"\"\"\n",
    "statsmodels.api: Cross-sectional models and methods.\n",
    "The API focuses on models and the most frequently used statistical test, \n",
    "and tools.\n",
    "Canonically imported using import statsmodels.api as sm.\n",
    "\"\"\""
   ]
  },
  {
   "cell_type": "markdown",
   "metadata": {},
   "source": [
    "### Regression Code:"
   ]
  },
  {
   "cell_type": "code",
   "execution_count": 130,
   "metadata": {
    "scrolled": true
   },
   "outputs": [
    {
     "name": "stdout",
     "output_type": "stream",
     "text": [
      "                            OLS Regression Results                            \n",
      "==============================================================================\n",
      "Dep. Variable:              Portfolio   R-squared:                       0.495\n",
      "Model:                            OLS   Adj. R-squared:                  0.495\n",
      "Method:                 Least Squares   F-statistic:                     6240.\n",
      "Date:                Wed, 12 Mar 2025   Prob (F-statistic):               0.00\n",
      "Time:                        10:05:13   Log-Likelihood:                 14744.\n",
      "No. Observations:                6377   AIC:                        -2.948e+04\n",
      "Df Residuals:                    6375   BIC:                        -2.947e+04\n",
      "Df Model:                           1                                         \n",
      "Covariance Type:            nonrobust                                         \n",
      "==============================================================================\n",
      "                 coef    std err          t      P>|t|      [0.025      0.975]\n",
      "------------------------------------------------------------------------------\n",
      "const       6.792e-05      0.000      0.226      0.821      -0.001       0.001\n",
      "AAPL           1.1711      0.015     78.994      0.000       1.142       1.200\n",
      "==============================================================================\n",
      "Omnibus:                    18145.248   Durbin-Watson:                   1.986\n",
      "Prob(Omnibus):                  0.000   Jarque-Bera (JB):       1446140689.322\n",
      "Skew:                         -37.347   Prob(JB):                         0.00\n",
      "Kurtosis:                    2334.739   Cond. No.                         49.4\n",
      "==============================================================================\n",
      "\n",
      "Notes:\n",
      "[1] Standard Errors assume that the covariance matrix of the errors is correctly specified.\n"
     ]
    }
   ],
   "source": [
    "# X is the market index return\n",
    "X = stock_port_ret['AAPL']\n",
    "\n",
    "# y is the portfolio return\n",
    "y = stock_port_ret['Portfolio']\n",
    "\n",
    "# Add a constant in the regression model\n",
    "# An intercept is not included by default and should be added by the user\n",
    "X1 = sm.add_constant(X)\n",
    "\n",
    "# Regression model\n",
    "# OLS: Ordinary Least Squares\n",
    "model = sm.OLS(y,X1)\n",
    "\n",
    "# Fit the model and print results\n",
    "results = model.fit()\n",
    "print(results.summary())"
   ]
  },
  {
   "cell_type": "code",
   "execution_count": 113,
   "metadata": {},
   "outputs": [
    {
     "name": "stdout",
     "output_type": "stream",
     "text": [
      "const    0.000068\n",
      "AAPL     1.171106\n",
      "dtype: float64\n"
     ]
    }
   ],
   "source": [
    "print(results.params)"
   ]
  },
  {
   "cell_type": "code",
   "execution_count": 114,
   "metadata": {},
   "outputs": [
    {
     "name": "stdout",
     "output_type": "stream",
     "text": [
      "Beta is 1.1711061748763039\n"
     ]
    },
    {
     "name": "stderr",
     "output_type": "stream",
     "text": [
      "/var/folders/qz/xwx1r5sx2k9dgf6nxmgph3200000gn/T/ipykernel_5445/1074429198.py:1: FutureWarning: Series.__getitem__ treating keys as positions is deprecated. In a future version, integer keys will always be treated as labels (consistent with DataFrame behavior). To access a value by position, use `ser.iloc[pos]`\n",
      "  beta = results.params[1]\n"
     ]
    }
   ],
   "source": [
    "beta = results.params[1]\n",
    "print('Beta is ' + str(beta))"
   ]
  },
  {
   "cell_type": "code",
   "execution_count": 115,
   "metadata": {},
   "outputs": [
    {
     "name": "stdout",
     "output_type": "stream",
     "text": [
      "R2:  0.4946512507246904\n"
     ]
    }
   ],
   "source": [
    "print('R2: ', results.rsquared)"
   ]
  },
  {
   "cell_type": "code",
   "execution_count": null,
   "metadata": {},
   "outputs": [],
   "source": []
  },
  {
   "cell_type": "markdown",
   "metadata": {},
   "source": [
    "## Sharpe Ratio \n",
    "\n",
    "Assume the risk-free rate is 0%\n",
    "\n",
    "Formula and Calculation for Sharpe Ratio\n",
    "\\begin{aligned} &\\textit{Sharpe Ratio} = \\frac{R_p - R_f}{\\sigma_p}\\\\ &\\textbf{where:}\\\\ &R_{p}=\\text{return of portfolio}\\\\ &R_{f} = \\text{risk-free rate}\\\\ &\\sigma_p = \\text{standard deviation of the portfolio's excess return}\\\\ \\end{aligned} "
   ]
  },
  {
   "cell_type": "code",
   "execution_count": 116,
   "metadata": {},
   "outputs": [
    {
     "name": "stdout",
     "output_type": "stream",
     "text": [
      "0.07716869552816824\n"
     ]
    }
   ],
   "source": [
    "sharpe = (ann_return - 0)/port_std\n",
    "print(sharpe)"
   ]
  },
  {
   "cell_type": "markdown",
   "metadata": {},
   "source": [
    "### Treynor Ratio\n",
    "\n",
    "The Formula for the Treynor Ratio is:\n",
    "\\begin{aligned} &\\text{Treynor Ratio}=\\frac{R_p - R_f}{\\beta_p}\\\\ &\\textbf{where:}\\\\ &R_p = \\text{Portfolio return}\\\\ &R_f = \\text{Risk-free rate}\\\\ &\\beta_p = \\text{Beta of the portfolio}\\\\ \\end{aligned} "
   ]
  },
  {
   "cell_type": "code",
   "execution_count": 117,
   "metadata": {},
   "outputs": [
    {
     "name": "stdout",
     "output_type": "stream",
     "text": [
      "0.03527434025980529\n"
     ]
    }
   ],
   "source": [
    "treynor = (ann_return - 0)/beta\n",
    "print(treynor)"
   ]
  },
  {
   "cell_type": "code",
   "execution_count": null,
   "metadata": {},
   "outputs": [],
   "source": []
  }
 ],
 "metadata": {
  "kernelspec": {
   "display_name": "Python 3",
   "language": "python",
   "name": "python3"
  },
  "language_info": {
   "codemirror_mode": {
    "name": "ipython",
    "version": 3
   },
   "file_extension": ".py",
   "mimetype": "text/x-python",
   "name": "python",
   "nbconvert_exporter": "python",
   "pygments_lexer": "ipython3",
   "version": "3.13.0"
  }
 },
 "nbformat": 4,
 "nbformat_minor": 4
}
