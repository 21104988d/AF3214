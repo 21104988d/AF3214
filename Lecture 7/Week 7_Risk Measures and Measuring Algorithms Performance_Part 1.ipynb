{
 "cells": [
  {
   "cell_type": "markdown",
   "metadata": {},
   "source": [
    "# AF3214\n",
    "# Week 7. Introduction to Risk Measures and Measuring Algorithms Performance"
   ]
  },
  {
   "cell_type": "markdown",
   "metadata": {},
   "source": [
    "# Part 1: Risk Measures"
   ]
  },
  {
   "cell_type": "markdown",
   "metadata": {},
   "source": [
    "### Obtain data from APIs \n",
    "\n",
    "### e.g., Alpha Vantage, https://github.com/RomelTorres/alpha_vantage "
   ]
  },
  {
   "cell_type": "code",
   "execution_count": null,
   "metadata": {},
   "outputs": [],
   "source": [
    "!pip install alpha_vantage"
   ]
  },
  {
   "cell_type": "markdown",
   "metadata": {},
   "source": [
    "Let's start by loading data that we will use. We need two firms. Here we pick Amazon and Apple."
   ]
  },
  {
   "cell_type": "code",
   "execution_count": 1,
   "metadata": {},
   "outputs": [],
   "source": [
    "# Import pandas and numpy\n",
    "import pandas as pd\n",
    "import numpy as np"
   ]
  },
  {
   "cell_type": "code",
   "execution_count": 2,
   "metadata": {},
   "outputs": [],
   "source": [
    "# Create an empty dictionary. We name it as \"stock_data\"\n",
    "stock_data = {}"
   ]
  },
  {
   "cell_type": "code",
   "execution_count": 3,
   "metadata": {
    "tags": []
   },
   "outputs": [],
   "source": [
    "# API: alpha_vantage (an API by Alpha Vantage)\n",
    "from alpha_vantage.timeseries import TimeSeries\n",
    "import time\n",
    "\n",
    "# If you want to download the data please use your own Alpha Vantage key\n",
    "ts = TimeSeries(key='J4TEYW0NMM3KQH5Y', output_format='pandas')\n",
    "\n",
    "tickers = ['AAPL','AMZN']\n",
    "\n",
    "for ticker in tickers: \n",
    "    filename = ticker + '.csv'\n",
    "    data, meta_data = ts.get_daily(symbol=ticker, outputsize='full')\n",
    "    stock_data[ticker] = data\n",
    "    data.to_csv(filename)\n",
    "    time.sleep(5)  \n",
    "\n",
    "# meta data: a set of data that describes and gives information about other data\n",
    "# There are two parts in the API response: \"Meta Data\" and \"Time Series\"\n",
    "# The library is mapping meta_data to \"Meta Data\" and \"Time Series\" to data"
   ]
  },
  {
   "cell_type": "code",
   "execution_count": 4,
   "metadata": {},
   "outputs": [
    {
     "data": {
      "text/plain": [
       "{'1. Information': 'Daily Prices (open, high, low, close) and Volumes',\n",
       " '2. Symbol': 'AMZN',\n",
       " '3. Last Refreshed': '2025-03-11',\n",
       " '4. Output Size': 'Full size',\n",
       " '5. Time Zone': 'US/Eastern'}"
      ]
     },
     "execution_count": 4,
     "metadata": {},
     "output_type": "execute_result"
    }
   ],
   "source": [
    "meta_data"
   ]
  },
  {
   "cell_type": "code",
   "execution_count": 5,
   "metadata": {},
   "outputs": [
    {
     "data": {
      "text/plain": [
       "{'AAPL':             1. open   2. high    3. low  4. close   5. volume\n",
       " date                                                         \n",
       " 2025-03-11  223.805  225.8399  217.4500    220.84  73971209.0\n",
       " 2025-03-10  235.540  236.1600  224.2200    227.48  71451281.0\n",
       " 2025-03-07  235.105  241.3700  234.7600    239.07  46273565.0\n",
       " 2025-03-06  234.435  237.8600  233.1581    235.33  45170419.0\n",
       " 2025-03-05  235.420  236.5500  229.2300    235.74  47227643.0\n",
       " ...             ...       ...       ...       ...         ...\n",
       " 1999-11-05   84.620   88.3700   84.0000     88.31   3721500.0\n",
       " 1999-11-04   82.060   85.3700   80.6200     83.62   3384700.0\n",
       " 1999-11-03   81.620   83.2500   81.0000     81.50   2932700.0\n",
       " 1999-11-02   78.000   81.6900   77.3100     80.25   3564600.0\n",
       " 1999-11-01   80.000   80.6900   77.3700     77.62   2487300.0\n",
       " \n",
       " [6378 rows x 5 columns],\n",
       " 'AMZN':             1. open   2. high    3. low  4. close   5. volume\n",
       " date                                                         \n",
       " 2025-03-11   193.90  200.1800  193.4000    196.59  52302854.0\n",
       " 2025-03-10   195.60  196.7300  190.8500    194.54  61829231.0\n",
       " 2025-03-07   199.49  202.2653  192.5300    199.25  59802821.0\n",
       " 2025-03-06   204.40  205.7700  198.3015    200.70  49863755.0\n",
       " 2025-03-05   204.80  209.9800  203.2600    208.36  38610085.0\n",
       " ...             ...       ...       ...       ...         ...\n",
       " 1999-11-05    64.75   65.5000   62.2500     64.94  11091400.0\n",
       " 1999-11-04    67.19   67.1900   61.0000     63.06  16759200.0\n",
       " 1999-11-03    68.19   68.5000   65.0000     65.81  10772100.0\n",
       " 1999-11-02    69.75   70.0000   65.0600     66.44  13243200.0\n",
       " 1999-11-01    68.06   71.8800   66.3100     69.13  12824100.0\n",
       " \n",
       " [6378 rows x 5 columns]}"
      ]
     },
     "execution_count": 5,
     "metadata": {},
     "output_type": "execute_result"
    }
   ],
   "source": [
    "stock_data"
   ]
  },
  {
   "cell_type": "code",
   "execution_count": 6,
   "metadata": {},
   "outputs": [
    {
     "data": {
      "text/plain": [
       "pandas.core.frame.DataFrame"
      ]
     },
     "execution_count": 6,
     "metadata": {},
     "output_type": "execute_result"
    }
   ],
   "source": [
    "type(stock_data['AAPL'])"
   ]
  },
  {
   "cell_type": "code",
   "execution_count": 7,
   "metadata": {},
   "outputs": [
    {
     "data": {
      "text/html": [
       "<div>\n",
       "<style scoped>\n",
       "    .dataframe tbody tr th:only-of-type {\n",
       "        vertical-align: middle;\n",
       "    }\n",
       "\n",
       "    .dataframe tbody tr th {\n",
       "        vertical-align: top;\n",
       "    }\n",
       "\n",
       "    .dataframe thead th {\n",
       "        text-align: right;\n",
       "    }\n",
       "</style>\n",
       "<table border=\"1\" class=\"dataframe\">\n",
       "  <thead>\n",
       "    <tr style=\"text-align: right;\">\n",
       "      <th></th>\n",
       "      <th>1. open</th>\n",
       "      <th>2. high</th>\n",
       "      <th>3. low</th>\n",
       "      <th>4. close</th>\n",
       "      <th>5. volume</th>\n",
       "    </tr>\n",
       "    <tr>\n",
       "      <th>date</th>\n",
       "      <th></th>\n",
       "      <th></th>\n",
       "      <th></th>\n",
       "      <th></th>\n",
       "      <th></th>\n",
       "    </tr>\n",
       "  </thead>\n",
       "  <tbody>\n",
       "    <tr>\n",
       "      <th>2025-03-11</th>\n",
       "      <td>223.805</td>\n",
       "      <td>225.8399</td>\n",
       "      <td>217.4500</td>\n",
       "      <td>220.84</td>\n",
       "      <td>73971209.0</td>\n",
       "    </tr>\n",
       "    <tr>\n",
       "      <th>2025-03-10</th>\n",
       "      <td>235.540</td>\n",
       "      <td>236.1600</td>\n",
       "      <td>224.2200</td>\n",
       "      <td>227.48</td>\n",
       "      <td>71451281.0</td>\n",
       "    </tr>\n",
       "    <tr>\n",
       "      <th>2025-03-07</th>\n",
       "      <td>235.105</td>\n",
       "      <td>241.3700</td>\n",
       "      <td>234.7600</td>\n",
       "      <td>239.07</td>\n",
       "      <td>46273565.0</td>\n",
       "    </tr>\n",
       "    <tr>\n",
       "      <th>2025-03-06</th>\n",
       "      <td>234.435</td>\n",
       "      <td>237.8600</td>\n",
       "      <td>233.1581</td>\n",
       "      <td>235.33</td>\n",
       "      <td>45170419.0</td>\n",
       "    </tr>\n",
       "    <tr>\n",
       "      <th>2025-03-05</th>\n",
       "      <td>235.420</td>\n",
       "      <td>236.5500</td>\n",
       "      <td>229.2300</td>\n",
       "      <td>235.74</td>\n",
       "      <td>47227643.0</td>\n",
       "    </tr>\n",
       "    <tr>\n",
       "      <th>...</th>\n",
       "      <td>...</td>\n",
       "      <td>...</td>\n",
       "      <td>...</td>\n",
       "      <td>...</td>\n",
       "      <td>...</td>\n",
       "    </tr>\n",
       "    <tr>\n",
       "      <th>1999-11-05</th>\n",
       "      <td>84.620</td>\n",
       "      <td>88.3700</td>\n",
       "      <td>84.0000</td>\n",
       "      <td>88.31</td>\n",
       "      <td>3721500.0</td>\n",
       "    </tr>\n",
       "    <tr>\n",
       "      <th>1999-11-04</th>\n",
       "      <td>82.060</td>\n",
       "      <td>85.3700</td>\n",
       "      <td>80.6200</td>\n",
       "      <td>83.62</td>\n",
       "      <td>3384700.0</td>\n",
       "    </tr>\n",
       "    <tr>\n",
       "      <th>1999-11-03</th>\n",
       "      <td>81.620</td>\n",
       "      <td>83.2500</td>\n",
       "      <td>81.0000</td>\n",
       "      <td>81.50</td>\n",
       "      <td>2932700.0</td>\n",
       "    </tr>\n",
       "    <tr>\n",
       "      <th>1999-11-02</th>\n",
       "      <td>78.000</td>\n",
       "      <td>81.6900</td>\n",
       "      <td>77.3100</td>\n",
       "      <td>80.25</td>\n",
       "      <td>3564600.0</td>\n",
       "    </tr>\n",
       "    <tr>\n",
       "      <th>1999-11-01</th>\n",
       "      <td>80.000</td>\n",
       "      <td>80.6900</td>\n",
       "      <td>77.3700</td>\n",
       "      <td>77.62</td>\n",
       "      <td>2487300.0</td>\n",
       "    </tr>\n",
       "  </tbody>\n",
       "</table>\n",
       "<p>6378 rows × 5 columns</p>\n",
       "</div>"
      ],
      "text/plain": [
       "            1. open   2. high    3. low  4. close   5. volume\n",
       "date                                                         \n",
       "2025-03-11  223.805  225.8399  217.4500    220.84  73971209.0\n",
       "2025-03-10  235.540  236.1600  224.2200    227.48  71451281.0\n",
       "2025-03-07  235.105  241.3700  234.7600    239.07  46273565.0\n",
       "2025-03-06  234.435  237.8600  233.1581    235.33  45170419.0\n",
       "2025-03-05  235.420  236.5500  229.2300    235.74  47227643.0\n",
       "...             ...       ...       ...       ...         ...\n",
       "1999-11-05   84.620   88.3700   84.0000     88.31   3721500.0\n",
       "1999-11-04   82.060   85.3700   80.6200     83.62   3384700.0\n",
       "1999-11-03   81.620   83.2500   81.0000     81.50   2932700.0\n",
       "1999-11-02   78.000   81.6900   77.3100     80.25   3564600.0\n",
       "1999-11-01   80.000   80.6900   77.3700     77.62   2487300.0\n",
       "\n",
       "[6378 rows x 5 columns]"
      ]
     },
     "execution_count": 7,
     "metadata": {},
     "output_type": "execute_result"
    }
   ],
   "source": [
    "stock_data['AAPL']"
   ]
  },
  {
   "cell_type": "code",
   "execution_count": 8,
   "metadata": {},
   "outputs": [
    {
     "data": {
      "text/html": [
       "<div>\n",
       "<style scoped>\n",
       "    .dataframe tbody tr th:only-of-type {\n",
       "        vertical-align: middle;\n",
       "    }\n",
       "\n",
       "    .dataframe tbody tr th {\n",
       "        vertical-align: top;\n",
       "    }\n",
       "\n",
       "    .dataframe thead th {\n",
       "        text-align: right;\n",
       "    }\n",
       "</style>\n",
       "<table border=\"1\" class=\"dataframe\">\n",
       "  <thead>\n",
       "    <tr style=\"text-align: right;\">\n",
       "      <th></th>\n",
       "      <th>1. open</th>\n",
       "      <th>2. high</th>\n",
       "      <th>3. low</th>\n",
       "      <th>4. close</th>\n",
       "      <th>5. volume</th>\n",
       "    </tr>\n",
       "    <tr>\n",
       "      <th>date</th>\n",
       "      <th></th>\n",
       "      <th></th>\n",
       "      <th></th>\n",
       "      <th></th>\n",
       "      <th></th>\n",
       "    </tr>\n",
       "  </thead>\n",
       "  <tbody>\n",
       "    <tr>\n",
       "      <th>2025-03-11</th>\n",
       "      <td>193.90</td>\n",
       "      <td>200.1800</td>\n",
       "      <td>193.4000</td>\n",
       "      <td>196.59</td>\n",
       "      <td>52302854.0</td>\n",
       "    </tr>\n",
       "    <tr>\n",
       "      <th>2025-03-10</th>\n",
       "      <td>195.60</td>\n",
       "      <td>196.7300</td>\n",
       "      <td>190.8500</td>\n",
       "      <td>194.54</td>\n",
       "      <td>61829231.0</td>\n",
       "    </tr>\n",
       "    <tr>\n",
       "      <th>2025-03-07</th>\n",
       "      <td>199.49</td>\n",
       "      <td>202.2653</td>\n",
       "      <td>192.5300</td>\n",
       "      <td>199.25</td>\n",
       "      <td>59802821.0</td>\n",
       "    </tr>\n",
       "    <tr>\n",
       "      <th>2025-03-06</th>\n",
       "      <td>204.40</td>\n",
       "      <td>205.7700</td>\n",
       "      <td>198.3015</td>\n",
       "      <td>200.70</td>\n",
       "      <td>49863755.0</td>\n",
       "    </tr>\n",
       "    <tr>\n",
       "      <th>2025-03-05</th>\n",
       "      <td>204.80</td>\n",
       "      <td>209.9800</td>\n",
       "      <td>203.2600</td>\n",
       "      <td>208.36</td>\n",
       "      <td>38610085.0</td>\n",
       "    </tr>\n",
       "    <tr>\n",
       "      <th>...</th>\n",
       "      <td>...</td>\n",
       "      <td>...</td>\n",
       "      <td>...</td>\n",
       "      <td>...</td>\n",
       "      <td>...</td>\n",
       "    </tr>\n",
       "    <tr>\n",
       "      <th>1999-11-05</th>\n",
       "      <td>64.75</td>\n",
       "      <td>65.5000</td>\n",
       "      <td>62.2500</td>\n",
       "      <td>64.94</td>\n",
       "      <td>11091400.0</td>\n",
       "    </tr>\n",
       "    <tr>\n",
       "      <th>1999-11-04</th>\n",
       "      <td>67.19</td>\n",
       "      <td>67.1900</td>\n",
       "      <td>61.0000</td>\n",
       "      <td>63.06</td>\n",
       "      <td>16759200.0</td>\n",
       "    </tr>\n",
       "    <tr>\n",
       "      <th>1999-11-03</th>\n",
       "      <td>68.19</td>\n",
       "      <td>68.5000</td>\n",
       "      <td>65.0000</td>\n",
       "      <td>65.81</td>\n",
       "      <td>10772100.0</td>\n",
       "    </tr>\n",
       "    <tr>\n",
       "      <th>1999-11-02</th>\n",
       "      <td>69.75</td>\n",
       "      <td>70.0000</td>\n",
       "      <td>65.0600</td>\n",
       "      <td>66.44</td>\n",
       "      <td>13243200.0</td>\n",
       "    </tr>\n",
       "    <tr>\n",
       "      <th>1999-11-01</th>\n",
       "      <td>68.06</td>\n",
       "      <td>71.8800</td>\n",
       "      <td>66.3100</td>\n",
       "      <td>69.13</td>\n",
       "      <td>12824100.0</td>\n",
       "    </tr>\n",
       "  </tbody>\n",
       "</table>\n",
       "<p>6378 rows × 5 columns</p>\n",
       "</div>"
      ],
      "text/plain": [
       "            1. open   2. high    3. low  4. close   5. volume\n",
       "date                                                         \n",
       "2025-03-11   193.90  200.1800  193.4000    196.59  52302854.0\n",
       "2025-03-10   195.60  196.7300  190.8500    194.54  61829231.0\n",
       "2025-03-07   199.49  202.2653  192.5300    199.25  59802821.0\n",
       "2025-03-06   204.40  205.7700  198.3015    200.70  49863755.0\n",
       "2025-03-05   204.80  209.9800  203.2600    208.36  38610085.0\n",
       "...             ...       ...       ...       ...         ...\n",
       "1999-11-05    64.75   65.5000   62.2500     64.94  11091400.0\n",
       "1999-11-04    67.19   67.1900   61.0000     63.06  16759200.0\n",
       "1999-11-03    68.19   68.5000   65.0000     65.81  10772100.0\n",
       "1999-11-02    69.75   70.0000   65.0600     66.44  13243200.0\n",
       "1999-11-01    68.06   71.8800   66.3100     69.13  12824100.0\n",
       "\n",
       "[6378 rows x 5 columns]"
      ]
     },
     "execution_count": 8,
     "metadata": {},
     "output_type": "execute_result"
    }
   ],
   "source": [
    "stock_data['AMZN']"
   ]
  },
  {
   "cell_type": "code",
   "execution_count": 9,
   "metadata": {},
   "outputs": [
    {
     "name": "stdout",
     "output_type": "stream",
     "text": [
      "              AAPL    AMZN\n",
      "date                      \n",
      "1999-11-01   77.62   69.13\n",
      "1999-11-02   80.25   66.44\n",
      "1999-11-03   81.50   65.81\n",
      "1999-11-04   83.62   63.06\n",
      "1999-11-05   88.31   64.94\n",
      "...            ...     ...\n",
      "2025-03-05  235.74  208.36\n",
      "2025-03-06  235.33  200.70\n",
      "2025-03-07  239.07  199.25\n",
      "2025-03-10  227.48  194.54\n",
      "2025-03-11  220.84  196.59\n",
      "\n",
      "[6378 rows x 2 columns]\n"
     ]
    }
   ],
   "source": [
    "stock_final_data = pd.DataFrame()\n",
    "for ticker in tickers:\n",
    "    stock_final_data[ticker] = stock_data[ticker]['4. close']\n",
    "idx_sort = stock_final_data.sort_values(by=\"date\")\n",
    "print(idx_sort)"
   ]
  },
  {
   "cell_type": "code",
   "execution_count": 10,
   "metadata": {},
   "outputs": [
    {
     "data": {
      "text/plain": [
       "pandas.core.frame.DataFrame"
      ]
     },
     "execution_count": 10,
     "metadata": {},
     "output_type": "execute_result"
    }
   ],
   "source": [
    "type(stock_final_data)"
   ]
  },
  {
   "cell_type": "code",
   "execution_count": 11,
   "metadata": {},
   "outputs": [
    {
     "data": {
      "text/plain": [
       "date\n",
       "2025-03-11    220.84\n",
       "2025-03-10    227.48\n",
       "2025-03-07    239.07\n",
       "2025-03-06    235.33\n",
       "2025-03-05    235.74\n",
       "               ...  \n",
       "1999-11-05     88.31\n",
       "1999-11-04     83.62\n",
       "1999-11-03     81.50\n",
       "1999-11-02     80.25\n",
       "1999-11-01     77.62\n",
       "Name: AAPL, Length: 6378, dtype: float64"
      ]
     },
     "execution_count": 11,
     "metadata": {},
     "output_type": "execute_result"
    }
   ],
   "source": [
    "stock_final_data['AAPL']"
   ]
  },
  {
   "cell_type": "code",
   "execution_count": 12,
   "metadata": {
    "scrolled": true
   },
   "outputs": [
    {
     "data": {
      "text/plain": [
       "date\n",
       "2025-03-11    196.59\n",
       "2025-03-10    194.54\n",
       "2025-03-07    199.25\n",
       "2025-03-06    200.70\n",
       "2025-03-05    208.36\n",
       "               ...  \n",
       "1999-11-05     64.94\n",
       "1999-11-04     63.06\n",
       "1999-11-03     65.81\n",
       "1999-11-02     66.44\n",
       "1999-11-01     69.13\n",
       "Name: AMZN, Length: 6378, dtype: float64"
      ]
     },
     "execution_count": 12,
     "metadata": {},
     "output_type": "execute_result"
    }
   ],
   "source": [
    "stock_final_data['AMZN']"
   ]
  },
  {
   "cell_type": "code",
   "execution_count": 20,
   "metadata": {},
   "outputs": [
    {
     "data": {
      "text/html": [
       "<div>\n",
       "<style scoped>\n",
       "    .dataframe tbody tr th:only-of-type {\n",
       "        vertical-align: middle;\n",
       "    }\n",
       "\n",
       "    .dataframe tbody tr th {\n",
       "        vertical-align: top;\n",
       "    }\n",
       "\n",
       "    .dataframe thead th {\n",
       "        text-align: right;\n",
       "    }\n",
       "</style>\n",
       "<table border=\"1\" class=\"dataframe\">\n",
       "  <thead>\n",
       "    <tr style=\"text-align: right;\">\n",
       "      <th></th>\n",
       "      <th>AAPL</th>\n",
       "      <th>AMZN</th>\n",
       "    </tr>\n",
       "    <tr>\n",
       "      <th>date</th>\n",
       "      <th></th>\n",
       "      <th></th>\n",
       "    </tr>\n",
       "  </thead>\n",
       "  <tbody>\n",
       "    <tr>\n",
       "      <th>2025-03-11</th>\n",
       "      <td>220.84</td>\n",
       "      <td>196.59</td>\n",
       "    </tr>\n",
       "    <tr>\n",
       "      <th>2025-03-10</th>\n",
       "      <td>227.48</td>\n",
       "      <td>194.54</td>\n",
       "    </tr>\n",
       "    <tr>\n",
       "      <th>2025-03-07</th>\n",
       "      <td>239.07</td>\n",
       "      <td>199.25</td>\n",
       "    </tr>\n",
       "    <tr>\n",
       "      <th>2025-03-06</th>\n",
       "      <td>235.33</td>\n",
       "      <td>200.70</td>\n",
       "    </tr>\n",
       "    <tr>\n",
       "      <th>2025-03-05</th>\n",
       "      <td>235.74</td>\n",
       "      <td>208.36</td>\n",
       "    </tr>\n",
       "  </tbody>\n",
       "</table>\n",
       "</div>"
      ],
      "text/plain": [
       "              AAPL    AMZN\n",
       "date                      \n",
       "2025-03-11  220.84  196.59\n",
       "2025-03-10  227.48  194.54\n",
       "2025-03-07  239.07  199.25\n",
       "2025-03-06  235.33  200.70\n",
       "2025-03-05  235.74  208.36"
      ]
     },
     "execution_count": 20,
     "metadata": {},
     "output_type": "execute_result"
    }
   ],
   "source": [
    "stock_final_data.head()"
   ]
  },
  {
   "cell_type": "code",
   "execution_count": 18,
   "metadata": {},
   "outputs": [
    {
     "data": {
      "text/html": [
       "<div>\n",
       "<style scoped>\n",
       "    .dataframe tbody tr th:only-of-type {\n",
       "        vertical-align: middle;\n",
       "    }\n",
       "\n",
       "    .dataframe tbody tr th {\n",
       "        vertical-align: top;\n",
       "    }\n",
       "\n",
       "    .dataframe thead th {\n",
       "        text-align: right;\n",
       "    }\n",
       "</style>\n",
       "<table border=\"1\" class=\"dataframe\">\n",
       "  <thead>\n",
       "    <tr style=\"text-align: right;\">\n",
       "      <th></th>\n",
       "      <th>AAPL</th>\n",
       "      <th>AMZN</th>\n",
       "    </tr>\n",
       "    <tr>\n",
       "      <th>date</th>\n",
       "      <th></th>\n",
       "      <th></th>\n",
       "    </tr>\n",
       "  </thead>\n",
       "  <tbody>\n",
       "    <tr>\n",
       "      <th>1999-11-05</th>\n",
       "      <td>88.31</td>\n",
       "      <td>64.94</td>\n",
       "    </tr>\n",
       "    <tr>\n",
       "      <th>1999-11-04</th>\n",
       "      <td>83.62</td>\n",
       "      <td>63.06</td>\n",
       "    </tr>\n",
       "    <tr>\n",
       "      <th>1999-11-03</th>\n",
       "      <td>81.50</td>\n",
       "      <td>65.81</td>\n",
       "    </tr>\n",
       "    <tr>\n",
       "      <th>1999-11-02</th>\n",
       "      <td>80.25</td>\n",
       "      <td>66.44</td>\n",
       "    </tr>\n",
       "    <tr>\n",
       "      <th>1999-11-01</th>\n",
       "      <td>77.62</td>\n",
       "      <td>69.13</td>\n",
       "    </tr>\n",
       "  </tbody>\n",
       "</table>\n",
       "</div>"
      ],
      "text/plain": [
       "             AAPL   AMZN\n",
       "date                    \n",
       "1999-11-05  88.31  64.94\n",
       "1999-11-04  83.62  63.06\n",
       "1999-11-03  81.50  65.81\n",
       "1999-11-02  80.25  66.44\n",
       "1999-11-01  77.62  69.13"
      ]
     },
     "execution_count": 18,
     "metadata": {},
     "output_type": "execute_result"
    }
   ],
   "source": [
    "stock_final_data.tail()\n",
    "# how to print rows in between?"
   ]
  },
  {
   "cell_type": "code",
   "execution_count": null,
   "metadata": {},
   "outputs": [],
   "source": [
    "# Sort the data by 'date'\n",
    "stock_final_data = stock_final_data.sort_values(by='date')"
   ]
  },
  {
   "cell_type": "code",
   "execution_count": null,
   "metadata": {},
   "outputs": [],
   "source": [
    "stock_final_data.head()"
   ]
  },
  {
   "cell_type": "markdown",
   "metadata": {},
   "source": [
    "### Calculating the Log Returns:"
   ]
  },
  {
   "cell_type": "markdown",
   "metadata": {},
   "source": [
    "### Log Return:\n",
    "$$\n",
    "   Log\\_Return_t = Log(Price_t) - Log(Price_{t-1})\n",
    "$$\n",
    "\n",
    "Python code:\n",
    "log_ret = np.log(df) - np.log(df.shift(1))\n",
    "\n",
    "For more details, please refer to: https://www.allquant.co/post/magic-of-log-returns-concept-part-1 and https://www.allquant.co/post/magic-of-log-returns-practical-part-2"
   ]
  },
  {
   "cell_type": "code",
   "execution_count": 27,
   "metadata": {},
   "outputs": [
    {
     "data": {
      "text/html": [
       "<div>\n",
       "<style scoped>\n",
       "    .dataframe tbody tr th:only-of-type {\n",
       "        vertical-align: middle;\n",
       "    }\n",
       "\n",
       "    .dataframe tbody tr th {\n",
       "        vertical-align: top;\n",
       "    }\n",
       "\n",
       "    .dataframe thead th {\n",
       "        text-align: right;\n",
       "    }\n",
       "</style>\n",
       "<table border=\"1\" class=\"dataframe\">\n",
       "  <thead>\n",
       "    <tr style=\"text-align: right;\">\n",
       "      <th></th>\n",
       "      <th>AAPL</th>\n",
       "      <th>AMZN</th>\n",
       "    </tr>\n",
       "    <tr>\n",
       "      <th>date</th>\n",
       "      <th></th>\n",
       "      <th></th>\n",
       "    </tr>\n",
       "  </thead>\n",
       "  <tbody>\n",
       "    <tr>\n",
       "      <th>2025-03-11</th>\n",
       "      <td>NaN</td>\n",
       "      <td>NaN</td>\n",
       "    </tr>\n",
       "    <tr>\n",
       "      <th>2025-03-10</th>\n",
       "      <td>0.029624</td>\n",
       "      <td>-0.010483</td>\n",
       "    </tr>\n",
       "    <tr>\n",
       "      <th>2025-03-07</th>\n",
       "      <td>0.049694</td>\n",
       "      <td>0.023923</td>\n",
       "    </tr>\n",
       "    <tr>\n",
       "      <th>2025-03-06</th>\n",
       "      <td>-0.015768</td>\n",
       "      <td>0.007251</td>\n",
       "    </tr>\n",
       "    <tr>\n",
       "      <th>2025-03-05</th>\n",
       "      <td>0.001741</td>\n",
       "      <td>0.037456</td>\n",
       "    </tr>\n",
       "    <tr>\n",
       "      <th>...</th>\n",
       "      <td>...</td>\n",
       "      <td>...</td>\n",
       "    </tr>\n",
       "    <tr>\n",
       "      <th>1999-11-05</th>\n",
       "      <td>-0.087342</td>\n",
       "      <td>-0.183245</td>\n",
       "    </tr>\n",
       "    <tr>\n",
       "      <th>1999-11-04</th>\n",
       "      <td>-0.054571</td>\n",
       "      <td>-0.029377</td>\n",
       "    </tr>\n",
       "    <tr>\n",
       "      <th>1999-11-03</th>\n",
       "      <td>-0.025680</td>\n",
       "      <td>0.042685</td>\n",
       "    </tr>\n",
       "    <tr>\n",
       "      <th>1999-11-02</th>\n",
       "      <td>-0.015456</td>\n",
       "      <td>0.009527</td>\n",
       "    </tr>\n",
       "    <tr>\n",
       "      <th>1999-11-01</th>\n",
       "      <td>-0.033322</td>\n",
       "      <td>0.039690</td>\n",
       "    </tr>\n",
       "  </tbody>\n",
       "</table>\n",
       "<p>6378 rows × 2 columns</p>\n",
       "</div>"
      ],
      "text/plain": [
       "                AAPL      AMZN\n",
       "date                          \n",
       "2025-03-11       NaN       NaN\n",
       "2025-03-10  0.029624 -0.010483\n",
       "2025-03-07  0.049694  0.023923\n",
       "2025-03-06 -0.015768  0.007251\n",
       "2025-03-05  0.001741  0.037456\n",
       "...              ...       ...\n",
       "1999-11-05 -0.087342 -0.183245\n",
       "1999-11-04 -0.054571 -0.029377\n",
       "1999-11-03 -0.025680  0.042685\n",
       "1999-11-02 -0.015456  0.009527\n",
       "1999-11-01 -0.033322  0.039690\n",
       "\n",
       "[6378 rows x 2 columns]"
      ]
     },
     "execution_count": 27,
     "metadata": {},
     "output_type": "execute_result"
    }
   ],
   "source": [
    "# Method 1:\n",
    "stock_log_ret = np.log(stock_final_data) - np.log(stock_final_data.shift(1))\n",
    "stock_log_ret"
   ]
  },
  {
   "cell_type": "markdown",
   "metadata": {},
   "source": [
    "$$\n",
    "   Log\\_Return_t = Log(Price_t) - Log(Price_{t-1}) = Log(Price_t/Price_{t-1})\n",
    "$$"
   ]
  },
  {
   "cell_type": "code",
   "execution_count": 28,
   "metadata": {},
   "outputs": [],
   "source": [
    "# Method 2:\n",
    "stock_log_ret = np.log(stock_final_data/stock_final_data.shift(1))"
   ]
  },
  {
   "cell_type": "code",
   "execution_count": 29,
   "metadata": {},
   "outputs": [
    {
     "data": {
      "text/html": [
       "<div>\n",
       "<style scoped>\n",
       "    .dataframe tbody tr th:only-of-type {\n",
       "        vertical-align: middle;\n",
       "    }\n",
       "\n",
       "    .dataframe tbody tr th {\n",
       "        vertical-align: top;\n",
       "    }\n",
       "\n",
       "    .dataframe thead th {\n",
       "        text-align: right;\n",
       "    }\n",
       "</style>\n",
       "<table border=\"1\" class=\"dataframe\">\n",
       "  <thead>\n",
       "    <tr style=\"text-align: right;\">\n",
       "      <th></th>\n",
       "      <th>AAPL</th>\n",
       "      <th>AMZN</th>\n",
       "    </tr>\n",
       "    <tr>\n",
       "      <th>date</th>\n",
       "      <th></th>\n",
       "      <th></th>\n",
       "    </tr>\n",
       "  </thead>\n",
       "  <tbody>\n",
       "    <tr>\n",
       "      <th>2025-03-11</th>\n",
       "      <td>NaN</td>\n",
       "      <td>NaN</td>\n",
       "    </tr>\n",
       "    <tr>\n",
       "      <th>2025-03-10</th>\n",
       "      <td>0.029624</td>\n",
       "      <td>-0.010483</td>\n",
       "    </tr>\n",
       "    <tr>\n",
       "      <th>2025-03-07</th>\n",
       "      <td>0.049694</td>\n",
       "      <td>0.023923</td>\n",
       "    </tr>\n",
       "    <tr>\n",
       "      <th>2025-03-06</th>\n",
       "      <td>-0.015768</td>\n",
       "      <td>0.007251</td>\n",
       "    </tr>\n",
       "    <tr>\n",
       "      <th>2025-03-05</th>\n",
       "      <td>0.001741</td>\n",
       "      <td>0.037456</td>\n",
       "    </tr>\n",
       "    <tr>\n",
       "      <th>...</th>\n",
       "      <td>...</td>\n",
       "      <td>...</td>\n",
       "    </tr>\n",
       "    <tr>\n",
       "      <th>1999-11-05</th>\n",
       "      <td>-0.087342</td>\n",
       "      <td>-0.183245</td>\n",
       "    </tr>\n",
       "    <tr>\n",
       "      <th>1999-11-04</th>\n",
       "      <td>-0.054571</td>\n",
       "      <td>-0.029377</td>\n",
       "    </tr>\n",
       "    <tr>\n",
       "      <th>1999-11-03</th>\n",
       "      <td>-0.025680</td>\n",
       "      <td>0.042685</td>\n",
       "    </tr>\n",
       "    <tr>\n",
       "      <th>1999-11-02</th>\n",
       "      <td>-0.015456</td>\n",
       "      <td>0.009527</td>\n",
       "    </tr>\n",
       "    <tr>\n",
       "      <th>1999-11-01</th>\n",
       "      <td>-0.033322</td>\n",
       "      <td>0.039690</td>\n",
       "    </tr>\n",
       "  </tbody>\n",
       "</table>\n",
       "<p>6378 rows × 2 columns</p>\n",
       "</div>"
      ],
      "text/plain": [
       "                AAPL      AMZN\n",
       "date                          \n",
       "2025-03-11       NaN       NaN\n",
       "2025-03-10  0.029624 -0.010483\n",
       "2025-03-07  0.049694  0.023923\n",
       "2025-03-06 -0.015768  0.007251\n",
       "2025-03-05  0.001741  0.037456\n",
       "...              ...       ...\n",
       "1999-11-05 -0.087342 -0.183245\n",
       "1999-11-04 -0.054571 -0.029377\n",
       "1999-11-03 -0.025680  0.042685\n",
       "1999-11-02 -0.015456  0.009527\n",
       "1999-11-01 -0.033322  0.039690\n",
       "\n",
       "[6378 rows x 2 columns]"
      ]
     },
     "execution_count": 29,
     "metadata": {},
     "output_type": "execute_result"
    }
   ],
   "source": [
    "stock_log_ret"
   ]
  },
  {
   "cell_type": "markdown",
   "metadata": {},
   "source": [
    "### Calculating Expected Return \n",
    "\n",
    "Realized returns are often used as a proxy for expected returns. The use of average realized returns as a prxoy for expected returnes relies on a belief that information surprises tend to cancel out over the period of the study and realized returns are therefore an unbiased estimate of expected returns."
   ]
  },
  {
   "cell_type": "code",
   "execution_count": 23,
   "metadata": {},
   "outputs": [
    {
     "name": "stdout",
     "output_type": "stream",
     "text": [
      "The daily Expected Return is -0.01639663370668159%\n"
     ]
    }
   ],
   "source": [
    "# Daily Expected Return (i.e., mean of returns)\n",
    "aapl_er = stock_log_ret['AAPL'].mean()\n",
    "print(\"The daily Expected Return is \"+ str(aapl_er*100) + '%')"
   ]
  },
  {
   "cell_type": "code",
   "execution_count": null,
   "metadata": {},
   "outputs": [],
   "source": [
    "# Daily Expected Return (i.e., mean of returns)\n",
    "amzn_er = stock_log_ret['AMZN'].mean()\n",
    "print (str(amzn_er * 100) +'%')"
   ]
  },
  {
   "cell_type": "markdown",
   "metadata": {},
   "source": [
    "### Annualized Expected Return:"
   ]
  },
  {
   "cell_type": "markdown",
   "metadata": {},
   "source": [
    "### What is annualized return?\n",
    "\n",
    "Annualized return: Yearly rate of return inferred from any time period.\n",
    "\n",
    "(1) The annualized return is the return that an investment earns each year for a given period.\n",
    "\n",
    "(2) It is useful when comparing investments with different lengths of time."
   ]
  },
  {
   "cell_type": "markdown",
   "metadata": {},
   "source": [
    "### <font color='red'> Since we are using log returns, we do not need to compound it as log returns are already continuously compounded. We just need to multiply by the # of tradings days (assuming 252 trading days per year). </font>\n",
    "\n",
    "https://www.nyse.com/publicdocs/Trading_Days.pdf"
   ]
  },
  {
   "cell_type": "code",
   "execution_count": null,
   "metadata": {},
   "outputs": [],
   "source": [
    "# Annualized return for Apple\n",
    "aapl_ann_ret = aapl_er * 252\n",
    "print ('Annualized return is ' + str(aapl_ann_ret*100)+' %')"
   ]
  },
  {
   "cell_type": "code",
   "execution_count": null,
   "metadata": {},
   "outputs": [],
   "source": [
    "# Annualized return for Amazon\n",
    "amzn_ann_ret = amzn_er * 252\n",
    "print('Annualized return is ' + str(amzn_ann_ret*100)+' %')"
   ]
  },
  {
   "cell_type": "markdown",
   "metadata": {},
   "source": [
    "## Now let's work on portfolio"
   ]
  },
  {
   "cell_type": "markdown",
   "metadata": {},
   "source": [
    "### Learn a new Python function that we will use: \"np.array\""
   ]
  },
  {
   "cell_type": "markdown",
   "metadata": {},
   "source": [
    "#### Know more about the \"array\" function in Numpy:\n",
    "np.array: Create an array"
   ]
  },
  {
   "cell_type": "markdown",
   "metadata": {},
   "source": [
    "What is an array?\n",
    "https://2.bp.blogspot.com/-TUYyIovFJXc/VhU8CxS68tI/AAAAAAAAD6o/EblM_W5YdPs/w1200-h630-p-k-no-nu/What%2Bis%2Bin%2Barray.jpg"
   ]
  },
  {
   "cell_type": "code",
   "execution_count": null,
   "metadata": {},
   "outputs": [],
   "source": [
    "# Example of np.array\n",
    "import numpy as np\n",
    "np.array([0, 1, 2])"
   ]
  },
  {
   "cell_type": "markdown",
   "metadata": {},
   "source": [
    "### Now let's use \"np.array\" to calculate expected return of a portfolio"
   ]
  },
  {
   "cell_type": "code",
   "execution_count": null,
   "metadata": {},
   "outputs": [],
   "source": [
    "# Cacluated Expected Return of a Portfolio\n",
    "# Assuming an equally weighted portfolio\n",
    "portfolio_weights = np.array([0.5, 0.5])"
   ]
  },
  {
   "cell_type": "markdown",
   "metadata": {},
   "source": [
    "### Expected return of a portfolio\n",
    "\n",
    "\n",
    "$ Expected \\ Return \\ of \\ Portfolio = \\sum Expected \\ Return \\ of \\ Stock_i*Weight_i $\n"
   ]
  },
  {
   "cell_type": "code",
   "execution_count": null,
   "metadata": {},
   "outputs": [],
   "source": [
    "expected_return = np.sum( (stock_log_ret.mean() * portfolio_weights))\n",
    "expected_return"
   ]
  },
  {
   "cell_type": "code",
   "execution_count": null,
   "metadata": {},
   "outputs": [],
   "source": [
    "# Annualized return\n",
    "ann_return = expected_return*252\n",
    "ann_return"
   ]
  },
  {
   "cell_type": "markdown",
   "metadata": {},
   "source": [
    "### Calculate daily return of a portfolio"
   ]
  },
  {
   "cell_type": "code",
   "execution_count": null,
   "metadata": {},
   "outputs": [],
   "source": [
    "stock_port_ret = (stock_log_ret*portfolio_weights)"
   ]
  },
  {
   "cell_type": "code",
   "execution_count": null,
   "metadata": {},
   "outputs": [],
   "source": [
    "stock_port_ret"
   ]
  },
  {
   "cell_type": "code",
   "execution_count": null,
   "metadata": {},
   "outputs": [],
   "source": [
    "# df.loc[:,'New_Column'] = 'value' - You can use '.loc' with ':' to add a specified value for all rows.\n",
    "# https://www.re-thought.com/blog/how-to-add-new-columns-in-a-dataframe-in-pandas \n",
    "\n",
    "stock_port_ret.loc[:,'Portfolio']= stock_port_ret.sum(axis=1)\n",
    "\n",
    "\"\"\"\n",
    "pandas.DataFrame.sum(axis=1):\n",
    "to find the sum of all rows in DataFrame; \n",
    "axis=1 specifies that the sum will be done on the rows.\n",
    "\"\"\""
   ]
  },
  {
   "cell_type": "code",
   "execution_count": null,
   "metadata": {},
   "outputs": [],
   "source": [
    "stock_port_ret"
   ]
  },
  {
   "cell_type": "code",
   "execution_count": null,
   "metadata": {},
   "outputs": [],
   "source": [
    "ticker ='DIA'\n",
    "filename = ticker + '.csv'\n",
    "data, meta_data = ts.get_intraday(symbol=ticker, outputsize='full')\n",
    "data.to_csv(filename)\n",
    "data"
   ]
  },
  {
   "cell_type": "code",
   "execution_count": null,
   "metadata": {},
   "outputs": [],
   "source": [
    "market_return = data.sort_values(by='date')\n",
    "market_return = market_return['4. close']\n",
    "market_return = np.log(market_return/market_return.shift(1))\n",
    "market_return"
   ]
  },
  {
   "cell_type": "code",
   "execution_count": null,
   "metadata": {},
   "outputs": [],
   "source": [
    "market_return = market_return.drop(market_return.index[0])\n",
    "market_return"
   ]
  },
  {
   "cell_type": "code",
   "execution_count": null,
   "metadata": {},
   "outputs": [],
   "source": [
    "# Add the market return into stock_port_ret\n",
    "stock_port_ret['DIA'] = market_return"
   ]
  },
  {
   "cell_type": "code",
   "execution_count": null,
   "metadata": {},
   "outputs": [],
   "source": [
    "stock_port_ret = stock_port_ret.drop(stock_port_ret.index[0])"
   ]
  },
  {
   "cell_type": "code",
   "execution_count": null,
   "metadata": {},
   "outputs": [],
   "source": [
    "stock_port_ret"
   ]
  },
  {
   "cell_type": "markdown",
   "metadata": {},
   "source": [
    "---------------------------------------"
   ]
  },
  {
   "cell_type": "markdown",
   "metadata": {},
   "source": [
    "## Risk Measure: Standard Deviation"
   ]
  },
  {
   "cell_type": "markdown",
   "metadata": {},
   "source": [
    "### Variance"
   ]
  },
  {
   "cell_type": "code",
   "execution_count": null,
   "metadata": {},
   "outputs": [],
   "source": [
    "# Variance of a Single Stock\n",
    "aapl_variance = stock_log_ret['AAPL'].var()\n",
    "print(aapl_variance)"
   ]
  },
  {
   "cell_type": "markdown",
   "metadata": {},
   "source": [
    "### Standard Deviation\n"
   ]
  },
  {
   "cell_type": "code",
   "execution_count": null,
   "metadata": {},
   "outputs": [],
   "source": [
    "# Method 1:\n",
    "np.sqrt(aapl_variance) "
   ]
  },
  {
   "cell_type": "code",
   "execution_count": null,
   "metadata": {},
   "outputs": [],
   "source": [
    "# Method 2:\n",
    "stock_log_ret['AAPL'].std()"
   ]
  },
  {
   "cell_type": "markdown",
   "metadata": {},
   "source": [
    "## Variance of the Portfolio of Stocks"
   ]
  },
  {
   "cell_type": "markdown",
   "metadata": {},
   "source": [
    "$$\n",
    "Variance = (Weight_1)^2*Var_1 + (Weight_2)^2*Var_2 + 2*Weight_1*Weight_2*cov\n",
    "$$"
   ]
  },
  {
   "cell_type": "markdown",
   "metadata": {},
   "source": [
    "#### Method 1："
   ]
  },
  {
   "cell_type": "code",
   "execution_count": null,
   "metadata": {},
   "outputs": [],
   "source": [
    "portfolio_weights"
   ]
  },
  {
   "cell_type": "code",
   "execution_count": null,
   "metadata": {},
   "outputs": [],
   "source": [
    "stock_log_ret.cov()"
   ]
  },
  {
   "cell_type": "code",
   "execution_count": null,
   "metadata": {},
   "outputs": [],
   "source": [
    "#df.loc['row_label', 'column_label']\n",
    "stock_log_ret.cov().loc['AAPL','AMZN']"
   ]
  },
  {
   "cell_type": "code",
   "execution_count": null,
   "metadata": {},
   "outputs": [],
   "source": [
    "# variance of portfolio of 2 assets \n",
    "# = (weight_1)^2*var_1 + (weight_2)^2*var_2 + 2*weight_1*weight_2*cov_12\n",
    "\n",
    "port_var = portfolio_weights[0]**2 * stock_log_ret['AAPL'].var() + portfolio_weights[1]**2 * stock_log_ret['AMZN'].var() + 2*portfolio_weights[0]*portfolio_weights[1]*stock_log_ret.cov().loc['AAPL','AMZN']\n",
    "# loc: Access a group of rows and columns."
   ]
  },
  {
   "cell_type": "code",
   "execution_count": null,
   "metadata": {},
   "outputs": [],
   "source": [
    "port_var"
   ]
  },
  {
   "cell_type": "code",
   "execution_count": null,
   "metadata": {},
   "outputs": [],
   "source": [
    "# Annual variance\n",
    "print (port_var*252)"
   ]
  },
  {
   "cell_type": "code",
   "execution_count": null,
   "metadata": {},
   "outputs": [],
   "source": [
    "# Standard deviation\n",
    "port_std = np.sqrt(port_var*252)\n",
    "print(port_std)"
   ]
  },
  {
   "cell_type": "markdown",
   "metadata": {},
   "source": [
    "#### (Optional) Method 2：\n",
    "Cacluating using Matrixes, so you could easily use this for any number of assets.\n",
    "\n",
    "https://community.wolfram.com/c/portal/getImageAttachment?filename=var_covar_formula.gif&userId=196586\n",
    "\n",
    "portfolio variance = weight_vector' * cov matrix * weight_vector"
   ]
  },
  {
   "cell_type": "markdown",
   "metadata": {},
   "source": [
    "### Learn a new Python function that we will use: \"np.dot\""
   ]
  },
  {
   "cell_type": "markdown",
   "metadata": {},
   "source": [
    "#### Explain np.dot:\n",
    "\n",
    "What is dot product in Math: https://en.wikipedia.org/wiki/Dot_product\n",
    "\n",
    "In Python, np.dot: product of two arrays. To compute dot product of numpy arrays, you can use numpy.dot() function.\n",
    "\n",
    "For more information, please see https://numpy.org/doc/stable/reference/generated/numpy.dot.html"
   ]
  },
  {
   "cell_type": "code",
   "execution_count": null,
   "metadata": {},
   "outputs": [],
   "source": [
    "# Example of np.dot\n",
    "\n",
    "import numpy as np\n",
    "\n",
    "# Create two arrays\n",
    "A = np.array([2, 1, 5, 4])\n",
    "B = np.array([3, 4, 7, 8])\n",
    "\n",
    "# dot product\n",
    "output = np.dot(A, B)\n",
    "\n",
    "print(output)"
   ]
  },
  {
   "cell_type": "code",
   "execution_count": null,
   "metadata": {},
   "outputs": [],
   "source": [
    "\"\"\"\n",
    "output = [2, 1, 5, 4].[3, 4, 7, 8]\n",
    "       = 2*3 + 1*4 + 5*7 + 4*8\n",
    "       = 77\n",
    "\"\"\""
   ]
  },
  {
   "cell_type": "markdown",
   "metadata": {},
   "source": [
    "### Now let's use \"np.dot\" to calculate variance of a portfolio\n",
    "\n",
    "$ Variance = (Weight_1)^2*Var_1 + (Weight_2)^2*Var_2 + 2*Weight_1*Weight_2*cov $"
   ]
  },
  {
   "cell_type": "code",
   "execution_count": null,
   "metadata": {},
   "outputs": [],
   "source": [
    "stock_log_ret.cov()"
   ]
  },
  {
   "cell_type": "code",
   "execution_count": null,
   "metadata": {},
   "outputs": [],
   "source": [
    "portfolio_weights"
   ]
  },
  {
   "cell_type": "code",
   "execution_count": null,
   "metadata": {},
   "outputs": [],
   "source": [
    "# port_var_mat = np.dot(np.dot(A, B), A.T)\n",
    "# numpy.T, Returns an array with axes transposed, View of the transposed array.\n",
    "# https://numpy.org/doc/stable/reference/generated/numpy.ndarray.T.html\n",
    "port_var_mat = np.dot(np.dot(portfolio_weights, stock_log_ret.cov()), portfolio_weights.T)\n",
    "print (port_var_mat)"
   ]
  },
  {
   "cell_type": "code",
   "execution_count": null,
   "metadata": {},
   "outputs": [],
   "source": [
    "# Alternative:\n",
    "port_var_mat = np.dot(portfolio_weights.T, np.dot(stock_log_ret.cov(), portfolio_weights))\n",
    "print (port_var_mat)"
   ]
  },
  {
   "cell_type": "code",
   "execution_count": null,
   "metadata": {},
   "outputs": [],
   "source": [
    "# Annual variance\n",
    "print (port_var*252)"
   ]
  },
  {
   "cell_type": "code",
   "execution_count": null,
   "metadata": {},
   "outputs": [],
   "source": [
    "# Standard deviation\n",
    "np.sqrt(port_var_mat*252)"
   ]
  },
  {
   "cell_type": "markdown",
   "metadata": {},
   "source": [
    "## Risk Measure: Beta (optional, for advanced students, not to cover in class)\n",
    "\n",
    "### Beta\n",
    "\n",
    "We have a portfolio called \"p\", which includes Apple and Amazon. We have a market index called \"m\". $ B_p $ is Beta for Portfolio p. Using CAPM, we have the following\n",
    "\n",
    "$\n",
    "E (R_p) = R_f + B_p [ E (R_m) - R_f]\n",
    "$\n",
    "\n",
    "That is, Expected Return of Portfolio = Risk-free Rate + Beta*(Expected Return of Market - Risk-free Rate)\n",
    "\n",
    "Therefore we can cacluate Beta $ B_p $ using\n",
    "\n",
    "$\n",
    "B_p = [E (R_p) - R_f] / [ E (R_m) - R_f]\n",
    "$"
   ]
  },
  {
   "cell_type": "markdown",
   "metadata": {},
   "source": [
    "## Using regressions to obtain Beta\n",
    "\n",
    "To be simple, let's assume $ R_f = 0 $ for now:   \n",
    "$\n",
    "E (R_p)  = R_f + B_p [ E (R_m) - R_f] =  B_p*E (R_m)\n",
    "$\n",
    "\n",
    "\n",
    "Now let's use a simple linear regression: $ Y = \\alpha + \\beta X + \\epsilon $, where $ Y $ is $ R_p $, $ X $ is $ R_m $, and $ \\beta $ is $ B_p $.\n",
    "\n",
    "So we will run a regression below:\n",
    "\n",
    "$\n",
    "R_p = \\alpha + B_p * R_m + \\epsilon\n",
    "$"
   ]
  },
  {
   "cell_type": "markdown",
   "metadata": {},
   "source": [
    "### Run regressions in Python: use statsmodels module\n",
    "\n",
    "statsmodels is a Python module that provides classes and functions for the estimation of many different statistical models, as well as for conducting statistical tests, and statistical data exploration.\n",
    "\n",
    "https://www.statsmodels.org/stable/install.html"
   ]
  },
  {
   "cell_type": "code",
   "execution_count": null,
   "metadata": {},
   "outputs": [],
   "source": [
    "# Install statsmodels\n",
    "!pip install statsmodels"
   ]
  },
  {
   "cell_type": "code",
   "execution_count": null,
   "metadata": {},
   "outputs": [],
   "source": [
    "# import statsmodels API\n",
    "import statsmodels.api as sm\n",
    "\n",
    "\"\"\"\n",
    "statsmodels.api: Cross-sectional models and methods.\n",
    "The API focuses on models and the most frequently used statistical test, \n",
    "and tools.\n",
    "Canonically imported using import statsmodels.api as sm.\n",
    "\"\"\""
   ]
  },
  {
   "cell_type": "markdown",
   "metadata": {},
   "source": [
    "### Regression Code:"
   ]
  },
  {
   "cell_type": "code",
   "execution_count": null,
   "metadata": {
    "scrolled": true
   },
   "outputs": [],
   "source": [
    "# X is the market index return\n",
    "X = stock_port_ret['AAPL']\n",
    "\n",
    "# y is the portfolio return\n",
    "y = stock_port_ret['Portfolio']\n",
    "\n",
    "# Add a constant in the regression model\n",
    "# An intercept is not included by default and should be added by the user\n",
    "X1 = sm.add_constant(X)\n",
    "\n",
    "# Regression model\n",
    "# OLS: Ordinary Least Squares\n",
    "model = sm.OLS(y,X1)\n",
    "\n",
    "# Fit the model and print results\n",
    "results = model.fit()\n",
    "print(results.summary())"
   ]
  },
  {
   "cell_type": "code",
   "execution_count": null,
   "metadata": {},
   "outputs": [],
   "source": [
    "print(results.params)"
   ]
  },
  {
   "cell_type": "code",
   "execution_count": null,
   "metadata": {},
   "outputs": [],
   "source": [
    "beta = results.params[1]\n",
    "print('Beta is ' + str(beta))"
   ]
  },
  {
   "cell_type": "code",
   "execution_count": null,
   "metadata": {},
   "outputs": [],
   "source": [
    "print('R2: ', results.rsquared)"
   ]
  },
  {
   "cell_type": "code",
   "execution_count": null,
   "metadata": {},
   "outputs": [],
   "source": []
  },
  {
   "cell_type": "markdown",
   "metadata": {},
   "source": [
    "## Sharpe Ratio \n",
    "\n",
    "Assume the risk-free rate is 0%\n",
    "\n",
    "Formula and Calculation for Sharpe Ratio\n",
    "\\begin{aligned} &\\textit{Sharpe Ratio} = \\frac{R_p - R_f}{\\sigma_p}\\\\ &\\textbf{where:}\\\\ &R_{p}=\\text{return of portfolio}\\\\ &R_{f} = \\text{risk-free rate}\\\\ &\\sigma_p = \\text{standard deviation of the portfolio's excess return}\\\\ \\end{aligned} "
   ]
  },
  {
   "cell_type": "code",
   "execution_count": null,
   "metadata": {},
   "outputs": [],
   "source": [
    "sharpe = (ann_return - 0)/port_std\n",
    "print(sharpe)"
   ]
  },
  {
   "cell_type": "markdown",
   "metadata": {},
   "source": [
    "### Treynor Ratio\n",
    "\n",
    "The Formula for the Treynor Ratio is:\n",
    "\\begin{aligned} &\\text{Treynor Ratio}=\\frac{R_p - R_f}{\\beta_p}\\\\ &\\textbf{where:}\\\\ &R_p = \\text{Portfolio return}\\\\ &R_f = \\text{Risk-free rate}\\\\ &\\beta_p = \\text{Beta of the portfolio}\\\\ \\end{aligned} "
   ]
  },
  {
   "cell_type": "code",
   "execution_count": null,
   "metadata": {},
   "outputs": [],
   "source": [
    "treynor = (ann_return - 0)/beta\n",
    "print(treynor)"
   ]
  },
  {
   "cell_type": "code",
   "execution_count": null,
   "metadata": {},
   "outputs": [],
   "source": []
  }
 ],
 "metadata": {
  "kernelspec": {
   "display_name": "Python 3",
   "language": "python",
   "name": "python3"
  },
  "language_info": {
   "codemirror_mode": {
    "name": "ipython",
    "version": 3
   },
   "file_extension": ".py",
   "mimetype": "text/x-python",
   "name": "python",
   "nbconvert_exporter": "python",
   "pygments_lexer": "ipython3",
   "version": "3.13.0"
  }
 },
 "nbformat": 4,
 "nbformat_minor": 4
}
